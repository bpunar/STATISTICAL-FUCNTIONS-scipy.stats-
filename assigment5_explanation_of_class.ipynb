{
  "cells": [
    {
      "cell_type": "markdown",
      "metadata": {
        "id": "view-in-github",
        "colab_type": "text"
      },
      "source": [
        "<a href=\"https://colab.research.google.com/github/bpunar/STATISTICAL-FUCNTIONS-scipy.stats-/blob/main/assigment5_explanation_of_class.ipynb\" target=\"_parent\"><img src=\"https://colab.research.google.com/assets/colab-badge.svg\" alt=\"Open In Colab\"/></a>"
      ]
    },
    {
      "cell_type": "code",
      "execution_count": null,
      "metadata": {
        "id": "uGPrVuGr3Xpa",
        "outputId": "214713d9-6b1f-43f7-8ba9-d68952b049d5"
      },
      "outputs": [
        {
          "name": "stdout",
          "output_type": "stream",
          "text": [
            "\u001b[31mERROR: Could not find a version that satisfies the requirement math (from versions: none)\u001b[0m\u001b[31m\r\n",
            "\u001b[0m\u001b[31mERROR: No matching distribution found for math\u001b[0m\u001b[31m\r\n",
            "\u001b[0m"
          ]
        }
      ],
      "source": [
        "!pip install math"
      ]
    },
    {
      "cell_type": "code",
      "execution_count": null,
      "metadata": {
        "id": "xNUjgFIr3Xpr",
        "outputId": "23a50b34-7c8b-4a3d-b084-f6243566fedc"
      },
      "outputs": [
        {
          "name": "stdout",
          "output_type": "stream",
          "text": [
            "Collecting seaborn\n",
            "  Downloading seaborn-0.11.2-py3-none-any.whl (292 kB)\n",
            "\u001b[2K     \u001b[90m━━━━━━━━━━━━━━━━━━━━━━━━━━━━━━━━━━━━━━━\u001b[0m \u001b[32m292.8/292.8 KB\u001b[0m \u001b[31m1.3 MB/s\u001b[0m eta \u001b[36m0:00:00\u001b[0m00:01\u001b[0m00:01\u001b[0m\n",
            "\u001b[?25hCollecting pandas>=0.23\n",
            "  Downloading pandas-1.4.1-cp39-cp39-macosx_10_9_x86_64.whl (11.5 MB)\n",
            "\u001b[2K     \u001b[90m━━━━━━━━━━━━━━━━━━━━━━━━━━━━━━━━━━━━━━━━\u001b[0m \u001b[32m11.5/11.5 MB\u001b[0m \u001b[31m3.0 MB/s\u001b[0m eta \u001b[36m0:00:00\u001b[0m00:01\u001b[0m00:01\u001b[0m\n",
            "\u001b[?25hRequirement already satisfied: numpy>=1.15 in /Library/Frameworks/Python.framework/Versions/3.9/lib/python3.9/site-packages (from seaborn) (1.22.2)\n",
            "Requirement already satisfied: scipy>=1.0 in /Library/Frameworks/Python.framework/Versions/3.9/lib/python3.9/site-packages (from seaborn) (1.8.0)\n",
            "Requirement already satisfied: matplotlib>=2.2 in /Library/Frameworks/Python.framework/Versions/3.9/lib/python3.9/site-packages (from seaborn) (3.5.1)\n",
            "Requirement already satisfied: python-dateutil>=2.7 in /Library/Frameworks/Python.framework/Versions/3.9/lib/python3.9/site-packages (from matplotlib>=2.2->seaborn) (2.8.2)\n",
            "Requirement already satisfied: pillow>=6.2.0 in /Library/Frameworks/Python.framework/Versions/3.9/lib/python3.9/site-packages (from matplotlib>=2.2->seaborn) (9.0.1)\n",
            "Requirement already satisfied: kiwisolver>=1.0.1 in /Library/Frameworks/Python.framework/Versions/3.9/lib/python3.9/site-packages (from matplotlib>=2.2->seaborn) (1.3.2)\n",
            "Requirement already satisfied: cycler>=0.10 in /Library/Frameworks/Python.framework/Versions/3.9/lib/python3.9/site-packages (from matplotlib>=2.2->seaborn) (0.11.0)\n",
            "Requirement already satisfied: pyparsing>=2.2.1 in /Library/Frameworks/Python.framework/Versions/3.9/lib/python3.9/site-packages (from matplotlib>=2.2->seaborn) (3.0.7)\n",
            "Requirement already satisfied: packaging>=20.0 in /Library/Frameworks/Python.framework/Versions/3.9/lib/python3.9/site-packages (from matplotlib>=2.2->seaborn) (21.3)\n",
            "Requirement already satisfied: fonttools>=4.22.0 in /Library/Frameworks/Python.framework/Versions/3.9/lib/python3.9/site-packages (from matplotlib>=2.2->seaborn) (4.29.1)\n",
            "Collecting pytz>=2020.1\n",
            "  Downloading pytz-2021.3-py2.py3-none-any.whl (503 kB)\n",
            "\u001b[2K     \u001b[90m━━━━━━━━━━━━━━━━━━━━━━━━━━━━━━━━━━━━━━━\u001b[0m \u001b[32m503.5/503.5 KB\u001b[0m \u001b[31m2.6 MB/s\u001b[0m eta \u001b[36m0:00:00\u001b[0m00:01\u001b[0m00:01\u001b[0m\n",
            "\u001b[?25hRequirement already satisfied: six>=1.5 in /Library/Frameworks/Python.framework/Versions/3.9/lib/python3.9/site-packages (from python-dateutil>=2.7->matplotlib>=2.2->seaborn) (1.16.0)\n",
            "Installing collected packages: pytz, pandas, seaborn\n",
            "Successfully installed pandas-1.4.1 pytz-2021.3 seaborn-0.11.2\n",
            "Note: you may need to restart the kernel to use updated packages.\n"
          ]
        }
      ],
      "source": [
        "pip install seaborn"
      ]
    },
    {
      "cell_type": "code",
      "execution_count": null,
      "metadata": {
        "id": "fMLDGHwA3Xpu",
        "outputId": "6cfbe2e8-7f07-4149-faaa-dad4db84213d"
      },
      "outputs": [
        {
          "name": "stdout",
          "output_type": "stream",
          "text": [
            "\u001b[31mERROR: Could not find a version that satisfies the requirement warnings (from versions: none)\u001b[0m\u001b[31m\r\n",
            "\u001b[0m\u001b[31mERROR: No matching distribution found for warnings\u001b[0m\u001b[31m\r\n",
            "\u001b[0m"
          ]
        }
      ],
      "source": [
        "!pip install warnings"
      ]
    },
    {
      "cell_type": "code",
      "execution_count": null,
      "metadata": {
        "id": "hZ2qIxI03Xpw",
        "outputId": "cdc3378e-368d-4b95-8d12-20281f496e0e"
      },
      "outputs": [
        {
          "name": "stdout",
          "output_type": "stream",
          "text": [
            "Collecting numpy\n",
            "  Downloading numpy-1.22.2-cp39-cp39-macosx_10_14_x86_64.whl (17.6 MB)\n",
            "\u001b[2K     \u001b[90m━━━━━━━━━━━━━━━━━━━━━━━━━━━━━━━━━━━━━━━━\u001b[0m \u001b[32m17.6/17.6 MB\u001b[0m \u001b[31m3.9 MB/s\u001b[0m eta \u001b[36m0:00:00\u001b[0m00:01\u001b[0m00:01\u001b[0m\n",
            "\u001b[?25hInstalling collected packages: numpy\n",
            "Successfully installed numpy-1.22.2\n",
            "Note: you may need to restart the kernel to use updated packages.\n"
          ]
        }
      ],
      "source": [
        "pip install numpy"
      ]
    },
    {
      "cell_type": "code",
      "execution_count": null,
      "metadata": {
        "id": "CIMaOa3s3XqA",
        "outputId": "6811223e-54ee-489e-8c10-80fbe9dddc90"
      },
      "outputs": [
        {
          "name": "stdout",
          "output_type": "stream",
          "text": [
            "Collecting scipy\n",
            "  Downloading scipy-1.8.0-cp39-cp39-macosx_12_0_universal2.macosx_10_9_x86_64.whl (55.6 MB)\n",
            "\u001b[2K     \u001b[90m━━━━━━━━━━━━━━━━━━━━━━━━━━━━━━━━━━━━━━━━\u001b[0m \u001b[32m55.6/55.6 MB\u001b[0m \u001b[31m2.6 MB/s\u001b[0m eta \u001b[36m0:00:00\u001b[0m00:01\u001b[0m00:01\u001b[0m\n",
            "\u001b[?25hRequirement already satisfied: numpy<1.25.0,>=1.17.3 in /Library/Frameworks/Python.framework/Versions/3.9/lib/python3.9/site-packages (from scipy) (1.22.2)\n",
            "Installing collected packages: scipy\n",
            "Successfully installed scipy-1.8.0\n",
            "Note: you may need to restart the kernel to use updated packages.\n"
          ]
        }
      ],
      "source": [
        "pip install scipy"
      ]
    },
    {
      "cell_type": "code",
      "execution_count": null,
      "metadata": {
        "id": "5KeKGcg23XqE",
        "outputId": "735e33d8-a76b-48aa-93b4-b947f4f9e871"
      },
      "outputs": [
        {
          "name": "stdout",
          "output_type": "stream",
          "text": [
            "Collecting panda\n",
            "  Downloading panda-0.3.1.tar.gz (5.8 kB)\n",
            "  Preparing metadata (setup.py) ... \u001b[?25ldone\n",
            "\u001b[?25hRequirement already satisfied: setuptools in /Library/Frameworks/Python.framework/Versions/3.9/lib/python3.9/site-packages (from panda) (57.4.0)\n",
            "Collecting requests\n",
            "  Downloading requests-2.27.1-py2.py3-none-any.whl (63 kB)\n",
            "\u001b[2K     \u001b[90m━━━━━━━━━━━━━━━━━━━━━━━━━━━━━━━━━━━━━━━\u001b[0m \u001b[32m63.1/63.1 KB\u001b[0m \u001b[31m511.4 kB/s\u001b[0m eta \u001b[36m0:00:00\u001b[0ma \u001b[36m0:00:01\u001b[0m\n",
            "\u001b[?25hCollecting certifi>=2017.4.17\n",
            "  Downloading certifi-2021.10.8-py2.py3-none-any.whl (149 kB)\n",
            "\u001b[2K     \u001b[90m━━━━━━━━━━━━━━━━━━━━━━━━━━━━━━━━━━━━━━━\u001b[0m \u001b[32m149.2/149.2 KB\u001b[0m \u001b[31m1.5 MB/s\u001b[0m eta \u001b[36m0:00:00\u001b[0ma \u001b[36m0:00:01\u001b[0m\n",
            "\u001b[?25hCollecting idna<4,>=2.5\n",
            "  Downloading idna-3.3-py3-none-any.whl (61 kB)\n",
            "\u001b[2K     \u001b[90m━━━━━━━━━━━━━━━━━━━━━━━━━━━━━━━━━━━━━━━━\u001b[0m \u001b[32m61.2/61.2 KB\u001b[0m \u001b[31m2.9 MB/s\u001b[0m eta \u001b[36m0:00:00\u001b[0m\n",
            "\u001b[?25hCollecting charset-normalizer~=2.0.0\n",
            "  Downloading charset_normalizer-2.0.12-py3-none-any.whl (39 kB)\n",
            "Collecting urllib3<1.27,>=1.21.1\n",
            "  Downloading urllib3-1.26.8-py2.py3-none-any.whl (138 kB)\n",
            "\u001b[2K     \u001b[90m━━━━━━━━━━━━━━━━━━━━━━━━━━━━━━━━━━━━━━━\u001b[0m \u001b[32m138.7/138.7 KB\u001b[0m \u001b[31m2.2 MB/s\u001b[0m eta \u001b[36m0:00:00\u001b[0ma \u001b[36m0:00:01\u001b[0m\n",
            "\u001b[?25hBuilding wheels for collected packages: panda\n",
            "  Building wheel for panda (setup.py) ... \u001b[?25ldone\n",
            "\u001b[?25h  Created wheel for panda: filename=panda-0.3.1-py3-none-any.whl size=7256 sha256=0d4f14e50ff6336fa609f31f1f1075de74d32958fd082bb668b1b09a7169f9ce\n",
            "  Stored in directory: /Users/emine/Library/Caches/pip/wheels/6c/5a/a9/a28c87238ddcc61701224f538bedccc21c9e2b8bc6fa8fca0e\n",
            "Successfully built panda\n",
            "Installing collected packages: certifi, urllib3, idna, charset-normalizer, requests, panda\n",
            "Successfully installed certifi-2021.10.8 charset-normalizer-2.0.12 idna-3.3 panda-0.3.1 requests-2.27.1 urllib3-1.26.8\n",
            "Note: you may need to restart the kernel to use updated packages.\n"
          ]
        }
      ],
      "source": [
        "pip install panda"
      ]
    },
    {
      "cell_type": "code",
      "execution_count": null,
      "metadata": {
        "id": "itMuATLe3XqG",
        "outputId": "995d7578-53d0-4a88-aaa6-a09c50407fb7"
      },
      "outputs": [
        {
          "name": "stdout",
          "output_type": "stream",
          "text": [
            "Collecting matplotlib\n",
            "  Downloading matplotlib-3.5.1-cp39-cp39-macosx_10_9_x86_64.whl (7.3 MB)\n",
            "\u001b[2K     \u001b[90m━━━━━━━━━━━━━━━━━━━━━━━━━━━━━━━━━━━━━━━━\u001b[0m \u001b[32m7.3/7.3 MB\u001b[0m \u001b[31m3.5 MB/s\u001b[0m eta \u001b[36m0:00:00\u001b[0m00:01\u001b[0m00:01\u001b[0m\n",
            "\u001b[?25hRequirement already satisfied: packaging>=20.0 in /Library/Frameworks/Python.framework/Versions/3.9/lib/python3.9/site-packages (from matplotlib) (21.3)\n",
            "Requirement already satisfied: python-dateutil>=2.7 in /Library/Frameworks/Python.framework/Versions/3.9/lib/python3.9/site-packages (from matplotlib) (2.8.2)\n",
            "Collecting pillow>=6.2.0\n",
            "  Downloading Pillow-9.0.1-cp39-cp39-macosx_10_10_x86_64.whl (3.0 MB)\n",
            "\u001b[2K     \u001b[90m━━━━━━━━━━━━━━━━━━━━━━━━━━━━━━━━━━━━━━━━\u001b[0m \u001b[32m3.0/3.0 MB\u001b[0m \u001b[31m3.2 MB/s\u001b[0m eta \u001b[36m0:00:00\u001b[0m00:01\u001b[0m00:01\u001b[0mm\n",
            "\u001b[?25hCollecting fonttools>=4.22.0\n",
            "  Downloading fonttools-4.29.1-py3-none-any.whl (895 kB)\n",
            "\u001b[2K     \u001b[90m━━━━━━━━━━━━━━━━━━━━━━━━━━━━━━━━━━━━━━━\u001b[0m \u001b[32m895.5/895.5 KB\u001b[0m \u001b[31m3.6 MB/s\u001b[0m eta \u001b[36m0:00:00\u001b[0m00:01\u001b[0m00:01\u001b[0m\n",
            "\u001b[?25hCollecting cycler>=0.10\n",
            "  Downloading cycler-0.11.0-py3-none-any.whl (6.4 kB)\n",
            "Requirement already satisfied: numpy>=1.17 in /Library/Frameworks/Python.framework/Versions/3.9/lib/python3.9/site-packages (from matplotlib) (1.22.2)\n",
            "Requirement already satisfied: pyparsing>=2.2.1 in /Library/Frameworks/Python.framework/Versions/3.9/lib/python3.9/site-packages (from matplotlib) (3.0.7)\n",
            "Collecting kiwisolver>=1.0.1\n",
            "  Downloading kiwisolver-1.3.2-cp39-cp39-macosx_10_9_x86_64.whl (61 kB)\n",
            "\u001b[2K     \u001b[90m━━━━━━━━━━━━━━━━━━━━━━━━━━━━━━━━━━━━━━━━\u001b[0m \u001b[32m61.8/61.8 KB\u001b[0m \u001b[31m2.3 MB/s\u001b[0m eta \u001b[36m0:00:00\u001b[0m\n",
            "\u001b[?25hRequirement already satisfied: six>=1.5 in /Library/Frameworks/Python.framework/Versions/3.9/lib/python3.9/site-packages (from python-dateutil>=2.7->matplotlib) (1.16.0)\n",
            "Installing collected packages: pillow, kiwisolver, fonttools, cycler, matplotlib\n",
            "Successfully installed cycler-0.11.0 fonttools-4.29.1 kiwisolver-1.3.2 matplotlib-3.5.1 pillow-9.0.1\n"
          ]
        }
      ],
      "source": [
        "!pip install matplotlib\n",
        "\n"
      ]
    },
    {
      "cell_type": "markdown",
      "metadata": {
        "id": "8elcgDRjKXXT"
      },
      "source": [
        "EXERCISE 1. The hourly wages in a particular industry are normally distributed with mean $13.20 and standard deviation $2.50. A company in this industry employs 40 workers, paying them an average of $12.20 per hour. Can this company be accused of paying substandard wages? Use an α = .01 level test. (Wackerly, Ex.10.18)\n",
        "\n",
        "Belirli bir sektördeki saatlik ücretler normal olarak ortalama 13,20𝑣𝑒𝑠𝑡𝑎𝑛𝑑𝑎𝑟𝑡𝑠𝑎𝑝𝑚𝑎2,50 ile dağıtılır. Bu sektördeki bir şirket 40 işçi çalıştırıyor ve onlara saatte ortalama 12,20 dolar ödüyor. Bu şirket standartların altında ücret ödemekle suçlanabilir mi? Bir α = .01 seviye testi kullanın.\n",
        "\n",
        "EXERCISE 2.Shear strength measurements derived from unconfined compression tests for two types of soils gave the results shown in the following document (measurements in tons per square foot). Do the soils appear to differ with respect to average shear strength, at the 1% significance level?\n",
        "\n",
        "İki tip zemin için serbest basınç deneylerinden elde edilen kesme mukavemeti ölçümleri, aşağıdaki belgede gösterilen sonuçları vermiştir (metre kare başına ton cinsinden ölçümler). Zeminler, %1 anlamlılık düzeyinde ortalama kesme dayanımına göre farklılık gösteriyor mu\n",
        "\n",
        "\n",
        "\n",
        "Results for two type of soils\n",
        "\n",
        "EXERCISE 3. The following dataset is based on data provided by the World Bank (https://datacatalog.worldbank.org/dataset/education-statistics). World Bank Edstats.  2015 PISA Test Dataset\n",
        "\n",
        "Get descriptive statistics (the central tendency, dispersion and shape of a dataset’s distribution) for each continent group (AS, EU, AF, NA, SA, OC).\n",
        "\n",
        "Determine whether there is any difference (on the average) for the math scores among European (EU) and Asian (AS) countries (assume normality and equal variances). Draw side-by-side box plots.\n",
        "\n",
        "Her kıta grubu (AS, EU, AF, NA, SA, OC) için tanımlayıcı istatistikleri (bir veri kümesinin dağılımının merkezi eğilimi, dağılımı ve şekli) alın. Avrupa (AB) ve Asya (AS) ülkeleri arasında matematik puanları için (ortalama olarak) herhangi bir fark olup olmadığını belirleyin (normallik ve eşit varyanslar varsayalım).\n",
        "\n",
        "EXERCISE 4.The sample dataset has placement test scores (out of 100 points) for four subject areas: English, Reading, Math, and Writing. Students in the sample completed all 4 placement tests when they enrolled in the university. Suppose we are particularly interested in the English and Math sections, and want to determine whether students tended to score higher on their English or Math test, on average. We could use a paired t test to test if there was a significant difference in the average of the two tests.\n",
        "\n",
        "Örnek veri kümesi, dört konu alanı için (100 puan üzerinden) yerleştirme testi puanlarına sahiptir: İngilizce, Okuma, Matematik ve Yazma. Örneklemdeki öğrenciler, üniversiteye kayıt olduklarında 4 yerleştirme sınavının hepsini tamamlamıştır. Özellikle İngilizce ve Matematik bölümleriyle ilgilendiğimizi ve öğrencilerin İngilizce veya Matematik sınavlarında ortalama olarak daha yüksek puan alıp almadıklarını belirlemek istediğimizi varsayalım. İki testin ortalamasında anlamlı bir fark olup olmadığını test etmek için eşleştirilmiş bir t testi kullanabiliriz."
      ]
    },
    {
      "cell_type": "code",
      "execution_count": null,
      "metadata": {
        "id": "closing-control"
      },
      "outputs": [],
      "source": [
        "import pandas as pd\n",
        "import numpy as np\n",
        "import seaborn as sns\n",
        "import scipy as sp\n",
        "from scipy import stats\n",
        "import math\n",
        "import matplotlib.pyplot as plt\n",
        "import warnings\n",
        "warnings.filterwarnings(\"ignore\")"
      ]
    },
    {
      "cell_type": "markdown",
      "metadata": {
        "id": "WPGs4eeP3Xqa"
      },
      "source": [
        "## A. Types of tests"
      ]
    },
    {
      "cell_type": "markdown",
      "metadata": {
        "id": "DFdUnH7t3Xqd"
      },
      "source": [
        "### A.1. One-sample test:"
      ]
    },
    {
      "cell_type": "markdown",
      "metadata": {
        "id": "tJXIMhMr3Xqg"
      },
      "source": [
        "**Önceden ortalaması bilinen bir dağılım ile elimizdeki örneklemi karşılaştırmak için kullanılır.  Aynı zamanda elde edilen örneklemin var sayılan bir dağılımdan fark gösterip göstermediğini test etmek için de uygulanabilir.**\n",
        "\n",
        "\n",
        "Test this null hypothesis : tedavi grubu için popülasyon ortalaması, bilinen değerden önemli ölçüde farklı değil x. \n",
        "**(Ho : μ = x)**\n",
        "\n",
        "The alternative hypothesis: popülasyon ortalaması c'ye eşit değil veya\n",
        "**(H1: μ ≠ c)**\n",
        "\n",
        "\n",
        "Example: Işığın boşluktaki hızı c, iyi bilinen bir doğa sabitidir. (Aslında evrenin her yerinde aynıdır.) Işığın sudaki hızının ölçümleri alınır. Işığın sudaki hızının, ışığın boşluktaki hızından önemli ölçüde farklı olmadığı sıfır hipotezini test edin."
      ]
    },
    {
      "cell_type": "markdown",
      "metadata": {
        "id": "Z70zDpWX3Xqj"
      },
      "source": [
        "### A.2. Paired Two-sample test (dependent):"
      ]
    },
    {
      "cell_type": "markdown",
      "metadata": {
        "id": "JYcSImIB3Xqp"
      },
      "source": [
        "Bu test, **bir grup insana aynı anketi iki kez verdiğiniz zaman içindir.** Eşleştirilmiş bir t-testi, birinci ve ikinci anket arasında ortalamanın değişip değişmediğini size bildirir.\n",
        "\n",
        "En tipik örneği aynı deneğin birden fazla teste tabi tutulduğu durumlarda ilk örnek ile sonraki örneklerin karşılaştırılması için kullanılmasıdır. Örneğin bir tedavi protokolü başlamadan önce kilosu ölçülen hastaların tedavi bitiminde ölçülen kilosu ile karşılaştırılması için bağımlı örneklem t-testi uygulanır. Bağımsız örneklem testinden farkı önce ve sonra değerlerinin her denek için eşleştirilerek aradaki farkın tüm örneklem için istatistiki oalrak bir fark gözetip gözetmediğinin incelenmesidir. İki farklı normal dağılımdan çekilmiş iki farklı örneklem olduğu varsayılmaz. Tek bir normal dağılımdan elde edilen bir örneklem test edilir.\n",
        "\n",
        "**Bu test, BİR GRUP İNSANA AYNI ANKETE İKİ KEZ VERDİĞİNİZ zaman içindir. Eşleştirilmiş bir t-testi, birinci ve ikinci anket arasında ortalamanın değişip değişmediğini size bildirir**\n",
        "\n",
        "**İki tedavi grubundaki denekler arasında doğal bire bir eşleşme olduğunda eşleştirilmiş örnek testi kullanın.** \n",
        "\n",
        "Bu durumda, fark puanları di = x2i - x1i hesaplanabilir ve farkın ortalamasının sıfırdan önemli ölçüde farklı olmadığı boş hipotezi kullanılarak tek örnekli bir test yapılabilir:: \n",
        "**(Ho : μdiff = 0)**\n",
        "\n",
        "The alternative hypothesis is:\n",
        "**(H1: μdiff != 0) **\n",
        "\n",
        "\n",
        "Example:   Evlerden bir örnek seçilir. Her ev için bir bölüm yeni boya ile bir bölüm ise standart boya ile boyanmaktadır. Her ev için, yeni boyanın kullanım ömrü ile standart boyanın kullanım ömrü arasındaki farkı ölçün. Farklılıkların sıfırdan önemli ölçüde farklı olmadığı sıfır hipotezini test edin..\n",
        "\n",
        "Example2: Aynı müşteri grubuna iki kez anket yaptınız: bir kez Nisan ayında ve ikinci kez, şirketiniz için bir reklam gördükten sonra. Müşteriler reklamı gördükten sonra şirketinizin NPS'si değişti mi?\n",
        "\n",
        "**!! T-testleri, bir şeyin önemli ölçüde farklı olup olmadığını size söyleyebilse de, bu farkın anlamlı olup olmadığını belirlemenin size kalmış olduğunu unutmayın. !! Örnek boyutu yeterince büyükse, küçük farklılıklar istatistiksel olarak farklı olabilir..!!**"
      ]
    },
    {
      "cell_type": "markdown",
      "metadata": {
        "id": "D6TlCeUg3Xqr"
      },
      "source": [
        "### A.3. Independent Two-sample test (for the mean):"
      ]
    },
    {
      "cell_type": "markdown",
      "metadata": {
        "id": "GtkqZtED3Xqs"
      },
      "source": [
        "**Bu test, iki bağımsız grubun ortalamalarının birbirinden önemli ölçüde farklı olup olmadığını inceler.**\n",
        "\n",
        "Burada kritik olan nokta gruplara dahil olma şartının incelenen değişkenden tamamen bağımsız olmasıdır. Başka bir deyişle **karşılaştırılan iki grup (ya da iki örneklem) BİRBİRİ İLE İLİNTİLİ OLMAMALIDIR.** Örneğin bir çalışmada kadınlar ile erkeklerin ortalama gelirlerinin farklı olup olmadığı, bir medikal araştırmada iki farklı ilaç tedavisi gören hastaların vücut kitle endekslerinin (BMI) farklılık gösterip göstermediği, bir kanser ilacı deneme araştırmasında kontrol (plasebo) ve deney (ilaç) gruplarının tümör büyüklüğü bakımından fark gösterip göstermediği gibi.\n",
        "\n",
        "**Bu test, iki bağımsız grubun ortalamalarının birbirinden önemli ölçüde farklı olup olmadığını inceler.**\n",
        "\n",
        "iki tedavi grubundaki denekler arasında doğal bire bir eşleşme olmadığında bağımsız iki numune testini kullanın.\n",
        "The null hypothesis that the population means of the two groups are not significantly different \n",
        "**(H0: μA = μB)**\n",
        "\n",
        "The alternative hypothesis is \n",
        "**(H0: μA ≠ μB)**\n",
        "\n",
        "\n",
        "Example:  Bir benzin katkı maddesinin otomobil egzozundaki karbon monoksit miktarını azalttığı varsayılmaktadır. Bir otomobil örneği seçilir. Yarısına katkı maddesi verilir; yarısı yok. Egzozdaki CO miktarının, katkı maddesi bulunan araçlar için katkısız araçlar için olduğundan önemli ölçüde farklı olmadığı sıfır hipotezini test edin."
      ]
    },
    {
      "cell_type": "markdown",
      "metadata": {
        "id": "4a0TOkwr3Xqv"
      },
      "source": [
        "# B. Descriptions of Tests for One or Two Samples :"
      ]
    },
    {
      "cell_type": "markdown",
      "metadata": {
        "id": "1eoh4fn03Xqw"
      },
      "source": [
        "İşte yaygın olarak kullanılan altı hipotez testi. Ayrıntılar ve örnek bir sorun için her bağlantıyı izleyin:\n",
        " \n",
        "**One-sample z-test**\n",
        " \n",
        "Deneysel Tasarım: Örnek, tek bir tedavi grubu oluşturur.\n",
        "H0: Tedavi grubunun popülasyon ortalaması, verilen bir sabitten önemli ölçüde farklı değildir.\n",
        "Nüfus Dağılımı: Keyfi.\n",
        "Örnek Boyutu: n >30\n",
        "\n",
        "**One-sample t-test**\n",
        " \n",
        "Deneysel Tasarım: Örnek, tek bir tedavi grubu oluşturur.\n",
        "H0: Tedavi grubunun popülasyon ortalaması, verilen bir sabitten önemli ölçüde farklı değildir.\n",
        "Nüfus Dağılımı: Normale yakın.\n",
        "Örnek Boyutu: Keyfi.\n",
        "\n",
        "**Paired-sample z-test**\n",
        " \n",
        "Deneysel Tasarım: İki gruptaki denekler arasında doğal bir eşleşme yoktur.\n",
        "H0: Örnek farklılıklarının ortalaması 0'dan önemli ölçüde farklı değil.\n",
        "Nüfus Dağılımı: Keyfi.\n",
        "Örnek Boyutu: Her iki grup için n ≥ 30.\n",
        "**Paired-sample t-test**\n",
        " \n",
        "Deneysel Tasarım: İki gruptaki denekler arasında doğal bir eşleşme yoktur.\n",
        "H0: Örnek farklılıklarının ortalaması 0'dan önemli ölçüde farklı değil.\n",
        "Nüfus Dağılımı: Her grup içinde yaklaşık olarak normaldir.\n",
        "Örnek Boyutu: Her iki grup için keyfi.\n",
        "SAS ve R Örnekleri: ReadingPaired\n",
        "Örnek problemli eşleştirilmiş iki örnekli t testinin ayrıntılı açıklaması.\n",
        "\n",
        "**Independent Two-sample z-test**\n",
        " \n",
        "Deneysel Tasarım: İki gruptaki denekler arasında doğal bir eşleşme yoktur.\n",
        "H0: İki grubun popülasyon ortalamaları önemli ölçüde farklı değildir.\n",
        "Nüfus Dağılımı: Keyfi.\n",
        "Örneklem Büyüklüğü: Her iki grup için toplam örneklem büyüklüğü ≥ 30\n",
        "\n",
        "**Independent Two-sample t-test**\n",
        " \n",
        "Deneysel Tasarım: İki gruptaki denekler arasında doğal bir eşleşme yoktur.\n",
        "H0: İki grubun popülasyon ortalamaları önemli ölçüde farklı değildir.\n",
        "Nüfus Dağılımı: Her iki grup da yaklaşık olarak normaldir.\n",
        "Örnek Boyutu: Her iki grup için keyfi."
      ]
    },
    {
      "cell_type": "markdown",
      "metadata": {
        "id": "bmuYDq9A3Xqz"
      },
      "source": [
        "# C. General Comparisons Between z and t-tests"
      ]
    },
    {
      "cell_type": "markdown",
      "metadata": {
        "id": "HL3ufCoo3Xq0"
      },
      "source": [
        "**The z-test uses the test statistic**\n",
        "z = (x - μ) / SEortalama (SE : standart hata = σ / √n)\n",
        "\n",
        "Sigma (σ, popülasyonun standart sapması) biliniyorsa ve örneklem büyüklüğü n büyükse (n ≥ 30)\n",
        "\n",
        "merkezi limit teoremi, orijinal popülasyon olmasa bile x'in yaklaşık olarak normal dağıldığını söylüyor.\n",
        "\n",
        "tahmini standart hata sx / √n x, gerçek standart hata σx / √n x'e yakındır.\n",
        "\n",
        "O zaman z'nin beklenen değeri (ortalama) 0'dır ve z'nin varyansı 1'dir, bu nedenle z için güven aralıklarını ve p değerlerini bulmak için standart normal tabloyu kullanabiliriz.\n",
        "\n",
        "**The t-test uses:**\n",
        "\n",
        "Örneklem büyüklüğü küçükse (n ≤ 30), durum daha karmaşıktır. Bu durumda, orijinal popülasyonun yaklaşık olarak normal dağıldığı varsayımını yapan bir t-testi kullanırız, böylece test istatistiği\n",
        "\n",
        "t = (x - μ) / SEortalama (SE : standart hata = σ / √n-1)\n",
        "\n",
        "n - 1 serbestlik dereceli bir t dağılımına sahiptir.\n",
        "\n"
      ]
    },
    {
      "cell_type": "markdown",
      "metadata": {
        "id": "0r8C3lHQ3Xq2"
      },
      "source": [
        "# D. Statistical significance level --> α"
      ]
    },
    {
      "cell_type": "markdown",
      "metadata": {
        "id": "RgT4UHBE3Xq3"
      },
      "source": [
        "**\" α \"**\n",
        "**Statistical significance , p değerine bakılarak belirlenir. P değeri, sıfır hipotezi altında test sonuçlarını gözlemleme olasılığını verir. P değeri ne kadar düşükse, sıfır hipotezi doğruysa gözlenene benzer bir sonuç elde etme olasılığı o kadar düşük olur.** Bu nedenle, düşük bir p değeri, sıfır hipotezi için desteğin azaldığını gösterir. Bununla birlikte, sıfır hipotezinin doğru olması ve çok nadir bir sonuç elde etmemiz olasılığı hiçbir zaman tamamen göz ardı edilemez. İstatistiksel anlamlılığı belirlemek için kesme değerine nihai olarak araştırmacı tarafından karar verilir, ancak genellikle .05 veya daha düşük bir değer seçilir. Bu, sıfır hipotezinin doğru olması durumunda gözlemlenene benzer bir sonuç elde etme şansının %5 (veya daha az) şansına karşılık gelir."
      ]
    },
    {
      "cell_type": "markdown",
      "metadata": {
        "id": "aHRWh9ZO3Xq4"
      },
      "source": [
        "# E. How to conduct a t-test?\n"
      ]
    },
    {
      "cell_type": "markdown",
      "metadata": {
        "id": "UoQPZNeB3Xq5"
      },
      "source": [
        "**How to conduct a t-test? There are 4 steps to conducting a t-test:**\n",
        "\n",
        "**1. Calculate the t-statistic:**\n",
        "\n",
        "Her t testi türünün t istatistiğini hesaplamak için farklı bir formülü vardır (Üç formülü de bulmak için sayfanın en altına inebilirsiniz)..\n",
        "\n",
        "**2. Calculate the degrees of freedom:**\n",
        "\n",
        "Serbestlik dereceleri, ortalamanın değişebileceği yolların sayısıdır. Bu durumda, serbestlik dereceleri, belirli bir yanıtlayan grubunda sahip olabileceğiniz NPS derecelendirmelerinin sayısıdır. t istatistiğine benzer şekilde, serbestlik derecesi formülü, gerçekleştirdiğiniz t testinin türüne bağlı olarak değişecektir.\n",
        "**3. Determine the critical value:**\n",
        "\n",
        "Kritik değer, iki sayı arasındaki farkın istatistiksel olarak anlamlı kabul edildiği eşik değeridir.\n",
        "\n",
        "**4. Compare absolute value of the t-statistic to critical value:**\n",
        "\n",
        "t istatistiğiniz kritik değerinizden büyükse, farkınız önemlidir. Eğer t-istatistiğiniz daha küçükse, o zaman istatistiksel olarak konuşursak, iki numaranız ayırt edilemez."
      ]
    },
    {
      "cell_type": "markdown",
      "metadata": {
        "id": "Ou9qMSOu3Xq7"
      },
      "source": [
        "# F. Formulas"
      ]
    },
    {
      "cell_type": "markdown",
      "metadata": {
        "id": "rbhOWLWu3Xq9"
      },
      "source": [
        "### z_value of samples distribution :"
      ]
    },
    {
      "cell_type": "markdown",
      "metadata": {
        "id": "1JELwKB43Xq9"
      },
      "source": [
        ""
      ]
    },
    {
      "cell_type": "markdown",
      "metadata": {
        "id": "VHR2pq9P3Xq-"
      },
      "source": [
        "### t-value of samples distribution :"
      ]
    },
    {
      "cell_type": "markdown",
      "metadata": {
        "id": "ouwJzaRE3XrA"
      },
      "source": [
        ""
      ]
    },
    {
      "cell_type": "markdown",
      "metadata": {
        "id": "zlj7ASEK3XrC"
      },
      "source": [
        "### One-sample t-test formula :"
      ]
    },
    {
      "cell_type": "markdown",
      "metadata": {
        "id": "7ApbLGti3XrC"
      },
      "source": [
        ""
      ]
    },
    {
      "cell_type": "markdown",
      "metadata": {
        "id": "2EC6JMhN3XrD"
      },
      "source": [
        "### t-test for the means of Paired (dependent) t-test formula :"
      ]
    },
    {
      "cell_type": "markdown",
      "metadata": {
        "id": "PijvHMMr3XrF"
      },
      "source": [
        "x_D : Her bir çiftte iki gözlem arasındaki hesaplanan farkın ortalaması. \n",
        "      iki sample'ın karşılıklı değerlerinin farklarından oluşan yeni kümenin mean'i\n",
        "      \n",
        "S_D : the standard deviation of this new set.\n",
        "      bu yeni kümenin standart deviation'ı.\n",
        "\n",
        "μ0  : mean of the population (0 --> in normal distribution) \n",
        "      popülasyonun mean'i "
      ]
    },
    {
      "cell_type": "markdown",
      "metadata": {
        "id": "eim3Te3_3XrG"
      },
      "source": [
        ""
      ]
    },
    {
      "cell_type": "markdown",
      "metadata": {
        "id": "Y1YTXPx-3XrG"
      },
      "source": [
        "### t-test for the means of Independent Two-sample (dependent) formula:"
      ]
    },
    {
      "cell_type": "markdown",
      "metadata": {
        "id": "YQrnVe9m3XrP"
      },
      "source": [
        ""
      ]
    },
    {
      "cell_type": "markdown",
      "metadata": {
        "id": "O1kyQJPL3XrU"
      },
      "source": [
        "### ..or use this simplified form :"
      ]
    },
    {
      "cell_type": "markdown",
      "metadata": {
        "id": "pu9-uCaP3XrV"
      },
      "source": [
        ""
      ]
    },
    {
      "cell_type": "markdown",
      "metadata": {
        "id": "o9y-ZW8d3XrW"
      },
      "source": [
        "### degrees of freedom in two-sample t-test"
      ]
    },
    {
      "cell_type": "markdown",
      "metadata": {
        "id": "lsvelKhD3XrW"
      },
      "source": [
        ""
      ]
    },
    {
      "cell_type": "markdown",
      "metadata": {
        "id": "FctyyoSV3XrY"
      },
      "source": [
        "# * * * * * * * * * * * * * * * * * * * * * * * * * * * * * * * * * * * * * * * * * * * * * * * * * * * "
      ]
    },
    {
      "cell_type": "markdown",
      "metadata": {
        "id": "sLZZD_QhKcdB"
      },
      "source": [
        "**EXERCISE 1. The hourly wages in a particular industry are normally distributed with mean 13.20 (dollars)  and  standard  deviation  2.50 (dollars).  A company in this industry employs 40 workers, paying them an average of 12.20 per hour. Can this company be accused of paying substandard wages? Use an α = .01 level test. (Wackerly, Ex.10.18)**\n",
        "Belirli bir sektördeki saatlik ücretler normal olarak ortalama 13,20𝑣𝑒𝑠𝑡𝑎𝑛𝑑𝑎𝑟𝑡𝑠𝑎𝑝𝑚𝑎2,50 ile dağıtılır. Bu sektördeki bir şirket 40 işçi çalıştırıyor ve onlara saatte ortalama 12,20 dolar ödüyor. Bu şirket standartların altında ücret ödemekle suçlanabilir mi? Bir α = .01 seviye testi kullanın."
      ]
    },
    {
      "cell_type": "raw",
      "metadata": {
        "id": "zzZrk2pY3Xra"
      },
      "source": [
        "We will check if the average wage the company pays to its employees is LESS THEN the average wage in that industry. (if it is less then our chosen significance level or not) \n",
        "\n",
        "Therefore we will use a ONE-TAILED distribution. Not \"α/2\", but \"α\" we will use.\n",
        "\n",
        "We will use \"z-test\" because the standart deviation of population is given and sample size > 30\n",
        "\n",
        "We will use \"One-sample z-test\" because we examine if the POPULATION mean for the treatment group is significantly different from KNOWN VALUE x or not. (Ho : μ = x)"
      ]
    },
    {
      "cell_type": "raw",
      "metadata": {
        "id": "tBhtVGrwQ6Kl"
      },
      "source": [
        "H0 = 13.20\n",
        "H1 < 13.20"
      ]
    },
    {
      "cell_type": "code",
      "execution_count": null,
      "metadata": {
        "id": "9cXJztsnQ6EO"
      },
      "outputs": [],
      "source": [
        "n = 40\n",
        "sigma = 2.50\n",
        "mu = 13.20\n",
        "xbar = 12.20"
      ]
    },
    {
      "cell_type": "markdown",
      "metadata": {
        "id": "mqIu8rkbgqpo"
      },
      "source": [
        "**Testing Hypothesis Using z score**"
      ]
    },
    {
      "cell_type": "code",
      "execution_count": null,
      "metadata": {
        "colab": {
          "base_uri": "https://localhost:8080/"
        },
        "id": "ZqqBiF3VQ59m",
        "outputId": "61b1b2bd-4f0a-4af8-f2fb-994fe0336c9d"
      },
      "outputs": [
        {
          "data": {
            "text/plain": [
              "-2.5298221281347035"
            ]
          },
          "execution_count": 22,
          "metadata": {},
          "output_type": "execute_result"
        }
      ],
      "source": [
        "# z_test = ( x ̅  - μ )  /  ( σ / √n ) \n",
        "\n",
        "z_test = (xbar - mu) / (sigma / np.sqrt(n))\n",
        "z_test\n",
        "\n",
        "# Zx = -2.5298221281347035 "
      ]
    },
    {
      "cell_type": "code",
      "execution_count": null,
      "metadata": {
        "id": "qjyo_h2XghU9"
      },
      "outputs": [],
      "source": [
        "# from z-table we found z score at the level of our alpha = 0.01 which is critical point \n",
        "\n",
        "Zα = -2.325"
      ]
    },
    {
      "cell_type": "markdown",
      "metadata": {
        "id": "UIm_Kk-y3Xrp"
      },
      "source": [
        ""
      ]
    },
    {
      "cell_type": "code",
      "execution_count": null,
      "metadata": {
        "colab": {
          "base_uri": "https://localhost:8080/"
        },
        "id": "_LQnosSigdVv",
        "outputId": "2b1c0244-90f9-4f96-bdc1-a2d549e68f4e"
      },
      "outputs": [
        {
          "name": "stdout",
          "output_type": "stream",
          "text": [
            "Reject the Null\n"
          ]
        }
      ],
      "source": [
        "Zα = -2.325  # Zα : z_test\n",
        "\n",
        "if z_test < Zα:\n",
        "    print(\"Reject the Null\")\n",
        "else:\n",
        "    print(\"Fail to reject Null\")"
      ]
    },
    {
      "cell_type": "markdown",
      "metadata": {
        "id": "qK6d-Ra4g8rc"
      },
      "source": [
        "**Testing Hypothesis Using p value**"
      ]
    },
    {
      "cell_type": "code",
      "execution_count": null,
      "metadata": {
        "colab": {
          "base_uri": "https://localhost:8080/"
        },
        "id": "s1lSwK68lUK1",
        "outputId": "7338de94-edc5-4ce7-efd7-d3c0b4561971"
      },
      "outputs": [
        {
          "data": {
            "text/plain": [
              "-2.5298221281347035"
            ]
          },
          "execution_count": 25,
          "metadata": {},
          "output_type": "execute_result"
        }
      ],
      "source": [
        "z_test = (xbar - mu) / (sigma / np.sqrt(n))\n",
        "z_test"
      ]
    },
    {
      "cell_type": "markdown",
      "metadata": {
        "id": "pybAY9s23Xrx"
      },
      "source": [
        ""
      ]
    },
    {
      "cell_type": "code",
      "execution_count": null,
      "metadata": {
        "colab": {
          "base_uri": "https://localhost:8080/"
        },
        "id": "AYnDBBhJBiKa",
        "outputId": "f8e5e8da-2e6c-4985-91de-b5a5d821d9fc"
      },
      "outputs": [
        {
          "data": {
            "text/plain": [
              "0.005706018193000826"
            ]
          },
          "execution_count": 26,
          "metadata": {},
          "output_type": "execute_result"
        }
      ],
      "source": [
        "pvalue = stats.norm.cdf(z_test) # left side area\n",
        "pvalue\n",
        "\n",
        "# z_test's cdf gives the left-hand area as probability . We call this p_value. "
      ]
    },
    {
      "cell_type": "code",
      "execution_count": null,
      "metadata": {
        "colab": {
          "base_uri": "https://localhost:8080/"
        },
        "id": "_urbECWAWgCC",
        "outputId": "36b8aefe-91f7-40aa-8809-df72a6cf32f0"
      },
      "outputs": [
        {
          "name": "stdout",
          "output_type": "stream",
          "text": [
            "Reject the Null\n"
          ]
        }
      ],
      "source": [
        "# Comparing \"p_value\" with \"α\" value\n",
        " \n",
        "alpha = 0.01   # (α = 1% --> 1-99%) it is given in the question\n",
        "\n",
        "if pvalue < alpha:\n",
        "    print(\"Reject the Null\")\n",
        "else:\n",
        "    print(\"Fail to reject\")"
      ]
    },
    {
      "cell_type": "markdown",
      "metadata": {
        "id": "KM4g4Ko91m7_"
      },
      "source": [
        "**EXERCISE 2.Shear strength measurements derived from unconfined compression tests for two types of soils gave the results shown in the following document (measurements in tons per square foot). Do the soils appear to differ with respect to average shear strength, at the 1% significance level?**\n",
        "İki tip zemin için serbest basınç deneylerinden elde edilen kesme mukavemeti ölçümleri, aşağıdaki belgede gösterilen sonuçları vermiştir (metre kare başına ton cinsinden ölçümler). Zeminler, %1 anlamlılık düzeyinde ortalama kesme dayanımına göre farklılık gösteriyor mu"
      ]
    },
    {
      "cell_type": "code",
      "execution_count": null,
      "metadata": {
        "id": "eZdKUkwX3Xr4"
      },
      "outputs": [],
      "source": [
        "α = 0.01"
      ]
    },
    {
      "cell_type": "raw",
      "metadata": {
        "id": "wu_U4AA23Xr_"
      },
      "source": [
        "We will compare two soils and check if these are THE SAME average values within the GIVEN CONFIDENCE INTERVAL.(if it is less or more then our chosen significance levels α/2 placed at two side of the mean. (it means H0: μA = μB) \n",
        "\n",
        "Therefore we will use a TWO-TAILED distribution having  -α/2 / +α/2 interval.\n",
        "\n",
        "I don't know the sigma value of the population, so I'll execute a \"T-TEST\".\n",
        "\n",
        "Therefore we have two samples we will use \"TWO SAMPLE T-TEST\".\n",
        "\n",
        "AND, since;\n",
        "\n",
        "There is no natural pairing between subjects in the two groups.\n",
        "H0:  The population means of two groups are not significantly different. (H0: μA = μB)\n",
        "Sample Size:  Arbitrary for both groups\n",
        "\n",
        "we will use \"independent Two-sample t-test\""
      ]
    },
    {
      "cell_type": "markdown",
      "metadata": {
        "id": "-1rOExgT3XsA"
      },
      "source": [
        "**Hyphotesis**"
      ]
    },
    {
      "cell_type": "raw",
      "metadata": {
        "id": "LtFSCDrl3XsF"
      },
      "source": [
        "H0 : mu1 = mu2\n",
        "H1 : mu1 != mu2"
      ]
    },
    {
      "cell_type": "markdown",
      "metadata": {
        "id": "SsLv0NDR3XsH"
      },
      "source": [
        "**see two type of soils and calculate the means of them**\n"
      ]
    },
    {
      "cell_type": "code",
      "execution_count": null,
      "metadata": {
        "id": "K_aSSZYWWfuz"
      },
      "outputs": [],
      "source": [
        "\n",
        "dfsoil = pd.read_csv(\"soil - Sheet1.csv\", sep = \",\")"
      ]
    },
    {
      "cell_type": "code",
      "execution_count": null,
      "metadata": {
        "colab": {
          "base_uri": "https://localhost:8080/",
          "height": 203
        },
        "id": "-sBZ5nDZWfoV",
        "outputId": "88476df6-f6b3-4a65-ee33-45defab7d406"
      },
      "outputs": [
        {
          "data": {
            "text/html": [
              "<div>\n",
              "<style scoped>\n",
              "    .dataframe tbody tr th:only-of-type {\n",
              "        vertical-align: middle;\n",
              "    }\n",
              "\n",
              "    .dataframe tbody tr th {\n",
              "        vertical-align: top;\n",
              "    }\n",
              "\n",
              "    .dataframe thead th {\n",
              "        text-align: right;\n",
              "    }\n",
              "</style>\n",
              "<table border=\"1\" class=\"dataframe\">\n",
              "  <thead>\n",
              "    <tr style=\"text-align: right;\">\n",
              "      <th></th>\n",
              "      <th>Soil1</th>\n",
              "      <th>Soil2</th>\n",
              "    </tr>\n",
              "  </thead>\n",
              "  <tbody>\n",
              "    <tr>\n",
              "      <th>0</th>\n",
              "      <td>1.442</td>\n",
              "      <td>1.364</td>\n",
              "    </tr>\n",
              "    <tr>\n",
              "      <th>1</th>\n",
              "      <td>1.943</td>\n",
              "      <td>1.878</td>\n",
              "    </tr>\n",
              "    <tr>\n",
              "      <th>2</th>\n",
              "      <td>1.110</td>\n",
              "      <td>1.337</td>\n",
              "    </tr>\n",
              "    <tr>\n",
              "      <th>3</th>\n",
              "      <td>1.912</td>\n",
              "      <td>1.828</td>\n",
              "    </tr>\n",
              "    <tr>\n",
              "      <th>4</th>\n",
              "      <td>1.553</td>\n",
              "      <td>1.371</td>\n",
              "    </tr>\n",
              "  </tbody>\n",
              "</table>\n",
              "</div>"
            ],
            "text/plain": [
              "   Soil1  Soil2\n",
              "0  1.442  1.364\n",
              "1  1.943  1.878\n",
              "2  1.110  1.337\n",
              "3  1.912  1.828\n",
              "4  1.553  1.371"
            ]
          },
          "execution_count": 4,
          "metadata": {},
          "output_type": "execute_result"
        }
      ],
      "source": [
        "dfsoil.head()"
      ]
    },
    {
      "cell_type": "code",
      "execution_count": null,
      "metadata": {
        "colab": {
          "base_uri": "https://localhost:8080/"
        },
        "id": "2F3TzwgvWfiA",
        "outputId": "16db6593-ec55-4aaa-a5a4-d786b97a33ff"
      },
      "outputs": [
        {
          "data": {
            "text/plain": [
              "(35, 2)"
            ]
          },
          "execution_count": 23,
          "metadata": {},
          "output_type": "execute_result"
        }
      ],
      "source": [
        "dfsoil.shape\n",
        "\n",
        "# 35 rows and 2 columns"
      ]
    },
    {
      "cell_type": "code",
      "execution_count": null,
      "metadata": {
        "colab": {
          "base_uri": "https://localhost:8080/"
        },
        "id": "P9hzZUCdWfaW",
        "outputId": "2f0a58f5-4ad5-4880-aa09-95839f592a1d"
      },
      "outputs": [
        {
          "data": {
            "text/plain": [
              "1.6918"
            ]
          },
          "execution_count": 128,
          "metadata": {
            "tags": []
          },
          "output_type": "execute_result"
        }
      ],
      "source": [
        "dfsoil[\"Soil1\"].mean()"
      ]
    },
    {
      "cell_type": "code",
      "execution_count": null,
      "metadata": {
        "colab": {
          "base_uri": "https://localhost:8080/"
        },
        "id": "lUeR-HEkWfVO",
        "outputId": "ddb42c37-da1b-4a7a-a080-1518784e6cb7"
      },
      "outputs": [
        {
          "data": {
            "text/plain": [
              "1.4171142857142858"
            ]
          },
          "execution_count": 129,
          "metadata": {
            "tags": []
          },
          "output_type": "execute_result"
        }
      ],
      "source": [
        "dfsoil[\"Soil2\"].mean()"
      ]
    },
    {
      "cell_type": "markdown",
      "metadata": {
        "id": "yXtv6ozx45q2"
      },
      "source": [
        "**Calculate the T_test for the means of two independent samples of scores.**"
      ]
    },
    {
      "cell_type": "markdown",
      "metadata": {
        "id": "0DsUOc7o3XsU"
      },
      "source": [
        "**H0 : mu1 = mu2**\n",
        "    \n",
        "**H1 : mu1 != mu2**"
      ]
    },
    {
      "cell_type": "code",
      "execution_count": null,
      "metadata": {
        "id": "jh7aCkS53XsW",
        "outputId": "fc6e4079-a3e6-4cdf-fe35-e2ff689a936a"
      },
      "outputs": [
        {
          "data": {
            "text/plain": [
              "Ttest_indResult(statistic=nan, pvalue=nan)"
            ]
          },
          "execution_count": 12,
          "metadata": {},
          "output_type": "execute_result"
        }
      ],
      "source": [
        "stats.ttest_ind(dfsoil[\"Soil1\"], dfsoil[\"Soil2\"])\n",
        "\n",
        "# I understand that my data has Nan values!"
      ]
    },
    {
      "cell_type": "code",
      "execution_count": null,
      "metadata": {
        "colab": {
          "base_uri": "https://localhost:8080/"
        },
        "id": "aOgdtDMZ6PsU",
        "outputId": "17ecfe77-a39f-4e33-d067-b1838d84de89"
      },
      "outputs": [
        {
          "data": {
            "text/plain": [
              "Soil1  Soil2\n",
              "False  False    30\n",
              "True   False     5\n",
              "dtype: int64"
            ]
          },
          "execution_count": 136,
          "metadata": {
            "tags": []
          },
          "output_type": "execute_result"
        }
      ],
      "source": [
        "dfsoil.isnull().value_counts()\n",
        "\n",
        "# 5 Null values in dfsoil dataframe!"
      ]
    },
    {
      "cell_type": "code",
      "execution_count": null,
      "metadata": {
        "colab": {
          "base_uri": "https://localhost:8080/",
          "height": 295
        },
        "id": "7trhyqE-9ru1",
        "outputId": "aa75b610-787e-4771-ff72-ac2f3dc289b1"
      },
      "outputs": [
        {
          "name": "stdout",
          "output_type": "stream",
          "text": [
            "<class 'pandas.core.frame.DataFrame'>\n",
            "RangeIndex: 35 entries, 0 to 34\n",
            "Data columns (total 2 columns):\n",
            " #   Column  Non-Null Count  Dtype  \n",
            "---  ------  --------------  -----  \n",
            " 0   Soil1   30 non-null     float64\n",
            " 1   Soil2   35 non-null     float64\n",
            "dtypes: float64(2)\n",
            "memory usage: 688.0 bytes\n"
          ]
        }
      ],
      "source": [
        "dfsoil.info()"
      ]
    },
    {
      "cell_type": "code",
      "execution_count": null,
      "metadata": {
        "id": "_CLPZSH-5Dje",
        "outputId": "8df3500d-4154-409a-80bd-9116e90ba8c1"
      },
      "outputs": [
        {
          "data": {
            "text/plain": [
              "Ttest_indResult(statistic=5.1681473319343345, pvalue=2.5932287323528147e-06)"
            ]
          },
          "execution_count": 5,
          "metadata": {},
          "output_type": "execute_result"
        }
      ],
      "source": [
        "# ttest_ind() function gives the statistics for the Independent Two-sample test (for the mean)\n",
        "\n",
        "indTest = stats.ttest_ind(dfsoil[\"Soil1\"], dfsoil[\"Soil2\"], nan_policy='omit')\n",
        "\n",
        "indTest"
      ]
    },
    {
      "cell_type": "raw",
      "metadata": {
        "id": "IFJ9mxgO3Xsb"
      },
      "source": [
        "nan_policy='omit', does the operation by ignoring the Nan values.. \n",
        "\n",
        "When calculating \"Soil1\" column's \"mean\", it takes the average by reducing the number of samples by the number of \"Null\" values. But since there is no \"Null\" value in the Soil2 column, it uses the whole of this column when calculating the average.\n",
        "\n",
        "nan_policy='omit'; sütunları ayrı ayrı değerlendirir, sütunların sadece içinde Null value olan satırlarını göz ardı eder. Burdaki örnekte Soil1 sütununda 5 non value olduğundan istatistiği return ederken mean hesaplamasında Soil1 için n değeri olarak 35 yerine 30 kullanacaktır. Soil2'de Null değer olmadığından bu sütun için n değeri olarak 35 kullanacaktır. "
      ]
    },
    {
      "cell_type": "code",
      "execution_count": null,
      "metadata": {
        "id": "oM3e0X36vJI8",
        "outputId": "7f39161b-41ce-4dd9-8669-f2b7aeb1bfa0"
      },
      "outputs": [
        {
          "data": {
            "text/plain": [
              "Ttest_indResult(statistic=5.134893443609086, pvalue=3.4402046436336477e-06)"
            ]
          },
          "execution_count": 6,
          "metadata": {},
          "output_type": "execute_result"
        }
      ],
      "source": [
        "# another way to ignore Null values finding ttest_ind :\n",
        "\n",
        "indTest1 = stats.ttest_ind(dfsoil.dropna()[\"Soil1\"], dfsoil.dropna()[\"Soil2\"])\n",
        "\n",
        "indTest1\n",
        "\n",
        "# her iki sütun için de dataframe'e .dropna() uyguladık.\n",
        "\n",
        "# dropna() özelliği gereği içinde Null değer olan satırları düşürdüğünden; hesaplamalarda hem Soil1 hem de Soil2 için n sayısı olarak 35-5 = 30 u kullanmıştır. \n",
        "# Dolayısıyla sonuçlarda bir miktar farklılık olması beklenmelidir."
      ]
    },
    {
      "cell_type": "code",
      "execution_count": null,
      "metadata": {
        "id": "eEKaHYEM3Xse",
        "outputId": "22871e1c-64fb-4a1b-9e2c-555a1121e03a"
      },
      "outputs": [
        {
          "data": {
            "text/plain": [
              "Ttest_indResult(statistic=5.1681473319343345, pvalue=2.59322873235282e-06)"
            ]
          },
          "execution_count": 7,
          "metadata": {},
          "output_type": "execute_result"
        }
      ],
      "source": [
        "# with dropna() applied for only one column named \"soil1\" with \"Nan\"\n",
        "\n",
        "# ikinci kez ttest_ind() fonksiyonunu uyguladık. bu sefer yalnızca Soil1 sütunu için dfsoil.dropna uyguladık.\n",
        "\n",
        "indTest2 = stats.ttest_ind(dfsoil.dropna()[\"Soil1\"], dfsoil[\"Soil2\"])\n",
        "\n",
        "indTest2\n",
        "\n",
        "# dolayısıyla omit ile aynı sonucu return etti."
      ]
    },
    {
      "cell_type": "raw",
      "metadata": {
        "id": "l-tTozqV3Xsf"
      },
      "source": [
        ".dropna() yönteminin farkı şu:\n",
        "\n",
        "ttest_ind() fonsiyonunun içine sütunları atarken dataframe'e .dropna() uyguladığımızda; herhangi satırda null değer varsa o satırı komple düşürdüğünden fonksiyon her iki sütun için de eşit \"n\" değeri ile çalışır. Bu durumda Soil1 sütunundaki 5 Null veriden dolayı, Soil2 sütununun Null olmayan 5 verisinden vazgeçmiş oluyoruz."
      ]
    },
    {
      "cell_type": "code",
      "execution_count": null,
      "metadata": {
        "id": "J-wZYHWV3Xsg",
        "outputId": "b7165437-441a-4593-cb94-616982956a20"
      },
      "outputs": [
        {
          "data": {
            "text/plain": [
              "Ttest_indResult(statistic=5.1681473319343345, pvalue=2.5932287323528147e-06)"
            ]
          },
          "execution_count": 18,
          "metadata": {},
          "output_type": "execute_result"
        }
      ],
      "source": [
        "indTest"
      ]
    },
    {
      "cell_type": "code",
      "execution_count": null,
      "metadata": {
        "colab": {
          "base_uri": "https://localhost:8080/"
        },
        "id": "Y5xfTRdP5DWJ",
        "outputId": "851aad11-aed3-4c6e-e1a6-719334fb331f"
      },
      "outputs": [
        {
          "data": {
            "text/plain": [
              "5.1681473319343345"
            ]
          },
          "execution_count": 17,
          "metadata": {},
          "output_type": "execute_result"
        }
      ],
      "source": [
        "indTest.statistic\n",
        "\n",
        "# t = 5.134893443609085"
      ]
    },
    {
      "cell_type": "code",
      "execution_count": null,
      "metadata": {
        "colab": {
          "base_uri": "https://localhost:8080/"
        },
        "id": "-zilZRst84WM",
        "outputId": "a5fd1fda-42a2-42b4-a728-f09b4dd3b83e"
      },
      "outputs": [
        {
          "data": {
            "text/plain": [
              "2.5932287323528147e-06"
            ]
          },
          "execution_count": 19,
          "metadata": {},
          "output_type": "execute_result"
        }
      ],
      "source": [
        "indTest.pvalue\n",
        "\n",
        "# p_value corresponding to \"t\" value  = 0.000000344020"
      ]
    },
    {
      "cell_type": "code",
      "execution_count": null,
      "metadata": {
        "colab": {
          "base_uri": "https://localhost:8080/"
        },
        "id": "5-5wX6_pehik",
        "outputId": "945b01bf-6b44-4a5d-aecb-191599e1a7b7"
      },
      "outputs": [
        {
          "name": "stdout",
          "output_type": "stream",
          "text": [
            "Reject the Null\n"
          ]
        }
      ],
      "source": [
        "# Comparing p value\n",
        "\n",
        "alpha = 0.01      # alpha/2 = 0.005\n",
        "\n",
        "if indTest.pvalue < alpha/2:\n",
        "    print(\"Reject the Null\")\n",
        "else:\n",
        "    print(\"Fail to reject\")"
      ]
    },
    {
      "cell_type": "raw",
      "metadata": {
        "id": "1-0O3davJKyB",
        "outputId": "437c5b2d-190b-4182-d04f-b79d033689f0"
      },
      "source": [
        "the t-score corresponding to significance level α/2 :\n",
        "\n",
        "stats.t.ppf(α/2, 63)\n",
        "\n",
        "α   = 0.01\n",
        "α/2 = 0.005\n",
        "\n",
        "we have two samples:\n",
        "soil1 has 30 rows, soil2 has 35 rows\n",
        "soil1's dof --> 30-1 = 29\n",
        "soil2's dof --> 35-1 = 34\n",
        "sum of dofs --> 29 + 34 = 63"
      ]
    },
    {
      "cell_type": "markdown",
      "metadata": {
        "id": "kTnRgVO83Xso"
      },
      "source": [
        ""
      ]
    },
    {
      "cell_type": "code",
      "execution_count": null,
      "metadata": {
        "colab": {
          "base_uri": "https://localhost:8080/"
        },
        "id": "Vqfnm66WGQ3H",
        "outputId": "6c309473-c802-4694-c9fa-e8cc967182bd"
      },
      "outputs": [
        {
          "data": {
            "text/plain": [
              "-2.6561450297622597"
            ]
          },
          "execution_count": 21,
          "metadata": {},
          "output_type": "execute_result"
        }
      ],
      "source": [
        "neg_t_005 = stats.t.ppf(0.005, 63)  # negative t-score of significant level for α = 0.01\n",
        "\n",
        "neg_t_005"
      ]
    },
    {
      "cell_type": "code",
      "execution_count": null,
      "metadata": {
        "colab": {
          "base_uri": "https://localhost:8080/"
        },
        "id": "9UalDihj_Mbh",
        "outputId": "d6c9011b-6955-481d-a362-cd10955ad22e"
      },
      "outputs": [
        {
          "name": "stdout",
          "output_type": "stream",
          "text": [
            "Reject the Null\n"
          ]
        }
      ],
      "source": [
        "# Using t score for left tail which has a negative value\n",
        "\n",
        "neg_t_005 = -2.6561450297622597\n",
        "\n",
        "if indTest.statistic > abs(neg_t_005):    # without abs() function--> if  indTest.statistic < - neg_t_005\n",
        "    print(\"Reject the Null\")\n",
        "else:\n",
        "    print(\"Fail to reject Null\")"
      ]
    },
    {
      "cell_type": "code",
      "execution_count": null,
      "metadata": {
        "id": "ymfDGHtj3Xsr"
      },
      "outputs": [],
      "source": [
        "pozt005 = stats.t.ppf(0.995, 63) # positive t-score of significant level for α = 0.01\n",
        "\n",
        "pozt005"
      ]
    },
    {
      "cell_type": "code",
      "execution_count": null,
      "metadata": {
        "id": "EBE7yV893Xss",
        "outputId": "6f79ac5b-dd51-438f-9c13-0a06b2c8e4bd"
      },
      "outputs": [
        {
          "name": "stdout",
          "output_type": "stream",
          "text": [
            "Reject the Null\n"
          ]
        }
      ],
      "source": [
        "# Using t score for right tail which has a positive value\n",
        "\n",
        "\n",
        "posz005 = 2.6561450297622597\n",
        "\n",
        "if indTest.statistic > posz005:\n",
        "    print(\"Reject the Null\")\n",
        "else:\n",
        "    print(\"Fail to reject Null\")"
      ]
    },
    {
      "cell_type": "markdown",
      "metadata": {
        "id": "iP93p0QyZszU"
      },
      "source": [
        "**Solution With Formula**"
      ]
    },
    {
      "cell_type": "markdown",
      "metadata": {
        "id": "tGtWyNsDZx1_"
      },
      "source": [
        "**NOTE:** T-table does not carry all possible values for degrees of freedom (df) that you are looking for, you can take the closest degree of freedom. For example, if you need to use df--> n=51, try to use df-->n= 50 from T-table. "
      ]
    },
    {
      "cell_type": "code",
      "execution_count": null,
      "metadata": {
        "colab": {
          "base_uri": "https://localhost:8080/",
          "height": 295
        },
        "id": "6NbxMIUsa8An",
        "outputId": "197fedd4-6e15-4a7c-9d54-ec5ec9214c00"
      },
      "outputs": [
        {
          "data": {
            "text/html": [
              "<div>\n",
              "<style scoped>\n",
              "    .dataframe tbody tr th:only-of-type {\n",
              "        vertical-align: middle;\n",
              "    }\n",
              "\n",
              "    .dataframe tbody tr th {\n",
              "        vertical-align: top;\n",
              "    }\n",
              "\n",
              "    .dataframe thead th {\n",
              "        text-align: right;\n",
              "    }\n",
              "</style>\n",
              "<table border=\"1\" class=\"dataframe\">\n",
              "  <thead>\n",
              "    <tr style=\"text-align: right;\">\n",
              "      <th></th>\n",
              "      <th>Soil1</th>\n",
              "      <th>Soil2</th>\n",
              "    </tr>\n",
              "  </thead>\n",
              "  <tbody>\n",
              "    <tr>\n",
              "      <th>count</th>\n",
              "      <td>30.000000</td>\n",
              "      <td>35.000000</td>\n",
              "    </tr>\n",
              "    <tr>\n",
              "      <th>mean</th>\n",
              "      <td>1.691800</td>\n",
              "      <td>1.417114</td>\n",
              "    </tr>\n",
              "    <tr>\n",
              "      <th>std</th>\n",
              "      <td>0.206903</td>\n",
              "      <td>0.219184</td>\n",
              "    </tr>\n",
              "    <tr>\n",
              "      <th>min</th>\n",
              "      <td>1.110000</td>\n",
              "      <td>1.053000</td>\n",
              "    </tr>\n",
              "    <tr>\n",
              "      <th>25%</th>\n",
              "      <td>1.572000</td>\n",
              "      <td>1.231000</td>\n",
              "    </tr>\n",
              "    <tr>\n",
              "      <th>50%</th>\n",
              "      <td>1.675000</td>\n",
              "      <td>1.379000</td>\n",
              "    </tr>\n",
              "    <tr>\n",
              "      <th>75%</th>\n",
              "      <td>1.865250</td>\n",
              "      <td>1.559000</td>\n",
              "    </tr>\n",
              "    <tr>\n",
              "      <th>max</th>\n",
              "      <td>2.054000</td>\n",
              "      <td>1.878000</td>\n",
              "    </tr>\n",
              "  </tbody>\n",
              "</table>\n",
              "</div>"
            ],
            "text/plain": [
              "           Soil1      Soil2\n",
              "count  30.000000  35.000000\n",
              "mean    1.691800   1.417114\n",
              "std     0.206903   0.219184\n",
              "min     1.110000   1.053000\n",
              "25%     1.572000   1.231000\n",
              "50%     1.675000   1.379000\n",
              "75%     1.865250   1.559000\n",
              "max     2.054000   1.878000"
            ]
          },
          "execution_count": 36,
          "metadata": {
            "tags": []
          },
          "output_type": "execute_result"
        }
      ],
      "source": [
        "dfsoil.describe()"
      ]
    },
    {
      "cell_type": "markdown",
      "metadata": {
        "id": "nA40NIF83Xsx"
      },
      "source": [
        "Find the statistics:"
      ]
    },
    {
      "cell_type": "code",
      "execution_count": null,
      "metadata": {
        "colab": {
          "base_uri": "https://localhost:8080/"
        },
        "id": "F3EQNaFgbgVU",
        "outputId": "75979ed0-29e2-4f8b-e906-15ef4ba22b40"
      },
      "outputs": [
        {
          "data": {
            "text/plain": [
              "0.2069028424331008"
            ]
          },
          "execution_count": 28,
          "metadata": {},
          "output_type": "execute_result"
        }
      ],
      "source": [
        "s1 = dfsoil['Soil1'].std()\n",
        "s1"
      ]
    },
    {
      "cell_type": "code",
      "execution_count": null,
      "metadata": {
        "colab": {
          "base_uri": "https://localhost:8080/"
        },
        "id": "E3wlsoJobsVb",
        "outputId": "d9addc04-95c1-4d8d-dc77-c872dc161ba4"
      },
      "outputs": [
        {
          "data": {
            "text/plain": [
              "0.2191842860711146"
            ]
          },
          "execution_count": 29,
          "metadata": {},
          "output_type": "execute_result"
        }
      ],
      "source": [
        "s2 = dfsoil['Soil2'].std()\n",
        "s2"
      ]
    },
    {
      "cell_type": "code",
      "execution_count": null,
      "metadata": {
        "colab": {
          "base_uri": "https://localhost:8080/"
        },
        "id": "f4lVaP8gDy_V",
        "outputId": "d78be30a-4beb-4851-c15e-31d0714a950d"
      },
      "outputs": [
        {
          "data": {
            "text/plain": [
              "1.6918000000000002"
            ]
          },
          "execution_count": 30,
          "metadata": {},
          "output_type": "execute_result"
        }
      ],
      "source": [
        "mean1 = dfsoil['Soil1'].mean()\n",
        "mean1"
      ]
    },
    {
      "cell_type": "code",
      "execution_count": null,
      "metadata": {
        "colab": {
          "base_uri": "https://localhost:8080/"
        },
        "id": "UzEIv0CsDyqk",
        "outputId": "152ad922-c183-4269-86c0-fe29df582d18"
      },
      "outputs": [
        {
          "data": {
            "text/plain": [
              "1.4171142857142855"
            ]
          },
          "execution_count": 31,
          "metadata": {},
          "output_type": "execute_result"
        }
      ],
      "source": [
        "mean2 = dfsoil['Soil2'].mean()\n",
        "mean2"
      ]
    },
    {
      "cell_type": "markdown",
      "metadata": {
        "id": "urv5bA5QahkX"
      },
      "source": [
        "In this question the statistics we have:\n",
        "\n",
        "**n1** = 30\n",
        "\n",
        "**x̅1** = 1.6918\n",
        "\n",
        "**s1** = 0.20690284243310084\n",
        "\n",
        "********\n",
        "\n",
        "**n2** = 35\n",
        "\n",
        "**x̅2** = 1.4171142857142858\n",
        "\n",
        "**s2** = 0.2191842860711146"
      ]
    },
    {
      "cell_type": "markdown",
      "metadata": {
        "id": "sxxKYvIYh2CP"
      },
      "source": [
        "**Hypothesis**\n",
        "\n",
        "**H0 : mu1 = mu2**\n",
        "\n",
        "**H1 : mu1 != mu2**"
      ]
    },
    {
      "cell_type": "code",
      "execution_count": null,
      "metadata": {
        "id": "odKN92gT1fAP"
      },
      "outputs": [],
      "source": [
        "n1 = 30\n",
        "\n",
        "mean1 = 1.6918\n",
        "\n",
        "s1 = 0.20690284243310084\n",
        "\n",
        "n2 = 35\n",
        "\n",
        "mean2 = 1.4171142857142858\n",
        "\n",
        "s2 = 0.219184"
      ]
    },
    {
      "cell_type": "raw",
      "metadata": {
        "id": "0bm789Bh3Xs6"
      },
      "source": [
        "The t_test for the means of two independent samples formula:"
      ]
    },
    {
      "cell_type": "markdown",
      "metadata": {
        "id": "i2Nnom3B3Xs6"
      },
      "source": [
        ""
      ]
    },
    {
      "cell_type": "code",
      "execution_count": null,
      "metadata": {
        "id": "1q0GMKzm3Xs7",
        "outputId": "aa41debd-2591-43bf-a978-16956e7c47be"
      },
      "outputs": [
        {
          "data": {
            "text/plain": [
              "5.167155138919209"
            ]
          },
          "execution_count": 32,
          "metadata": {},
          "output_type": "execute_result"
        }
      ],
      "source": [
        "(1.691800 - 1.4171142857142858) / math.sqrt((((29*s1**2) + (34*s2**2)) / 65) * ((1/29)+(1/34)))"
      ]
    },
    {
      "cell_type": "markdown",
      "metadata": {
        "id": "xTy9HT8V3Xs8"
      },
      "source": [
        "the simplified form of two independent samples formula:"
      ]
    },
    {
      "cell_type": "markdown",
      "metadata": {
        "id": "g0LRuKU6hlHa"
      },
      "source": [
        "![t test formula.PNG](data:image/png;base64,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)"
      ]
    },
    {
      "cell_type": "code",
      "execution_count": null,
      "metadata": {
        "colab": {
          "base_uri": "https://localhost:8080/"
        },
        "id": "Ihsm0kfj84R1",
        "outputId": "5163b824-2237-4c43-ba77-43724866c7b7"
      },
      "outputs": [
        {
          "data": {
            "text/plain": [
              "5.191460504717394"
            ]
          },
          "execution_count": 33,
          "metadata": {},
          "output_type": "execute_result"
        }
      ],
      "source": [
        "t = (mean1 - mean2) / math.sqrt((s1**2/30) + (s2**2/35))\n",
        "t"
      ]
    },
    {
      "cell_type": "raw",
      "metadata": {
        "id": "Ik7WVzPG3Xs_"
      },
      "source": [
        "# if we use .std() function:"
      ]
    },
    {
      "cell_type": "code",
      "execution_count": null,
      "metadata": {
        "id": "eY_y3z_T8RbU"
      },
      "outputs": [],
      "source": [
        "squareds1 = dfsoil[\"Soil1\"].std()**2\n",
        "\n",
        "squareds2 = dfsoil[\"Soil2\"].std()**2"
      ]
    },
    {
      "cell_type": "code",
      "execution_count": null,
      "metadata": {
        "colab": {
          "base_uri": "https://localhost:8080/"
        },
        "id": "bg393gus0jsd",
        "outputId": "180400f2-08f4-45bd-9a82-55822c58531a"
      },
      "outputs": [
        {
          "data": {
            "text/plain": [
              "5.191460504717386"
            ]
          },
          "execution_count": 35,
          "metadata": {},
          "output_type": "execute_result"
        }
      ],
      "source": [
        "t = (1.691800 - 1.4171142857142858) / math.sqrt((squareds1/30) + (squareds2/35))\n",
        "t"
      ]
    },
    {
      "cell_type": "markdown",
      "metadata": {
        "id": "suIFPp223XtB"
      },
      "source": [
        ""
      ]
    },
    {
      "cell_type": "raw",
      "metadata": {
        "id": "7d4DNUS1c8NU"
      },
      "source": [
        "--> since it'is asked if the soils appear to differ with respect to average shear strength, at the 1% significance level, (it means H0: μA = μB) we use TWO TAIL (α/2, not α)\n",
        "\n",
        "--> From standard normal table, the two-tailed critical value at 1% level of significance is --> tα/2 = 2.58"
      ]
    },
    {
      "cell_type": "code",
      "execution_count": null,
      "metadata": {
        "colab": {
          "base_uri": "https://localhost:8080/"
        },
        "id": "TfBBMzlseATQ",
        "outputId": "c223844f-9c75-4aa4-da4b-8cb4a39b825e"
      },
      "outputs": [
        {
          "name": "stdout",
          "output_type": "stream",
          "text": [
            "Reject the Null\n"
          ]
        }
      ],
      "source": [
        "# comparing t-value with critical value\n",
        "\n",
        "critical_value = 2.575\n",
        "\n",
        "if t > critical_value:\n",
        "    print(\"Reject the Null\")\n",
        "else:\n",
        "    print(\"Fail to reject\")"
      ]
    },
    {
      "cell_type": "markdown",
      "metadata": {
        "id": "NKbtqB4U3XtD"
      },
      "source": [
        "**EXERCISE 3. The following dataset is based on data provided by the World Bank (https://datacatalog.worldbank.org/dataset/education-statistics). World Bank Edstats.  2015 PISA Test Dataset**\n",
        "\n",
        "\n",
        "\n",
        "*   **(i) Get descriptive statistics (the central tendency, dispersion and shape of a dataset’s distribution) for each continent group (AS, EU, AF, NA, SA, OC).**\n",
        "\n",
        "*   **(ii) Determine whether there is any difference (on the average) for the math scores among European (EU) and Asian (AS) countries (assume normality and equal variances). Draw side-by-side box plots.**\n",
        "Her kıta grubu (AS, EU, AF, NA, SA, OC) için tanımlayıcı istatistikleri (bir veri kümesinin dağılımının merkezi eğilimi, dağılımı ve şekli) alın. Avrupa (AB) ve Asya (AS) ülkeleri arasında matematik puanları için (ortalama olarak) herhangi bir fark olup olmadığını belirleyin (normallik ve eşit varyanslar varsayalım).\n",
        "\n",
        "**CHECK: statistic=0.870055317967983, pvalue=0.38826888111307345**"
      ]
    },
    {
      "cell_type": "markdown",
      "metadata": {
        "id": "0D3gDA7h3XtF"
      },
      "source": [
        "### SOLUTION"
      ]
    },
    {
      "cell_type": "markdown",
      "metadata": {
        "id": "VLQFIU-g3XtF"
      },
      "source": [
        "*   **(i) Get descriptive statistics (the central tendency, dispersion and shape of a dataset’s distribution) for each continent group (AS, EU, AF, NA, SA, OC).**"
      ]
    },
    {
      "cell_type": "code",
      "execution_count": null,
      "metadata": {
        "id": "Bo2Jt1jS3XtG",
        "outputId": "0a2726ca-ef0b-44b2-d612-e5eb04671f3a"
      },
      "outputs": [
        {
          "data": {
            "text/html": [
              "<div>\n",
              "<style scoped>\n",
              "    .dataframe tbody tr th:only-of-type {\n",
              "        vertical-align: middle;\n",
              "    }\n",
              "\n",
              "    .dataframe tbody tr th {\n",
              "        vertical-align: top;\n",
              "    }\n",
              "\n",
              "    .dataframe thead th {\n",
              "        text-align: right;\n",
              "    }\n",
              "</style>\n",
              "<table border=\"1\" class=\"dataframe\">\n",
              "  <thead>\n",
              "    <tr style=\"text-align: right;\">\n",
              "      <th></th>\n",
              "      <th>Country Code</th>\n",
              "      <th>Continent_Code</th>\n",
              "      <th>internet_users_per_100</th>\n",
              "      <th>Math</th>\n",
              "      <th>Reading</th>\n",
              "      <th>Science</th>\n",
              "    </tr>\n",
              "  </thead>\n",
              "  <tbody>\n",
              "    <tr>\n",
              "      <th>0</th>\n",
              "      <td>ALB</td>\n",
              "      <td>EU</td>\n",
              "      <td>63.252933</td>\n",
              "      <td>413.1570</td>\n",
              "      <td>405.2588</td>\n",
              "      <td>427.2250</td>\n",
              "    </tr>\n",
              "    <tr>\n",
              "      <th>1</th>\n",
              "      <td>ARE</td>\n",
              "      <td>AS</td>\n",
              "      <td>90.500000</td>\n",
              "      <td>427.4827</td>\n",
              "      <td>433.5423</td>\n",
              "      <td>436.7311</td>\n",
              "    </tr>\n",
              "    <tr>\n",
              "      <th>2</th>\n",
              "      <td>ARG</td>\n",
              "      <td>SA</td>\n",
              "      <td>68.043064</td>\n",
              "      <td>409.0333</td>\n",
              "      <td>425.3031</td>\n",
              "      <td>432.2262</td>\n",
              "    </tr>\n",
              "    <tr>\n",
              "      <th>3</th>\n",
              "      <td>AUS</td>\n",
              "      <td>OC</td>\n",
              "      <td>84.560519</td>\n",
              "      <td>493.8962</td>\n",
              "      <td>502.9006</td>\n",
              "      <td>509.9939</td>\n",
              "    </tr>\n",
              "    <tr>\n",
              "      <th>4</th>\n",
              "      <td>AUT</td>\n",
              "      <td>EU</td>\n",
              "      <td>83.940142</td>\n",
              "      <td>496.7423</td>\n",
              "      <td>484.8656</td>\n",
              "      <td>495.0375</td>\n",
              "    </tr>\n",
              "  </tbody>\n",
              "</table>\n",
              "</div>"
            ],
            "text/plain": [
              "  Country Code Continent_Code  internet_users_per_100      Math   Reading  \\\n",
              "0          ALB             EU               63.252933  413.1570  405.2588   \n",
              "1          ARE             AS               90.500000  427.4827  433.5423   \n",
              "2          ARG             SA               68.043064  409.0333  425.3031   \n",
              "3          AUS             OC               84.560519  493.8962  502.9006   \n",
              "4          AUT             EU               83.940142  496.7423  484.8656   \n",
              "\n",
              "    Science  \n",
              "0  427.2250  \n",
              "1  436.7311  \n",
              "2  432.2262  \n",
              "3  509.9939  \n",
              "4  495.0375  "
            ]
          },
          "execution_count": 60,
          "metadata": {},
          "output_type": "execute_result"
        }
      ],
      "source": [
        "# PISA Test Dataset\n",
        "\n",
        "dfpisa = pd.read_csv(\"2015 PISA Test - Sheet1.csv\", sep = \",\")\n",
        "\n",
        "dfpisa.head()"
      ]
    },
    {
      "cell_type": "code",
      "execution_count": null,
      "metadata": {
        "id": "F12BWhzY3XtH",
        "outputId": "c312abea-952f-4016-bcdc-7109f44dc911"
      },
      "outputs": [
        {
          "data": {
            "text/html": [
              "<div>\n",
              "<style scoped>\n",
              "    .dataframe tbody tr th:only-of-type {\n",
              "        vertical-align: middle;\n",
              "    }\n",
              "\n",
              "    .dataframe tbody tr th {\n",
              "        vertical-align: top;\n",
              "    }\n",
              "\n",
              "    .dataframe thead th {\n",
              "        text-align: right;\n",
              "    }\n",
              "</style>\n",
              "<table border=\"1\" class=\"dataframe\">\n",
              "  <thead>\n",
              "    <tr style=\"text-align: right;\">\n",
              "      <th></th>\n",
              "      <th>Country Code</th>\n",
              "      <th>Continent_Code</th>\n",
              "      <th>internet_users_per_100</th>\n",
              "      <th>Math</th>\n",
              "      <th>Reading</th>\n",
              "      <th>Science</th>\n",
              "    </tr>\n",
              "  </thead>\n",
              "  <tbody>\n",
              "    <tr>\n",
              "      <th>10</th>\n",
              "      <td>CHL</td>\n",
              "      <td>SA</td>\n",
              "      <td>64.289000</td>\n",
              "      <td>422.6714</td>\n",
              "      <td>458.5709</td>\n",
              "      <td>446.9561</td>\n",
              "    </tr>\n",
              "    <tr>\n",
              "      <th>63</th>\n",
              "      <td>THA</td>\n",
              "      <td>AS</td>\n",
              "      <td>39.316127</td>\n",
              "      <td>415.4638</td>\n",
              "      <td>409.1301</td>\n",
              "      <td>421.3373</td>\n",
              "    </tr>\n",
              "    <tr>\n",
              "      <th>1</th>\n",
              "      <td>ARE</td>\n",
              "      <td>AS</td>\n",
              "      <td>90.500000</td>\n",
              "      <td>427.4827</td>\n",
              "      <td>433.5423</td>\n",
              "      <td>436.7311</td>\n",
              "    </tr>\n",
              "    <tr>\n",
              "      <th>13</th>\n",
              "      <td>CRI</td>\n",
              "      <td>NaN</td>\n",
              "      <td>59.762950</td>\n",
              "      <td>400.2534</td>\n",
              "      <td>427.4875</td>\n",
              "      <td>419.6080</td>\n",
              "    </tr>\n",
              "    <tr>\n",
              "      <th>34</th>\n",
              "      <td>ITA</td>\n",
              "      <td>EU</td>\n",
              "      <td>58.141735</td>\n",
              "      <td>489.7287</td>\n",
              "      <td>484.7580</td>\n",
              "      <td>480.5468</td>\n",
              "    </tr>\n",
              "    <tr>\n",
              "      <th>35</th>\n",
              "      <td>JOR</td>\n",
              "      <td>AS</td>\n",
              "      <td>60.114383</td>\n",
              "      <td>380.2590</td>\n",
              "      <td>408.1022</td>\n",
              "      <td>408.6691</td>\n",
              "    </tr>\n",
              "    <tr>\n",
              "      <th>22</th>\n",
              "      <td>FIN</td>\n",
              "      <td>EU</td>\n",
              "      <td>86.422133</td>\n",
              "      <td>511.0769</td>\n",
              "      <td>526.4247</td>\n",
              "      <td>530.6612</td>\n",
              "    </tr>\n",
              "    <tr>\n",
              "      <th>62</th>\n",
              "      <td>SWE</td>\n",
              "      <td>EU</td>\n",
              "      <td>90.610200</td>\n",
              "      <td>493.9181</td>\n",
              "      <td>500.1556</td>\n",
              "      <td>493.4224</td>\n",
              "    </tr>\n",
              "    <tr>\n",
              "      <th>49</th>\n",
              "      <td>MYS</td>\n",
              "      <td>AS</td>\n",
              "      <td>71.064068</td>\n",
              "      <td>446.1098</td>\n",
              "      <td>430.5782</td>\n",
              "      <td>442.9475</td>\n",
              "    </tr>\n",
              "    <tr>\n",
              "      <th>44</th>\n",
              "      <td>MDA</td>\n",
              "      <td>EU</td>\n",
              "      <td>63.306625</td>\n",
              "      <td>419.6635</td>\n",
              "      <td>416.2293</td>\n",
              "      <td>427.9978</td>\n",
              "    </tr>\n",
              "    <tr>\n",
              "      <th>3</th>\n",
              "      <td>AUS</td>\n",
              "      <td>OC</td>\n",
              "      <td>84.560519</td>\n",
              "      <td>493.8962</td>\n",
              "      <td>502.9006</td>\n",
              "      <td>509.9939</td>\n",
              "    </tr>\n",
              "    <tr>\n",
              "      <th>56</th>\n",
              "      <td>QAT</td>\n",
              "      <td>AS</td>\n",
              "      <td>92.884826</td>\n",
              "      <td>402.4007</td>\n",
              "      <td>401.8874</td>\n",
              "      <td>417.6112</td>\n",
              "    </tr>\n",
              "    <tr>\n",
              "      <th>69</th>\n",
              "      <td>VNM</td>\n",
              "      <td>AS</td>\n",
              "      <td>43.500000</td>\n",
              "      <td>494.5183</td>\n",
              "      <td>486.7738</td>\n",
              "      <td>524.6445</td>\n",
              "    </tr>\n",
              "    <tr>\n",
              "      <th>37</th>\n",
              "      <td>KAZ</td>\n",
              "      <td>AS</td>\n",
              "      <td>72.900000</td>\n",
              "      <td>459.8160</td>\n",
              "      <td>427.1410</td>\n",
              "      <td>456.4836</td>\n",
              "    </tr>\n",
              "    <tr>\n",
              "      <th>20</th>\n",
              "      <td>ESP</td>\n",
              "      <td>EU</td>\n",
              "      <td>78.689600</td>\n",
              "      <td>485.8432</td>\n",
              "      <td>495.5764</td>\n",
              "      <td>492.7861</td>\n",
              "    </tr>\n",
              "    <tr>\n",
              "      <th>66</th>\n",
              "      <td>TUR</td>\n",
              "      <td>EU</td>\n",
              "      <td>53.744979</td>\n",
              "      <td>420.4540</td>\n",
              "      <td>428.3351</td>\n",
              "      <td>425.4895</td>\n",
              "    </tr>\n",
              "    <tr>\n",
              "      <th>47</th>\n",
              "      <td>MLT</td>\n",
              "      <td>EU</td>\n",
              "      <td>76.184000</td>\n",
              "      <td>478.6448</td>\n",
              "      <td>446.6661</td>\n",
              "      <td>464.7819</td>\n",
              "    </tr>\n",
              "    <tr>\n",
              "      <th>54</th>\n",
              "      <td>POL</td>\n",
              "      <td>EU</td>\n",
              "      <td>67.997000</td>\n",
              "      <td>504.4693</td>\n",
              "      <td>505.6971</td>\n",
              "      <td>501.4353</td>\n",
              "    </tr>\n",
              "    <tr>\n",
              "      <th>9</th>\n",
              "      <td>CHE</td>\n",
              "      <td>EU</td>\n",
              "      <td>87.479056</td>\n",
              "      <td>521.2506</td>\n",
              "      <td>492.1982</td>\n",
              "      <td>505.5058</td>\n",
              "    </tr>\n",
              "    <tr>\n",
              "      <th>39</th>\n",
              "      <td>LBN</td>\n",
              "      <td>AS</td>\n",
              "      <td>74.000000</td>\n",
              "      <td>396.2497</td>\n",
              "      <td>346.5490</td>\n",
              "      <td>386.4854</td>\n",
              "    </tr>\n",
              "  </tbody>\n",
              "</table>\n",
              "</div>"
            ],
            "text/plain": [
              "   Country Code Continent_Code  internet_users_per_100      Math   Reading  \\\n",
              "10          CHL             SA               64.289000  422.6714  458.5709   \n",
              "63          THA             AS               39.316127  415.4638  409.1301   \n",
              "1           ARE             AS               90.500000  427.4827  433.5423   \n",
              "13          CRI            NaN               59.762950  400.2534  427.4875   \n",
              "34          ITA             EU               58.141735  489.7287  484.7580   \n",
              "35          JOR             AS               60.114383  380.2590  408.1022   \n",
              "22          FIN             EU               86.422133  511.0769  526.4247   \n",
              "62          SWE             EU               90.610200  493.9181  500.1556   \n",
              "49          MYS             AS               71.064068  446.1098  430.5782   \n",
              "44          MDA             EU               63.306625  419.6635  416.2293   \n",
              "3           AUS             OC               84.560519  493.8962  502.9006   \n",
              "56          QAT             AS               92.884826  402.4007  401.8874   \n",
              "69          VNM             AS               43.500000  494.5183  486.7738   \n",
              "37          KAZ             AS               72.900000  459.8160  427.1410   \n",
              "20          ESP             EU               78.689600  485.8432  495.5764   \n",
              "66          TUR             EU               53.744979  420.4540  428.3351   \n",
              "47          MLT             EU               76.184000  478.6448  446.6661   \n",
              "54          POL             EU               67.997000  504.4693  505.6971   \n",
              "9           CHE             EU               87.479056  521.2506  492.1982   \n",
              "39          LBN             AS               74.000000  396.2497  346.5490   \n",
              "\n",
              "     Science  \n",
              "10  446.9561  \n",
              "63  421.3373  \n",
              "1   436.7311  \n",
              "13  419.6080  \n",
              "34  480.5468  \n",
              "35  408.6691  \n",
              "22  530.6612  \n",
              "62  493.4224  \n",
              "49  442.9475  \n",
              "44  427.9978  \n",
              "3   509.9939  \n",
              "56  417.6112  \n",
              "69  524.6445  \n",
              "37  456.4836  \n",
              "20  492.7861  \n",
              "66  425.4895  \n",
              "47  464.7819  \n",
              "54  501.4353  \n",
              "9   505.5058  \n",
              "39  386.4854  "
            ]
          },
          "execution_count": 22,
          "metadata": {},
          "output_type": "execute_result"
        }
      ],
      "source": [
        "dfpisa.sample(20)"
      ]
    },
    {
      "cell_type": "code",
      "execution_count": null,
      "metadata": {
        "id": "VWH9v-zU3XtI",
        "outputId": "3b8c5278-b4ce-4455-9564-497a74a5665a"
      },
      "outputs": [
        {
          "data": {
            "text/html": [
              "<div>\n",
              "<style scoped>\n",
              "    .dataframe tbody tr th:only-of-type {\n",
              "        vertical-align: middle;\n",
              "    }\n",
              "\n",
              "    .dataframe tbody tr th {\n",
              "        vertical-align: top;\n",
              "    }\n",
              "\n",
              "    .dataframe thead th {\n",
              "        text-align: right;\n",
              "    }\n",
              "</style>\n",
              "<table border=\"1\" class=\"dataframe\">\n",
              "  <thead>\n",
              "    <tr style=\"text-align: right;\">\n",
              "      <th></th>\n",
              "      <th>Country Code</th>\n",
              "      <th>Continent_Code</th>\n",
              "      <th>internet_users_per_100</th>\n",
              "      <th>Math</th>\n",
              "      <th>Reading</th>\n",
              "      <th>Science</th>\n",
              "    </tr>\n",
              "  </thead>\n",
              "  <tbody>\n",
              "    <tr>\n",
              "      <th>8</th>\n",
              "      <td>CAN</td>\n",
              "      <td>NaN</td>\n",
              "      <td>88.470000</td>\n",
              "      <td>515.6474</td>\n",
              "      <td>526.6678</td>\n",
              "      <td>527.7047</td>\n",
              "    </tr>\n",
              "    <tr>\n",
              "      <th>13</th>\n",
              "      <td>CRI</td>\n",
              "      <td>NaN</td>\n",
              "      <td>59.762950</td>\n",
              "      <td>400.2534</td>\n",
              "      <td>427.4875</td>\n",
              "      <td>419.6080</td>\n",
              "    </tr>\n",
              "    <tr>\n",
              "      <th>18</th>\n",
              "      <td>DOM</td>\n",
              "      <td>NaN</td>\n",
              "      <td>54.215766</td>\n",
              "      <td>327.7020</td>\n",
              "      <td>357.7377</td>\n",
              "      <td>331.6388</td>\n",
              "    </tr>\n",
              "    <tr>\n",
              "      <th>45</th>\n",
              "      <td>MEX</td>\n",
              "      <td>NaN</td>\n",
              "      <td>57.431043</td>\n",
              "      <td>408.0235</td>\n",
              "      <td>423.2765</td>\n",
              "      <td>415.7099</td>\n",
              "    </tr>\n",
              "    <tr>\n",
              "      <th>68</th>\n",
              "      <td>USA</td>\n",
              "      <td>NaN</td>\n",
              "      <td>74.554202</td>\n",
              "      <td>469.6285</td>\n",
              "      <td>496.9351</td>\n",
              "      <td>496.2424</td>\n",
              "    </tr>\n",
              "  </tbody>\n",
              "</table>\n",
              "</div>"
            ],
            "text/plain": [
              "   Country Code Continent_Code  internet_users_per_100      Math   Reading  \\\n",
              "8           CAN            NaN               88.470000  515.6474  526.6678   \n",
              "13          CRI            NaN               59.762950  400.2534  427.4875   \n",
              "18          DOM            NaN               54.215766  327.7020  357.7377   \n",
              "45          MEX            NaN               57.431043  408.0235  423.2765   \n",
              "68          USA            NaN               74.554202  469.6285  496.9351   \n",
              "\n",
              "     Science  \n",
              "8   527.7047  \n",
              "13  419.6080  \n",
              "18  331.6388  \n",
              "45  415.7099  \n",
              "68  496.2424  "
            ]
          },
          "execution_count": 61,
          "metadata": {},
          "output_type": "execute_result"
        }
      ],
      "source": [
        "dfpisa[dfpisa['Continent_Code'].isnull()==True]\n",
        "\n",
        "# Continent_Code has NaN values and all of them in North America!"
      ]
    },
    {
      "cell_type": "code",
      "execution_count": null,
      "metadata": {
        "id": "IF_Mqk1P3XtJ"
      },
      "outputs": [],
      "source": [
        "dfpisa['Continent_Code'].fillna(value='NA', inplace = True)\n",
        "\n",
        "# change NaN values to NA (North America)"
      ]
    },
    {
      "cell_type": "code",
      "execution_count": null,
      "metadata": {
        "id": "UpcTTDwu3XtK",
        "outputId": "477d8856-2d39-46d6-b75a-ef2065b8b572"
      },
      "outputs": [
        {
          "data": {
            "text/html": [
              "<div>\n",
              "<style scoped>\n",
              "    .dataframe tbody tr th:only-of-type {\n",
              "        vertical-align: middle;\n",
              "    }\n",
              "\n",
              "    .dataframe tbody tr th {\n",
              "        vertical-align: top;\n",
              "    }\n",
              "\n",
              "    .dataframe thead th {\n",
              "        text-align: right;\n",
              "    }\n",
              "</style>\n",
              "<table border=\"1\" class=\"dataframe\">\n",
              "  <thead>\n",
              "    <tr style=\"text-align: right;\">\n",
              "      <th></th>\n",
              "      <th>Country Code</th>\n",
              "      <th>Continent_Code</th>\n",
              "      <th>internet_users_per_100</th>\n",
              "      <th>Math</th>\n",
              "      <th>Reading</th>\n",
              "      <th>Science</th>\n",
              "    </tr>\n",
              "  </thead>\n",
              "  <tbody>\n",
              "    <tr>\n",
              "      <th>8</th>\n",
              "      <td>CAN</td>\n",
              "      <td>NA</td>\n",
              "      <td>88.470000</td>\n",
              "      <td>515.6474</td>\n",
              "      <td>526.6678</td>\n",
              "      <td>527.7047</td>\n",
              "    </tr>\n",
              "    <tr>\n",
              "      <th>13</th>\n",
              "      <td>CRI</td>\n",
              "      <td>NA</td>\n",
              "      <td>59.762950</td>\n",
              "      <td>400.2534</td>\n",
              "      <td>427.4875</td>\n",
              "      <td>419.6080</td>\n",
              "    </tr>\n",
              "    <tr>\n",
              "      <th>18</th>\n",
              "      <td>DOM</td>\n",
              "      <td>NA</td>\n",
              "      <td>54.215766</td>\n",
              "      <td>327.7020</td>\n",
              "      <td>357.7377</td>\n",
              "      <td>331.6388</td>\n",
              "    </tr>\n",
              "    <tr>\n",
              "      <th>45</th>\n",
              "      <td>MEX</td>\n",
              "      <td>NA</td>\n",
              "      <td>57.431043</td>\n",
              "      <td>408.0235</td>\n",
              "      <td>423.2765</td>\n",
              "      <td>415.7099</td>\n",
              "    </tr>\n",
              "    <tr>\n",
              "      <th>68</th>\n",
              "      <td>USA</td>\n",
              "      <td>NA</td>\n",
              "      <td>74.554202</td>\n",
              "      <td>469.6285</td>\n",
              "      <td>496.9351</td>\n",
              "      <td>496.2424</td>\n",
              "    </tr>\n",
              "  </tbody>\n",
              "</table>\n",
              "</div>"
            ],
            "text/plain": [
              "   Country Code Continent_Code  internet_users_per_100      Math   Reading  \\\n",
              "8           CAN             NA               88.470000  515.6474  526.6678   \n",
              "13          CRI             NA               59.762950  400.2534  427.4875   \n",
              "18          DOM             NA               54.215766  327.7020  357.7377   \n",
              "45          MEX             NA               57.431043  408.0235  423.2765   \n",
              "68          USA             NA               74.554202  469.6285  496.9351   \n",
              "\n",
              "     Science  \n",
              "8   527.7047  \n",
              "13  419.6080  \n",
              "18  331.6388  \n",
              "45  415.7099  \n",
              "68  496.2424  "
            ]
          },
          "execution_count": 85,
          "metadata": {},
          "output_type": "execute_result"
        }
      ],
      "source": [
        "dfpisa[dfpisa['Continent_Code']=='NA'].head(10)"
      ]
    },
    {
      "cell_type": "code",
      "execution_count": null,
      "metadata": {
        "id": "2EroRz1B3XtK",
        "outputId": "471e2365-ab58-4a54-98db-0a3502cba977"
      },
      "outputs": [
        {
          "data": {
            "text/plain": [
              "(70, 6)"
            ]
          },
          "execution_count": 64,
          "metadata": {},
          "output_type": "execute_result"
        }
      ],
      "source": [
        "dfpisa.shape"
      ]
    },
    {
      "cell_type": "code",
      "execution_count": null,
      "metadata": {
        "id": "gu_J_gVq3XtL",
        "outputId": "d58d4dca-b336-4b28-f533-8447c746c49e"
      },
      "outputs": [
        {
          "data": {
            "text/html": [
              "<div>\n",
              "<style scoped>\n",
              "    .dataframe tbody tr th:only-of-type {\n",
              "        vertical-align: middle;\n",
              "    }\n",
              "\n",
              "    .dataframe tbody tr th {\n",
              "        vertical-align: top;\n",
              "    }\n",
              "\n",
              "    .dataframe thead th {\n",
              "        text-align: right;\n",
              "    }\n",
              "</style>\n",
              "<table border=\"1\" class=\"dataframe\">\n",
              "  <thead>\n",
              "    <tr style=\"text-align: right;\">\n",
              "      <th></th>\n",
              "      <th>internet_users_per_100</th>\n",
              "      <th>Math</th>\n",
              "      <th>Reading</th>\n",
              "      <th>Science</th>\n",
              "    </tr>\n",
              "  </thead>\n",
              "  <tbody>\n",
              "    <tr>\n",
              "      <th>count</th>\n",
              "      <td>70.000000</td>\n",
              "      <td>70.000000</td>\n",
              "      <td>70.000000</td>\n",
              "      <td>70.000000</td>\n",
              "    </tr>\n",
              "    <tr>\n",
              "      <th>mean</th>\n",
              "      <td>71.973099</td>\n",
              "      <td>460.971557</td>\n",
              "      <td>460.997291</td>\n",
              "      <td>465.439093</td>\n",
              "    </tr>\n",
              "    <tr>\n",
              "      <th>std</th>\n",
              "      <td>16.390632</td>\n",
              "      <td>53.327205</td>\n",
              "      <td>49.502679</td>\n",
              "      <td>48.397254</td>\n",
              "    </tr>\n",
              "    <tr>\n",
              "      <th>min</th>\n",
              "      <td>21.976068</td>\n",
              "      <td>327.702000</td>\n",
              "      <td>346.549000</td>\n",
              "      <td>331.638800</td>\n",
              "    </tr>\n",
              "    <tr>\n",
              "      <th>25%</th>\n",
              "      <td>60.899020</td>\n",
              "      <td>417.416075</td>\n",
              "      <td>426.948625</td>\n",
              "      <td>425.923375</td>\n",
              "    </tr>\n",
              "    <tr>\n",
              "      <th>50%</th>\n",
              "      <td>72.999350</td>\n",
              "      <td>477.607150</td>\n",
              "      <td>480.199850</td>\n",
              "      <td>475.400050</td>\n",
              "    </tr>\n",
              "    <tr>\n",
              "      <th>75%</th>\n",
              "      <td>85.026763</td>\n",
              "      <td>500.482925</td>\n",
              "      <td>499.687475</td>\n",
              "      <td>502.431250</td>\n",
              "    </tr>\n",
              "    <tr>\n",
              "      <th>max</th>\n",
              "      <td>98.200000</td>\n",
              "      <td>564.189700</td>\n",
              "      <td>535.100200</td>\n",
              "      <td>555.574700</td>\n",
              "    </tr>\n",
              "  </tbody>\n",
              "</table>\n",
              "</div>"
            ],
            "text/plain": [
              "       internet_users_per_100        Math     Reading     Science\n",
              "count               70.000000   70.000000   70.000000   70.000000\n",
              "mean                71.973099  460.971557  460.997291  465.439093\n",
              "std                 16.390632   53.327205   49.502679   48.397254\n",
              "min                 21.976068  327.702000  346.549000  331.638800\n",
              "25%                 60.899020  417.416075  426.948625  425.923375\n",
              "50%                 72.999350  477.607150  480.199850  475.400050\n",
              "75%                 85.026763  500.482925  499.687475  502.431250\n",
              "max                 98.200000  564.189700  535.100200  555.574700"
            ]
          },
          "execution_count": 53,
          "metadata": {},
          "output_type": "execute_result"
        }
      ],
      "source": [
        "dfpisa.describe()  # for all continents"
      ]
    },
    {
      "cell_type": "code",
      "execution_count": null,
      "metadata": {
        "id": "oSNFINXV3XtM",
        "outputId": "4e21e43b-a053-42fe-e603-025ffecb23c9"
      },
      "outputs": [
        {
          "data": {
            "text/plain": [
              "array(['EU', 'AS', 'SA', 'OC', 'NA', 'AF'], dtype=object)"
            ]
          },
          "execution_count": 65,
          "metadata": {},
          "output_type": "execute_result"
        }
      ],
      "source": [
        "# see the unique values \n",
        "\n",
        "dfpisa.Continent_Code.unique()"
      ]
    },
    {
      "cell_type": "code",
      "execution_count": null,
      "metadata": {
        "id": "vsU8_5Zr3XtN",
        "outputId": "e16ba180-c6a7-418f-d39d-e71baa9af32d"
      },
      "outputs": [
        {
          "data": {
            "image/png": "[encoded data removed]",
            "text/plain": [
              "<Figure size 1440x432 with 4 Axes>"
            ]
          },
          "metadata": {
            "needs_background": "light"
          },
          "output_type": "display_data"
        }
      ],
      "source": [
        "# First of all let's see how distribute the PISA scores for all over the world.\n",
        "\n",
        "fig, axes = plt.subplots(1,4, figsize=(20,6))\n",
        "\n",
        "sns.histplot(dfpisa['internet_users_per_100'], kde=True, ax=axes[0])\n",
        "sns.histplot(dfpisa['Math'], kde=True, ax=axes[1])\n",
        "sns.histplot(dfpisa['Reading'], kde=True, ax=axes[2])\n",
        "sns.histplot(dfpisa['Science'], kde=True, ax=axes[3]);"
      ]
    },
    {
      "cell_type": "markdown",
      "metadata": {
        "id": "ChxQKeWX3XtP"
      },
      "source": [
        "## Analysis for EU"
      ]
    },
    {
      "cell_type": "code",
      "execution_count": null,
      "metadata": {
        "id": "79qzjBRL3XtQ",
        "outputId": "56889d01-2e9a-42b2-bcfa-b723c652a1a7"
      },
      "outputs": [
        {
          "data": {
            "text/html": [
              "<div>\n",
              "<style scoped>\n",
              "    .dataframe tbody tr th:only-of-type {\n",
              "        vertical-align: middle;\n",
              "    }\n",
              "\n",
              "    .dataframe tbody tr th {\n",
              "        vertical-align: top;\n",
              "    }\n",
              "\n",
              "    .dataframe thead th {\n",
              "        text-align: right;\n",
              "    }\n",
              "</style>\n",
              "<table border=\"1\" class=\"dataframe\">\n",
              "  <thead>\n",
              "    <tr style=\"text-align: right;\">\n",
              "      <th></th>\n",
              "      <th>Country Code</th>\n",
              "      <th>Continent_Code</th>\n",
              "      <th>internet_users_per_100</th>\n",
              "      <th>Math</th>\n",
              "      <th>Reading</th>\n",
              "      <th>Science</th>\n",
              "    </tr>\n",
              "  </thead>\n",
              "  <tbody>\n",
              "    <tr>\n",
              "      <th>0</th>\n",
              "      <td>ALB</td>\n",
              "      <td>EU</td>\n",
              "      <td>63.252933</td>\n",
              "      <td>413.1570</td>\n",
              "      <td>405.2588</td>\n",
              "      <td>427.2250</td>\n",
              "    </tr>\n",
              "    <tr>\n",
              "      <th>4</th>\n",
              "      <td>AUT</td>\n",
              "      <td>EU</td>\n",
              "      <td>83.940142</td>\n",
              "      <td>496.7423</td>\n",
              "      <td>484.8656</td>\n",
              "      <td>495.0375</td>\n",
              "    </tr>\n",
              "    <tr>\n",
              "      <th>5</th>\n",
              "      <td>BEL</td>\n",
              "      <td>EU</td>\n",
              "      <td>85.052900</td>\n",
              "      <td>506.9844</td>\n",
              "      <td>498.5242</td>\n",
              "      <td>501.9997</td>\n",
              "    </tr>\n",
              "    <tr>\n",
              "      <th>6</th>\n",
              "      <td>BGR</td>\n",
              "      <td>EU</td>\n",
              "      <td>56.656300</td>\n",
              "      <td>441.1899</td>\n",
              "      <td>431.7175</td>\n",
              "      <td>445.7720</td>\n",
              "    </tr>\n",
              "    <tr>\n",
              "      <th>9</th>\n",
              "      <td>CHE</td>\n",
              "      <td>EU</td>\n",
              "      <td>87.479056</td>\n",
              "      <td>521.2506</td>\n",
              "      <td>492.1982</td>\n",
              "      <td>505.5058</td>\n",
              "    </tr>\n",
              "  </tbody>\n",
              "</table>\n",
              "</div>"
            ],
            "text/plain": [
              "  Country Code Continent_Code  internet_users_per_100      Math   Reading  \\\n",
              "0          ALB             EU               63.252933  413.1570  405.2588   \n",
              "4          AUT             EU               83.940142  496.7423  484.8656   \n",
              "5          BEL             EU               85.052900  506.9844  498.5242   \n",
              "6          BGR             EU               56.656300  441.1899  431.7175   \n",
              "9          CHE             EU               87.479056  521.2506  492.1982   \n",
              "\n",
              "    Science  \n",
              "0  427.2250  \n",
              "4  495.0375  \n",
              "5  501.9997  \n",
              "6  445.7720  \n",
              "9  505.5058  "
            ]
          },
          "execution_count": 70,
          "metadata": {},
          "output_type": "execute_result"
        }
      ],
      "source": [
        "dfEU = dfpisa[dfpisa[\"Continent_Code\"]==\"EU\"]\n",
        "dfEU.head()"
      ]
    },
    {
      "cell_type": "code",
      "execution_count": null,
      "metadata": {
        "id": "VetxyOeB3XtS",
        "outputId": "eed10819-355c-4763-9e4a-03561887c051"
      },
      "outputs": [
        {
          "data": {
            "text/html": [
              "<div>\n",
              "<style scoped>\n",
              "    .dataframe tbody tr th:only-of-type {\n",
              "        vertical-align: middle;\n",
              "    }\n",
              "\n",
              "    .dataframe tbody tr th {\n",
              "        vertical-align: top;\n",
              "    }\n",
              "\n",
              "    .dataframe thead th {\n",
              "        text-align: right;\n",
              "    }\n",
              "</style>\n",
              "<table border=\"1\" class=\"dataframe\">\n",
              "  <thead>\n",
              "    <tr style=\"text-align: right;\">\n",
              "      <th></th>\n",
              "      <th>internet_users_per_100</th>\n",
              "      <th>Math</th>\n",
              "      <th>Reading</th>\n",
              "      <th>Science</th>\n",
              "    </tr>\n",
              "  </thead>\n",
              "  <tbody>\n",
              "    <tr>\n",
              "      <th>count</th>\n",
              "      <td>37.000000</td>\n",
              "      <td>37.000000</td>\n",
              "      <td>37.000000</td>\n",
              "      <td>37.000000</td>\n",
              "    </tr>\n",
              "    <tr>\n",
              "      <th>mean</th>\n",
              "      <td>77.274888</td>\n",
              "      <td>477.981449</td>\n",
              "      <td>476.164608</td>\n",
              "      <td>478.299381</td>\n",
              "    </tr>\n",
              "    <tr>\n",
              "      <th>std</th>\n",
              "      <td>12.425773</td>\n",
              "      <td>35.150403</td>\n",
              "      <td>37.720545</td>\n",
              "      <td>34.450616</td>\n",
              "    </tr>\n",
              "    <tr>\n",
              "      <th>min</th>\n",
              "      <td>53.744979</td>\n",
              "      <td>371.311400</td>\n",
              "      <td>351.741500</td>\n",
              "      <td>383.682400</td>\n",
              "    </tr>\n",
              "    <tr>\n",
              "      <th>25%</th>\n",
              "      <td>68.632900</td>\n",
              "      <td>464.040100</td>\n",
              "      <td>452.514300</td>\n",
              "      <td>460.774900</td>\n",
              "    </tr>\n",
              "    <tr>\n",
              "      <th>50%</th>\n",
              "      <td>76.184000</td>\n",
              "      <td>489.728700</td>\n",
              "      <td>487.250100</td>\n",
              "      <td>490.225000</td>\n",
              "    </tr>\n",
              "    <tr>\n",
              "      <th>75%</th>\n",
              "      <td>87.479056</td>\n",
              "      <td>503.722000</td>\n",
              "      <td>499.814600</td>\n",
              "      <td>501.936900</td>\n",
              "    </tr>\n",
              "    <tr>\n",
              "      <th>max</th>\n",
              "      <td>98.200000</td>\n",
              "      <td>521.250600</td>\n",
              "      <td>526.424700</td>\n",
              "      <td>534.193700</td>\n",
              "    </tr>\n",
              "  </tbody>\n",
              "</table>\n",
              "</div>"
            ],
            "text/plain": [
              "       internet_users_per_100        Math     Reading     Science\n",
              "count               37.000000   37.000000   37.000000   37.000000\n",
              "mean                77.274888  477.981449  476.164608  478.299381\n",
              "std                 12.425773   35.150403   37.720545   34.450616\n",
              "min                 53.744979  371.311400  351.741500  383.682400\n",
              "25%                 68.632900  464.040100  452.514300  460.774900\n",
              "50%                 76.184000  489.728700  487.250100  490.225000\n",
              "75%                 87.479056  503.722000  499.814600  501.936900\n",
              "max                 98.200000  521.250600  526.424700  534.193700"
            ]
          },
          "execution_count": 67,
          "metadata": {},
          "output_type": "execute_result"
        }
      ],
      "source": [
        "dfpisa[dfpisa[\"Continent_Code\"]==\"EU\"].describe()\n"
      ]
    },
    {
      "cell_type": "code",
      "execution_count": null,
      "metadata": {
        "id": "8A_4jWzF3XtT",
        "outputId": "ef5f86ac-1d89-48f5-9d0c-fc60db84e6ea"
      },
      "outputs": [
        {
          "data": {
            "text/plain": [
              "(37, 6)"
            ]
          },
          "execution_count": 71,
          "metadata": {},
          "output_type": "execute_result"
        }
      ],
      "source": [
        "dfEU.shape\n",
        "\n",
        "# my data has values of 37 countries "
      ]
    },
    {
      "cell_type": "code",
      "execution_count": null,
      "metadata": {
        "id": "Vegg_ReO3XtV",
        "outputId": "3405dd87-6753-41ac-e7b0-69a843bc3e6a"
      },
      "outputs": [
        {
          "data": {
            "text/plain": [
              "internet_users_per_100     154.399841\n",
              "Math                      1235.550805\n",
              "Reading                   1422.839540\n",
              "Science                   1186.844969\n",
              "dtype: float64"
            ]
          },
          "execution_count": 72,
          "metadata": {},
          "output_type": "execute_result"
        }
      ],
      "source": [
        "dfEU.var()"
      ]
    },
    {
      "cell_type": "code",
      "execution_count": null,
      "metadata": {
        "id": "-iLHOli43XtX",
        "outputId": "b511bb6c-7bfc-49b7-98ca-37e630cafad1"
      },
      "outputs": [
        {
          "data": {
            "text/plain": [
              "35.15040262927297"
            ]
          },
          "execution_count": 74,
          "metadata": {},
          "output_type": "execute_result"
        }
      ],
      "source": [
        "# to confirm if math std came from describe is true.\n",
        "\n",
        "np.sqrt(1235.550805)"
      ]
    },
    {
      "cell_type": "code",
      "execution_count": null,
      "metadata": {
        "id": "KDNiF0No3XtY",
        "outputId": "df6a8280-b1f2-430a-b675-1028633c164b"
      },
      "outputs": [
        {
          "data": {
            "image/png": "[encoded data removed]",
            "text/plain": [
              "<Figure size 720x432 with 1 Axes>"
            ]
          },
          "metadata": {
            "needs_background": "light"
          },
          "output_type": "display_data"
        }
      ],
      "source": [
        "dfEU.boxplot(figsize=(10,6));"
      ]
    },
    {
      "cell_type": "code",
      "execution_count": null,
      "metadata": {
        "id": "bb6SlMFa3Xta",
        "outputId": "fe7cf448-2f53-4717-97f2-3ea5f1e47bf1"
      },
      "outputs": [
        {
          "data": {
            "image/png": "[encoded data removed]",
            "text/plain": [
              "<Figure size 864x864 with 4 Axes>"
            ]
          },
          "metadata": {
            "needs_background": "light"
          },
          "output_type": "display_data"
        }
      ],
      "source": [
        "fig, axs = plt.subplots(2, 2, figsize=(12, 12))\n",
        "\n",
        "sns.histplot(data=dfEU, x=\"internet_users_per_100\", kde=True, color=\"skyblue\", ax=axs[0, 0])\n",
        "sns.histplot(data=dfEU, x=\"Math\", kde=True, color=\"olive\", ax=axs[0, 1])\n",
        "sns.histplot(data=dfEU, x=\"Reading\", kde=True, color=\"gold\", ax=axs[1, 0])\n",
        "sns.histplot(data=dfEU, x=\"Science\", kde=True, color=\"teal\", ax=axs[1, 1]);"
      ]
    },
    {
      "cell_type": "markdown",
      "metadata": {
        "id": "_last9JG3Xtb"
      },
      "source": [
        "## Analysis for AS"
      ]
    },
    {
      "cell_type": "code",
      "execution_count": null,
      "metadata": {
        "id": "ANYuYVAg3Xtb",
        "outputId": "0dacd4b7-fcc6-4f59-e57c-e59800cd3d3e"
      },
      "outputs": [
        {
          "data": {
            "text/html": [
              "<div>\n",
              "<style scoped>\n",
              "    .dataframe tbody tr th:only-of-type {\n",
              "        vertical-align: middle;\n",
              "    }\n",
              "\n",
              "    .dataframe tbody tr th {\n",
              "        vertical-align: top;\n",
              "    }\n",
              "\n",
              "    .dataframe thead th {\n",
              "        text-align: right;\n",
              "    }\n",
              "</style>\n",
              "<table border=\"1\" class=\"dataframe\">\n",
              "  <thead>\n",
              "    <tr style=\"text-align: right;\">\n",
              "      <th></th>\n",
              "      <th>Country Code</th>\n",
              "      <th>Continent_Code</th>\n",
              "      <th>internet_users_per_100</th>\n",
              "      <th>Math</th>\n",
              "      <th>Reading</th>\n",
              "      <th>Science</th>\n",
              "    </tr>\n",
              "  </thead>\n",
              "  <tbody>\n",
              "    <tr>\n",
              "      <th>1</th>\n",
              "      <td>ARE</td>\n",
              "      <td>AS</td>\n",
              "      <td>90.500000</td>\n",
              "      <td>427.4827</td>\n",
              "      <td>433.5423</td>\n",
              "      <td>436.7311</td>\n",
              "    </tr>\n",
              "    <tr>\n",
              "      <th>11</th>\n",
              "      <td>CHN</td>\n",
              "      <td>AS</td>\n",
              "      <td>50.300000</td>\n",
              "      <td>531.2961</td>\n",
              "      <td>493.9412</td>\n",
              "      <td>517.7793</td>\n",
              "    </tr>\n",
              "    <tr>\n",
              "      <th>25</th>\n",
              "      <td>GEO</td>\n",
              "      <td>AS</td>\n",
              "      <td>47.569760</td>\n",
              "      <td>403.8332</td>\n",
              "      <td>401.2881</td>\n",
              "      <td>411.1315</td>\n",
              "    </tr>\n",
              "    <tr>\n",
              "      <th>27</th>\n",
              "      <td>HKG</td>\n",
              "      <td>AS</td>\n",
              "      <td>84.948353</td>\n",
              "      <td>547.9310</td>\n",
              "      <td>526.6753</td>\n",
              "      <td>523.2774</td>\n",
              "    </tr>\n",
              "    <tr>\n",
              "      <th>30</th>\n",
              "      <td>IDN</td>\n",
              "      <td>AS</td>\n",
              "      <td>21.976068</td>\n",
              "      <td>386.1096</td>\n",
              "      <td>397.2595</td>\n",
              "      <td>403.0997</td>\n",
              "    </tr>\n",
              "    <tr>\n",
              "      <th>33</th>\n",
              "      <td>ISR</td>\n",
              "      <td>AS</td>\n",
              "      <td>77.352090</td>\n",
              "      <td>469.6695</td>\n",
              "      <td>478.9606</td>\n",
              "      <td>466.5528</td>\n",
              "    </tr>\n",
              "    <tr>\n",
              "      <th>35</th>\n",
              "      <td>JOR</td>\n",
              "      <td>AS</td>\n",
              "      <td>60.114383</td>\n",
              "      <td>380.2590</td>\n",
              "      <td>408.1022</td>\n",
              "      <td>408.6691</td>\n",
              "    </tr>\n",
              "    <tr>\n",
              "      <th>36</th>\n",
              "      <td>JPN</td>\n",
              "      <td>AS</td>\n",
              "      <td>91.058028</td>\n",
              "      <td>532.4399</td>\n",
              "      <td>515.9585</td>\n",
              "      <td>538.3948</td>\n",
              "    </tr>\n",
              "    <tr>\n",
              "      <th>37</th>\n",
              "      <td>KAZ</td>\n",
              "      <td>AS</td>\n",
              "      <td>72.900000</td>\n",
              "      <td>459.8160</td>\n",
              "      <td>427.1410</td>\n",
              "      <td>456.4836</td>\n",
              "    </tr>\n",
              "    <tr>\n",
              "      <th>38</th>\n",
              "      <td>KOR</td>\n",
              "      <td>AS</td>\n",
              "      <td>89.648631</td>\n",
              "      <td>524.1062</td>\n",
              "      <td>517.4367</td>\n",
              "      <td>515.8099</td>\n",
              "    </tr>\n",
              "    <tr>\n",
              "      <th>39</th>\n",
              "      <td>LBN</td>\n",
              "      <td>AS</td>\n",
              "      <td>74.000000</td>\n",
              "      <td>396.2497</td>\n",
              "      <td>346.5490</td>\n",
              "      <td>386.4854</td>\n",
              "    </tr>\n",
              "    <tr>\n",
              "      <th>43</th>\n",
              "      <td>MAC</td>\n",
              "      <td>AS</td>\n",
              "      <td>77.600132</td>\n",
              "      <td>543.8078</td>\n",
              "      <td>508.6905</td>\n",
              "      <td>528.5496</td>\n",
              "    </tr>\n",
              "    <tr>\n",
              "      <th>49</th>\n",
              "      <td>MYS</td>\n",
              "      <td>AS</td>\n",
              "      <td>71.064068</td>\n",
              "      <td>446.1098</td>\n",
              "      <td>430.5782</td>\n",
              "      <td>442.9475</td>\n",
              "    </tr>\n",
              "    <tr>\n",
              "      <th>56</th>\n",
              "      <td>QAT</td>\n",
              "      <td>AS</td>\n",
              "      <td>92.884826</td>\n",
              "      <td>402.4007</td>\n",
              "      <td>401.8874</td>\n",
              "      <td>417.6112</td>\n",
              "    </tr>\n",
              "    <tr>\n",
              "      <th>59</th>\n",
              "      <td>SGP</td>\n",
              "      <td>AS</td>\n",
              "      <td>79.012957</td>\n",
              "      <td>564.1897</td>\n",
              "      <td>535.1002</td>\n",
              "      <td>555.5747</td>\n",
              "    </tr>\n",
              "    <tr>\n",
              "      <th>63</th>\n",
              "      <td>THA</td>\n",
              "      <td>AS</td>\n",
              "      <td>39.316127</td>\n",
              "      <td>415.4638</td>\n",
              "      <td>409.1301</td>\n",
              "      <td>421.3373</td>\n",
              "    </tr>\n",
              "    <tr>\n",
              "      <th>69</th>\n",
              "      <td>VNM</td>\n",
              "      <td>AS</td>\n",
              "      <td>43.500000</td>\n",
              "      <td>494.5183</td>\n",
              "      <td>486.7738</td>\n",
              "      <td>524.6445</td>\n",
              "    </tr>\n",
              "  </tbody>\n",
              "</table>\n",
              "</div>"
            ],
            "text/plain": [
              "   Country Code Continent_Code  internet_users_per_100      Math   Reading  \\\n",
              "1           ARE             AS               90.500000  427.4827  433.5423   \n",
              "11          CHN             AS               50.300000  531.2961  493.9412   \n",
              "25          GEO             AS               47.569760  403.8332  401.2881   \n",
              "27          HKG             AS               84.948353  547.9310  526.6753   \n",
              "30          IDN             AS               21.976068  386.1096  397.2595   \n",
              "33          ISR             AS               77.352090  469.6695  478.9606   \n",
              "35          JOR             AS               60.114383  380.2590  408.1022   \n",
              "36          JPN             AS               91.058028  532.4399  515.9585   \n",
              "37          KAZ             AS               72.900000  459.8160  427.1410   \n",
              "38          KOR             AS               89.648631  524.1062  517.4367   \n",
              "39          LBN             AS               74.000000  396.2497  346.5490   \n",
              "43          MAC             AS               77.600132  543.8078  508.6905   \n",
              "49          MYS             AS               71.064068  446.1098  430.5782   \n",
              "56          QAT             AS               92.884826  402.4007  401.8874   \n",
              "59          SGP             AS               79.012957  564.1897  535.1002   \n",
              "63          THA             AS               39.316127  415.4638  409.1301   \n",
              "69          VNM             AS               43.500000  494.5183  486.7738   \n",
              "\n",
              "     Science  \n",
              "1   436.7311  \n",
              "11  517.7793  \n",
              "25  411.1315  \n",
              "27  523.2774  \n",
              "30  403.0997  \n",
              "33  466.5528  \n",
              "35  408.6691  \n",
              "36  538.3948  \n",
              "37  456.4836  \n",
              "38  515.8099  \n",
              "39  386.4854  \n",
              "43  528.5496  \n",
              "49  442.9475  \n",
              "56  417.6112  \n",
              "59  555.5747  \n",
              "63  421.3373  \n",
              "69  524.6445  "
            ]
          },
          "execution_count": 77,
          "metadata": {},
          "output_type": "execute_result"
        }
      ],
      "source": [
        "dfAS = dfpisa[dfpisa[\"Continent_Code\"]==\"AS\"]\n",
        "dfAS"
      ]
    },
    {
      "cell_type": "code",
      "execution_count": null,
      "metadata": {
        "id": "8FH_xwXT3Xtc",
        "outputId": "dcbe7849-a7e2-4be9-938f-0e6f73dc3e85"
      },
      "outputs": [
        {
          "data": {
            "text/plain": [
              "(17, 6)"
            ]
          },
          "execution_count": 78,
          "metadata": {},
          "output_type": "execute_result"
        }
      ],
      "source": [
        "dfAS.shape"
      ]
    },
    {
      "cell_type": "code",
      "execution_count": null,
      "metadata": {
        "id": "_YxrTcnR3Xtd",
        "outputId": "1f0966bb-69af-4911-fe35-dd273fee8a56"
      },
      "outputs": [
        {
          "data": {
            "text/html": [
              "<div>\n",
              "<style scoped>\n",
              "    .dataframe tbody tr th:only-of-type {\n",
              "        vertical-align: middle;\n",
              "    }\n",
              "\n",
              "    .dataframe tbody tr th {\n",
              "        vertical-align: top;\n",
              "    }\n",
              "\n",
              "    .dataframe thead th {\n",
              "        text-align: right;\n",
              "    }\n",
              "</style>\n",
              "<table border=\"1\" class=\"dataframe\">\n",
              "  <thead>\n",
              "    <tr style=\"text-align: right;\">\n",
              "      <th></th>\n",
              "      <th>internet_users_per_100</th>\n",
              "      <th>Math</th>\n",
              "      <th>Reading</th>\n",
              "      <th>Science</th>\n",
              "    </tr>\n",
              "  </thead>\n",
              "  <tbody>\n",
              "    <tr>\n",
              "      <th>count</th>\n",
              "      <td>17.000000</td>\n",
              "      <td>17.000000</td>\n",
              "      <td>17.000000</td>\n",
              "      <td>17.000000</td>\n",
              "    </tr>\n",
              "    <tr>\n",
              "      <th>mean</th>\n",
              "      <td>68.455613</td>\n",
              "      <td>466.216647</td>\n",
              "      <td>454.059682</td>\n",
              "      <td>467.945847</td>\n",
              "    </tr>\n",
              "    <tr>\n",
              "      <th>std</th>\n",
              "      <td>21.086060</td>\n",
              "      <td>64.356490</td>\n",
              "      <td>57.048962</td>\n",
              "      <td>56.671371</td>\n",
              "    </tr>\n",
              "    <tr>\n",
              "      <th>min</th>\n",
              "      <td>21.976068</td>\n",
              "      <td>380.259000</td>\n",
              "      <td>346.549000</td>\n",
              "      <td>386.485400</td>\n",
              "    </tr>\n",
              "    <tr>\n",
              "      <th>25%</th>\n",
              "      <td>50.300000</td>\n",
              "      <td>403.833200</td>\n",
              "      <td>408.102200</td>\n",
              "      <td>417.611200</td>\n",
              "    </tr>\n",
              "    <tr>\n",
              "      <th>50%</th>\n",
              "      <td>74.000000</td>\n",
              "      <td>459.816000</td>\n",
              "      <td>433.542300</td>\n",
              "      <td>456.483600</td>\n",
              "    </tr>\n",
              "    <tr>\n",
              "      <th>75%</th>\n",
              "      <td>84.948353</td>\n",
              "      <td>531.296100</td>\n",
              "      <td>508.690500</td>\n",
              "      <td>523.277400</td>\n",
              "    </tr>\n",
              "    <tr>\n",
              "      <th>max</th>\n",
              "      <td>92.884826</td>\n",
              "      <td>564.189700</td>\n",
              "      <td>535.100200</td>\n",
              "      <td>555.574700</td>\n",
              "    </tr>\n",
              "  </tbody>\n",
              "</table>\n",
              "</div>"
            ],
            "text/plain": [
              "       internet_users_per_100        Math     Reading     Science\n",
              "count               17.000000   17.000000   17.000000   17.000000\n",
              "mean                68.455613  466.216647  454.059682  467.945847\n",
              "std                 21.086060   64.356490   57.048962   56.671371\n",
              "min                 21.976068  380.259000  346.549000  386.485400\n",
              "25%                 50.300000  403.833200  408.102200  417.611200\n",
              "50%                 74.000000  459.816000  433.542300  456.483600\n",
              "75%                 84.948353  531.296100  508.690500  523.277400\n",
              "max                 92.884826  564.189700  535.100200  555.574700"
            ]
          },
          "execution_count": 79,
          "metadata": {},
          "output_type": "execute_result"
        }
      ],
      "source": [
        "dfAS.describe()"
      ]
    },
    {
      "cell_type": "code",
      "execution_count": null,
      "metadata": {
        "id": "wl16mf8z3Xtd",
        "outputId": "0924524a-1083-479d-8bb4-336d7d95c696"
      },
      "outputs": [
        {
          "data": {
            "text/plain": [
              "internet_users_per_100     444.621918\n",
              "Math                      4141.757822\n",
              "Reading                   3254.584049\n",
              "Science                   3211.644321\n",
              "dtype: float64"
            ]
          },
          "execution_count": 86,
          "metadata": {},
          "output_type": "execute_result"
        }
      ],
      "source": [
        "dfAS.var()"
      ]
    },
    {
      "cell_type": "code",
      "execution_count": null,
      "metadata": {
        "id": "i1fDmLJK3Xtf",
        "outputId": "9b8ec2dd-408e-4471-f5ba-26493a00b925"
      },
      "outputs": [
        {
          "data": {
            "image/png": "[encoded data removed]",
            "text/plain": [
              "<Figure size 720x432 with 1 Axes>"
            ]
          },
          "metadata": {
            "needs_background": "light"
          },
          "output_type": "display_data"
        }
      ],
      "source": [
        "dfAS.boxplot(figsize=(10, 6));"
      ]
    },
    {
      "cell_type": "code",
      "execution_count": null,
      "metadata": {
        "id": "8umqrxnl3Xtf",
        "outputId": "d073403b-8c0a-4dc8-aa15-0818b49f04b4"
      },
      "outputs": [
        {
          "data": {
            "image/png": "[encoded data removed]",
            "text/plain": [
              "<Figure size 576x432 with 1 Axes>"
            ]
          },
          "metadata": {
            "needs_background": "light"
          },
          "output_type": "display_data"
        }
      ],
      "source": [
        "fig = plt.subplots(figsize=(8, 6))\n",
        "\n",
        "sns.boxplot(data=dfAS);"
      ]
    },
    {
      "cell_type": "code",
      "execution_count": null,
      "metadata": {
        "id": "E7olVlu23Xtg",
        "outputId": "453b68b9-cd98-4da0-8440-96e40446e4a1"
      },
      "outputs": [
        {
          "data": {
            "image/png": "[encoded data removed]",
            "text/plain": [
              "<Figure size 720x720 with 4 Axes>"
            ]
          },
          "metadata": {
            "needs_background": "light"
          },
          "output_type": "display_data"
        }
      ],
      "source": [
        "fig, axs = plt.subplots(2, 2, figsize=(10, 10))\n",
        "\n",
        "sns.histplot(data=dfAS, x=\"internet_users_per_100\", kde=True, color=\"skyblue\", ax=axs[0, 0])\n",
        "sns.histplot(data=dfAS, x=\"Math\", kde=True, color=\"olive\", ax=axs[0, 1])\n",
        "sns.histplot(data=dfAS, x=\"Reading\", kde=True, color=\"gold\", ax=axs[1, 0])\n",
        "sns.histplot(data=dfAS, x=\"Science\", kde=True, color=\"teal\", ax=axs[1, 1]);"
      ]
    },
    {
      "cell_type": "code",
      "execution_count": null,
      "metadata": {
        "id": "cMeeTqxO3Xth",
        "outputId": "5dd3fdcf-7165-4656-be61-1d7cb4ba5623"
      },
      "outputs": [
        {
          "data": {
            "text/html": [
              "<div>\n",
              "<style scoped>\n",
              "    .dataframe tbody tr th:only-of-type {\n",
              "        vertical-align: middle;\n",
              "    }\n",
              "\n",
              "    .dataframe tbody tr th {\n",
              "        vertical-align: top;\n",
              "    }\n",
              "\n",
              "    .dataframe thead th {\n",
              "        text-align: right;\n",
              "    }\n",
              "</style>\n",
              "<table border=\"1\" class=\"dataframe\">\n",
              "  <thead>\n",
              "    <tr style=\"text-align: right;\">\n",
              "      <th></th>\n",
              "      <th>internet_users_per_100</th>\n",
              "      <th>Math</th>\n",
              "      <th>Reading</th>\n",
              "      <th>Science</th>\n",
              "    </tr>\n",
              "  </thead>\n",
              "  <tbody>\n",
              "    <tr>\n",
              "      <th>count</th>\n",
              "      <td>17.000000</td>\n",
              "      <td>17.000000</td>\n",
              "      <td>17.000000</td>\n",
              "      <td>17.000000</td>\n",
              "    </tr>\n",
              "    <tr>\n",
              "      <th>mean</th>\n",
              "      <td>68.455613</td>\n",
              "      <td>466.216647</td>\n",
              "      <td>454.059682</td>\n",
              "      <td>467.945847</td>\n",
              "    </tr>\n",
              "    <tr>\n",
              "      <th>std</th>\n",
              "      <td>21.086060</td>\n",
              "      <td>64.356490</td>\n",
              "      <td>57.048962</td>\n",
              "      <td>56.671371</td>\n",
              "    </tr>\n",
              "    <tr>\n",
              "      <th>min</th>\n",
              "      <td>21.976068</td>\n",
              "      <td>380.259000</td>\n",
              "      <td>346.549000</td>\n",
              "      <td>386.485400</td>\n",
              "    </tr>\n",
              "    <tr>\n",
              "      <th>25%</th>\n",
              "      <td>50.300000</td>\n",
              "      <td>403.833200</td>\n",
              "      <td>408.102200</td>\n",
              "      <td>417.611200</td>\n",
              "    </tr>\n",
              "    <tr>\n",
              "      <th>50%</th>\n",
              "      <td>74.000000</td>\n",
              "      <td>459.816000</td>\n",
              "      <td>433.542300</td>\n",
              "      <td>456.483600</td>\n",
              "    </tr>\n",
              "    <tr>\n",
              "      <th>75%</th>\n",
              "      <td>84.948353</td>\n",
              "      <td>531.296100</td>\n",
              "      <td>508.690500</td>\n",
              "      <td>523.277400</td>\n",
              "    </tr>\n",
              "    <tr>\n",
              "      <th>max</th>\n",
              "      <td>92.884826</td>\n",
              "      <td>564.189700</td>\n",
              "      <td>535.100200</td>\n",
              "      <td>555.574700</td>\n",
              "    </tr>\n",
              "  </tbody>\n",
              "</table>\n",
              "</div>"
            ],
            "text/plain": [
              "       internet_users_per_100        Math     Reading     Science\n",
              "count               17.000000   17.000000   17.000000   17.000000\n",
              "mean                68.455613  466.216647  454.059682  467.945847\n",
              "std                 21.086060   64.356490   57.048962   56.671371\n",
              "min                 21.976068  380.259000  346.549000  386.485400\n",
              "25%                 50.300000  403.833200  408.102200  417.611200\n",
              "50%                 74.000000  459.816000  433.542300  456.483600\n",
              "75%                 84.948353  531.296100  508.690500  523.277400\n",
              "max                 92.884826  564.189700  535.100200  555.574700"
            ]
          },
          "execution_count": 93,
          "metadata": {},
          "output_type": "execute_result"
        }
      ],
      "source": [
        "dfpisa[dfpisa[\"Continent_Code\"]==\"AS\"].describe()"
      ]
    },
    {
      "cell_type": "markdown",
      "metadata": {
        "id": "NlUylHEv3Xti"
      },
      "source": [
        "## Analysis for SA"
      ]
    },
    {
      "cell_type": "code",
      "execution_count": null,
      "metadata": {
        "id": "AEgiZWxG3Xtj",
        "outputId": "84a22e12-4d74-418a-ec4e-72179a70386c"
      },
      "outputs": [
        {
          "data": {
            "text/html": [
              "<div>\n",
              "<style scoped>\n",
              "    .dataframe tbody tr th:only-of-type {\n",
              "        vertical-align: middle;\n",
              "    }\n",
              "\n",
              "    .dataframe tbody tr th {\n",
              "        vertical-align: top;\n",
              "    }\n",
              "\n",
              "    .dataframe thead th {\n",
              "        text-align: right;\n",
              "    }\n",
              "</style>\n",
              "<table border=\"1\" class=\"dataframe\">\n",
              "  <thead>\n",
              "    <tr style=\"text-align: right;\">\n",
              "      <th></th>\n",
              "      <th>Country Code</th>\n",
              "      <th>Continent_Code</th>\n",
              "      <th>internet_users_per_100</th>\n",
              "      <th>Math</th>\n",
              "      <th>Reading</th>\n",
              "      <th>Science</th>\n",
              "    </tr>\n",
              "  </thead>\n",
              "  <tbody>\n",
              "    <tr>\n",
              "      <th>2</th>\n",
              "      <td>ARG</td>\n",
              "      <td>SA</td>\n",
              "      <td>68.043064</td>\n",
              "      <td>409.0333</td>\n",
              "      <td>425.3031</td>\n",
              "      <td>432.2262</td>\n",
              "    </tr>\n",
              "    <tr>\n",
              "      <th>7</th>\n",
              "      <td>BRA</td>\n",
              "      <td>SA</td>\n",
              "      <td>58.327952</td>\n",
              "      <td>377.0695</td>\n",
              "      <td>407.3486</td>\n",
              "      <td>400.6821</td>\n",
              "    </tr>\n",
              "    <tr>\n",
              "      <th>10</th>\n",
              "      <td>CHL</td>\n",
              "      <td>SA</td>\n",
              "      <td>64.289000</td>\n",
              "      <td>422.6714</td>\n",
              "      <td>458.5709</td>\n",
              "      <td>446.9561</td>\n",
              "    </tr>\n",
              "    <tr>\n",
              "      <th>12</th>\n",
              "      <td>COL</td>\n",
              "      <td>SA</td>\n",
              "      <td>55.904973</td>\n",
              "      <td>389.6438</td>\n",
              "      <td>424.9052</td>\n",
              "      <td>415.7288</td>\n",
              "    </tr>\n",
              "    <tr>\n",
              "      <th>53</th>\n",
              "      <td>PER</td>\n",
              "      <td>SA</td>\n",
              "      <td>40.900000</td>\n",
              "      <td>386.5606</td>\n",
              "      <td>397.5414</td>\n",
              "      <td>396.6836</td>\n",
              "    </tr>\n",
              "    <tr>\n",
              "      <th>64</th>\n",
              "      <td>TTO</td>\n",
              "      <td>SA</td>\n",
              "      <td>69.198471</td>\n",
              "      <td>417.2434</td>\n",
              "      <td>427.2733</td>\n",
              "      <td>424.5905</td>\n",
              "    </tr>\n",
              "    <tr>\n",
              "      <th>67</th>\n",
              "      <td>URY</td>\n",
              "      <td>SA</td>\n",
              "      <td>64.600000</td>\n",
              "      <td>417.9919</td>\n",
              "      <td>436.5721</td>\n",
              "      <td>435.3630</td>\n",
              "    </tr>\n",
              "  </tbody>\n",
              "</table>\n",
              "</div>"
            ],
            "text/plain": [
              "   Country Code Continent_Code  internet_users_per_100      Math   Reading  \\\n",
              "2           ARG             SA               68.043064  409.0333  425.3031   \n",
              "7           BRA             SA               58.327952  377.0695  407.3486   \n",
              "10          CHL             SA               64.289000  422.6714  458.5709   \n",
              "12          COL             SA               55.904973  389.6438  424.9052   \n",
              "53          PER             SA               40.900000  386.5606  397.5414   \n",
              "64          TTO             SA               69.198471  417.2434  427.2733   \n",
              "67          URY             SA               64.600000  417.9919  436.5721   \n",
              "\n",
              "     Science  \n",
              "2   432.2262  \n",
              "7   400.6821  \n",
              "10  446.9561  \n",
              "12  415.7288  \n",
              "53  396.6836  \n",
              "64  424.5905  \n",
              "67  435.3630  "
            ]
          },
          "execution_count": 91,
          "metadata": {},
          "output_type": "execute_result"
        }
      ],
      "source": [
        "dfSA = dfpisa[dfpisa[\"Continent_Code\"]==\"SA\"]\n",
        "dfSA"
      ]
    },
    {
      "cell_type": "code",
      "execution_count": null,
      "metadata": {
        "id": "r_xND6k_3Xtk",
        "outputId": "a0d9630a-a04f-4cf0-fd65-383284c0ecea"
      },
      "outputs": [
        {
          "data": {
            "text/plain": [
              "(7, 6)"
            ]
          },
          "execution_count": 92,
          "metadata": {},
          "output_type": "execute_result"
        }
      ],
      "source": [
        "dfSA.shape"
      ]
    },
    {
      "cell_type": "code",
      "execution_count": null,
      "metadata": {
        "id": "9L3Tf7rC3Xtk",
        "outputId": "fcb51f32-1aa7-46c9-a289-a399f0096e1c"
      },
      "outputs": [
        {
          "data": {
            "text/html": [
              "<div>\n",
              "<style scoped>\n",
              "    .dataframe tbody tr th:only-of-type {\n",
              "        vertical-align: middle;\n",
              "    }\n",
              "\n",
              "    .dataframe tbody tr th {\n",
              "        vertical-align: top;\n",
              "    }\n",
              "\n",
              "    .dataframe thead th {\n",
              "        text-align: right;\n",
              "    }\n",
              "</style>\n",
              "<table border=\"1\" class=\"dataframe\">\n",
              "  <thead>\n",
              "    <tr style=\"text-align: right;\">\n",
              "      <th></th>\n",
              "      <th>internet_users_per_100</th>\n",
              "      <th>Math</th>\n",
              "      <th>Reading</th>\n",
              "      <th>Science</th>\n",
              "    </tr>\n",
              "  </thead>\n",
              "  <tbody>\n",
              "    <tr>\n",
              "      <th>count</th>\n",
              "      <td>7.000000</td>\n",
              "      <td>7.000000</td>\n",
              "      <td>7.000000</td>\n",
              "      <td>7.000000</td>\n",
              "    </tr>\n",
              "    <tr>\n",
              "      <th>mean</th>\n",
              "      <td>60.180494</td>\n",
              "      <td>402.887700</td>\n",
              "      <td>425.359229</td>\n",
              "      <td>421.747186</td>\n",
              "    </tr>\n",
              "    <tr>\n",
              "      <th>std</th>\n",
              "      <td>9.772455</td>\n",
              "      <td>18.128894</td>\n",
              "      <td>19.709688</td>\n",
              "      <td>18.470319</td>\n",
              "    </tr>\n",
              "    <tr>\n",
              "      <th>min</th>\n",
              "      <td>40.900000</td>\n",
              "      <td>377.069500</td>\n",
              "      <td>397.541400</td>\n",
              "      <td>396.683600</td>\n",
              "    </tr>\n",
              "    <tr>\n",
              "      <th>25%</th>\n",
              "      <td>57.116462</td>\n",
              "      <td>388.102200</td>\n",
              "      <td>416.126900</td>\n",
              "      <td>408.205450</td>\n",
              "    </tr>\n",
              "    <tr>\n",
              "      <th>50%</th>\n",
              "      <td>64.289000</td>\n",
              "      <td>409.033300</td>\n",
              "      <td>425.303100</td>\n",
              "      <td>424.590500</td>\n",
              "    </tr>\n",
              "    <tr>\n",
              "      <th>75%</th>\n",
              "      <td>66.321532</td>\n",
              "      <td>417.617650</td>\n",
              "      <td>431.922700</td>\n",
              "      <td>433.794600</td>\n",
              "    </tr>\n",
              "    <tr>\n",
              "      <th>max</th>\n",
              "      <td>69.198471</td>\n",
              "      <td>422.671400</td>\n",
              "      <td>458.570900</td>\n",
              "      <td>446.956100</td>\n",
              "    </tr>\n",
              "  </tbody>\n",
              "</table>\n",
              "</div>"
            ],
            "text/plain": [
              "       internet_users_per_100        Math     Reading     Science\n",
              "count                7.000000    7.000000    7.000000    7.000000\n",
              "mean                60.180494  402.887700  425.359229  421.747186\n",
              "std                  9.772455   18.128894   19.709688   18.470319\n",
              "min                 40.900000  377.069500  397.541400  396.683600\n",
              "25%                 57.116462  388.102200  416.126900  408.205450\n",
              "50%                 64.289000  409.033300  425.303100  424.590500\n",
              "75%                 66.321532  417.617650  431.922700  433.794600\n",
              "max                 69.198471  422.671400  458.570900  446.956100"
            ]
          },
          "execution_count": 93,
          "metadata": {},
          "output_type": "execute_result"
        }
      ],
      "source": [
        "dfSA.describe()"
      ]
    },
    {
      "cell_type": "code",
      "execution_count": null,
      "metadata": {
        "id": "dLFXeTfQ3Xtl",
        "outputId": "6b6b3060-8af1-4a95-9ba9-1734550b5e01"
      },
      "outputs": [
        {
          "data": {
            "text/plain": [
              "internet_users_per_100     95.500869\n",
              "Math                      328.656783\n",
              "Reading                   388.471816\n",
              "Science                   341.152678\n",
              "dtype: float64"
            ]
          },
          "execution_count": 94,
          "metadata": {},
          "output_type": "execute_result"
        }
      ],
      "source": [
        "dfSA.var()"
      ]
    },
    {
      "cell_type": "code",
      "execution_count": null,
      "metadata": {
        "id": "2sXbEP_k3Xtl",
        "outputId": "8bf0ce10-c605-4f1c-f9ad-85cce69df799"
      },
      "outputs": [
        {
          "data": {
            "image/png": "[encoded data removed]",
            "text/plain": [
              "<Figure size 720x432 with 1 Axes>"
            ]
          },
          "metadata": {
            "needs_background": "light"
          },
          "output_type": "display_data"
        }
      ],
      "source": [
        "dfSA.boxplot(figsize=(10, 6));\n",
        "\n",
        "# since the scales of internet_user_per_100 is differ from the other values, the boxplot doesn't give us clear view.\n",
        "\n",
        "# for analitically more readibility we need to plot them seperately. (we used that way for SA continent below)"
      ]
    },
    {
      "cell_type": "code",
      "execution_count": null,
      "metadata": {
        "id": "bJNMRFqR3Xtm",
        "outputId": "bd04c664-343c-4de0-8abe-649da98df144"
      },
      "outputs": [
        {
          "data": {
            "image/png": "[encoded data removed]",
            "text/plain": [
              "<Figure size 1728x432 with 1 Axes>"
            ]
          },
          "metadata": {
            "needs_background": "light"
          },
          "output_type": "display_data"
        }
      ],
      "source": [
        "fig = plt.subplots(figsize= (24,6))\n",
        "\n",
        "sns.boxplot(data=dfSA, orient=\"h\");"
      ]
    },
    {
      "cell_type": "code",
      "execution_count": null,
      "metadata": {
        "id": "jMeImefU3Xtn",
        "outputId": "fcbab869-6674-4d87-a499-c98117e04fbf"
      },
      "outputs": [
        {
          "data": {
            "image/png": "[encoded data removed]",
            "text/plain": [
              "<Figure size 720x720 with 4 Axes>"
            ]
          },
          "metadata": {
            "needs_background": "light"
          },
          "output_type": "display_data"
        }
      ],
      "source": [
        "fig, axs = plt.subplots(2, 2, figsize=(10, 10))\n",
        "\n",
        "sns.histplot(data=dfSA, x=\"internet_users_per_100\", kde=True, color=\"skyblue\", ax=axs[0, 0])\n",
        "sns.histplot(data=dfSA, x=\"Math\", kde=True, color=\"olive\", ax=axs[0, 1])\n",
        "sns.histplot(data=dfSA, x=\"Reading\", kde=True, color=\"gold\", ax=axs[1, 0])\n",
        "sns.histplot(data=dfSA, x=\"Science\", kde=True, color=\"teal\", ax=axs[1, 1]);"
      ]
    },
    {
      "cell_type": "markdown",
      "metadata": {
        "id": "3KXLSwvt3Xtn"
      },
      "source": [
        "## Analysis for OC"
      ]
    },
    {
      "cell_type": "code",
      "execution_count": null,
      "metadata": {
        "id": "lLGuza3k3Xtp",
        "outputId": "675bd359-cf8f-4d11-a8b5-0ba62954d7bc"
      },
      "outputs": [
        {
          "data": {
            "text/html": [
              "<div>\n",
              "<style scoped>\n",
              "    .dataframe tbody tr th:only-of-type {\n",
              "        vertical-align: middle;\n",
              "    }\n",
              "\n",
              "    .dataframe tbody tr th {\n",
              "        vertical-align: top;\n",
              "    }\n",
              "\n",
              "    .dataframe thead th {\n",
              "        text-align: right;\n",
              "    }\n",
              "</style>\n",
              "<table border=\"1\" class=\"dataframe\">\n",
              "  <thead>\n",
              "    <tr style=\"text-align: right;\">\n",
              "      <th></th>\n",
              "      <th>Country Code</th>\n",
              "      <th>Continent_Code</th>\n",
              "      <th>internet_users_per_100</th>\n",
              "      <th>Math</th>\n",
              "      <th>Reading</th>\n",
              "      <th>Science</th>\n",
              "    </tr>\n",
              "  </thead>\n",
              "  <tbody>\n",
              "    <tr>\n",
              "      <th>3</th>\n",
              "      <td>AUS</td>\n",
              "      <td>OC</td>\n",
              "      <td>84.560519</td>\n",
              "      <td>493.8962</td>\n",
              "      <td>502.9006</td>\n",
              "      <td>509.9939</td>\n",
              "    </tr>\n",
              "    <tr>\n",
              "      <th>52</th>\n",
              "      <td>NZL</td>\n",
              "      <td>OC</td>\n",
              "      <td>88.222889</td>\n",
              "      <td>495.2233</td>\n",
              "      <td>509.2707</td>\n",
              "      <td>513.3035</td>\n",
              "    </tr>\n",
              "  </tbody>\n",
              "</table>\n",
              "</div>"
            ],
            "text/plain": [
              "   Country Code Continent_Code  internet_users_per_100      Math   Reading  \\\n",
              "3           AUS             OC               84.560519  493.8962  502.9006   \n",
              "52          NZL             OC               88.222889  495.2233  509.2707   \n",
              "\n",
              "     Science  \n",
              "3   509.9939  \n",
              "52  513.3035  "
            ]
          },
          "execution_count": 100,
          "metadata": {},
          "output_type": "execute_result"
        }
      ],
      "source": [
        "dfOC = dfpisa[dfpisa[\"Continent_Code\"]==\"OC\"]\n",
        "dfOC"
      ]
    },
    {
      "cell_type": "code",
      "execution_count": null,
      "metadata": {
        "id": "-zLHckg13Xtp",
        "outputId": "d151b628-0943-49eb-b2ad-8e79244e42f2"
      },
      "outputs": [
        {
          "data": {
            "text/plain": [
              "(2, 6)"
            ]
          },
          "execution_count": 101,
          "metadata": {},
          "output_type": "execute_result"
        }
      ],
      "source": [
        "dfOC.shape"
      ]
    },
    {
      "cell_type": "code",
      "execution_count": null,
      "metadata": {
        "id": "aM1c8SGy3Xtq",
        "outputId": "4f044344-1618-4108-ae68-c45dd159a969"
      },
      "outputs": [
        {
          "data": {
            "text/html": [
              "<div>\n",
              "<style scoped>\n",
              "    .dataframe tbody tr th:only-of-type {\n",
              "        vertical-align: middle;\n",
              "    }\n",
              "\n",
              "    .dataframe tbody tr th {\n",
              "        vertical-align: top;\n",
              "    }\n",
              "\n",
              "    .dataframe thead th {\n",
              "        text-align: right;\n",
              "    }\n",
              "</style>\n",
              "<table border=\"1\" class=\"dataframe\">\n",
              "  <thead>\n",
              "    <tr style=\"text-align: right;\">\n",
              "      <th></th>\n",
              "      <th>internet_users_per_100</th>\n",
              "      <th>Math</th>\n",
              "      <th>Reading</th>\n",
              "      <th>Science</th>\n",
              "    </tr>\n",
              "  </thead>\n",
              "  <tbody>\n",
              "    <tr>\n",
              "      <th>count</th>\n",
              "      <td>2.000000</td>\n",
              "      <td>2.000000</td>\n",
              "      <td>2.000000</td>\n",
              "      <td>2.000000</td>\n",
              "    </tr>\n",
              "    <tr>\n",
              "      <th>mean</th>\n",
              "      <td>86.391704</td>\n",
              "      <td>494.559750</td>\n",
              "      <td>506.085650</td>\n",
              "      <td>511.648700</td>\n",
              "    </tr>\n",
              "    <tr>\n",
              "      <th>std</th>\n",
              "      <td>2.589686</td>\n",
              "      <td>0.938401</td>\n",
              "      <td>4.504341</td>\n",
              "      <td>2.340241</td>\n",
              "    </tr>\n",
              "    <tr>\n",
              "      <th>min</th>\n",
              "      <td>84.560519</td>\n",
              "      <td>493.896200</td>\n",
              "      <td>502.900600</td>\n",
              "      <td>509.993900</td>\n",
              "    </tr>\n",
              "    <tr>\n",
              "      <th>25%</th>\n",
              "      <td>85.476112</td>\n",
              "      <td>494.227975</td>\n",
              "      <td>504.493125</td>\n",
              "      <td>510.821300</td>\n",
              "    </tr>\n",
              "    <tr>\n",
              "      <th>50%</th>\n",
              "      <td>86.391704</td>\n",
              "      <td>494.559750</td>\n",
              "      <td>506.085650</td>\n",
              "      <td>511.648700</td>\n",
              "    </tr>\n",
              "    <tr>\n",
              "      <th>75%</th>\n",
              "      <td>87.307296</td>\n",
              "      <td>494.891525</td>\n",
              "      <td>507.678175</td>\n",
              "      <td>512.476100</td>\n",
              "    </tr>\n",
              "    <tr>\n",
              "      <th>max</th>\n",
              "      <td>88.222889</td>\n",
              "      <td>495.223300</td>\n",
              "      <td>509.270700</td>\n",
              "      <td>513.303500</td>\n",
              "    </tr>\n",
              "  </tbody>\n",
              "</table>\n",
              "</div>"
            ],
            "text/plain": [
              "       internet_users_per_100        Math     Reading     Science\n",
              "count                2.000000    2.000000    2.000000    2.000000\n",
              "mean                86.391704  494.559750  506.085650  511.648700\n",
              "std                  2.589686    0.938401    4.504341    2.340241\n",
              "min                 84.560519  493.896200  502.900600  509.993900\n",
              "25%                 85.476112  494.227975  504.493125  510.821300\n",
              "50%                 86.391704  494.559750  506.085650  511.648700\n",
              "75%                 87.307296  494.891525  507.678175  512.476100\n",
              "max                 88.222889  495.223300  509.270700  513.303500"
            ]
          },
          "execution_count": 102,
          "metadata": {},
          "output_type": "execute_result"
        }
      ],
      "source": [
        "dfOC.describe()"
      ]
    },
    {
      "cell_type": "code",
      "execution_count": null,
      "metadata": {
        "id": "FtVteGiL3Xtq",
        "outputId": "13cbe03d-fb0b-4fbb-f21b-fb960beba2d3"
      },
      "outputs": [
        {
          "data": {
            "text/plain": [
              "internet_users_per_100     6.706475\n",
              "Math                       0.880597\n",
              "Reading                   20.289087\n",
              "Science                    5.476726\n",
              "dtype: float64"
            ]
          },
          "execution_count": 103,
          "metadata": {},
          "output_type": "execute_result"
        }
      ],
      "source": [
        "dfOC.var()"
      ]
    },
    {
      "cell_type": "code",
      "execution_count": null,
      "metadata": {
        "id": "cQz5mnVu3Xtr",
        "outputId": "c63497a6-2e6a-40d9-d5d2-cf5a01493046"
      },
      "outputs": [
        {
          "data": {
            "image/png": "[encoded data removed]",
            "text/plain": [
              "<Figure size 720x432 with 1 Axes>"
            ]
          },
          "metadata": {
            "needs_background": "light"
          },
          "output_type": "display_data"
        }
      ],
      "source": [
        "dfOC.boxplot(figsize=(10, 6));"
      ]
    },
    {
      "cell_type": "raw",
      "metadata": {
        "id": "V0ckxJuf3Xts"
      },
      "source": [
        "internet_user_per_100 ölçeği diğer değerlerden farklı olduğu için kutu grafiği bize net bir görüş vermemektedir.\n",
        "\n",
        "analitik olarak daha fazla okunabilirlik için onları ayrı ayrı çizmemiz gerekiyor"
      ]
    },
    {
      "cell_type": "code",
      "execution_count": null,
      "metadata": {
        "id": "wY1cNmjn3Xtu",
        "outputId": "1e1bc35c-f921-4deb-9652-57ba6f225ff6"
      },
      "outputs": [
        {
          "data": {
            "text/html": [
              "<div>\n",
              "<style scoped>\n",
              "    .dataframe tbody tr th:only-of-type {\n",
              "        vertical-align: middle;\n",
              "    }\n",
              "\n",
              "    .dataframe tbody tr th {\n",
              "        vertical-align: top;\n",
              "    }\n",
              "\n",
              "    .dataframe thead th {\n",
              "        text-align: right;\n",
              "    }\n",
              "</style>\n",
              "<table border=\"1\" class=\"dataframe\">\n",
              "  <thead>\n",
              "    <tr style=\"text-align: right;\">\n",
              "      <th></th>\n",
              "      <th>Math</th>\n",
              "      <th>Reading</th>\n",
              "      <th>Science</th>\n",
              "    </tr>\n",
              "  </thead>\n",
              "  <tbody>\n",
              "    <tr>\n",
              "      <th>2</th>\n",
              "      <td>409.0333</td>\n",
              "      <td>425.3031</td>\n",
              "      <td>432.2262</td>\n",
              "    </tr>\n",
              "    <tr>\n",
              "      <th>7</th>\n",
              "      <td>377.0695</td>\n",
              "      <td>407.3486</td>\n",
              "      <td>400.6821</td>\n",
              "    </tr>\n",
              "    <tr>\n",
              "      <th>10</th>\n",
              "      <td>422.6714</td>\n",
              "      <td>458.5709</td>\n",
              "      <td>446.9561</td>\n",
              "    </tr>\n",
              "    <tr>\n",
              "      <th>12</th>\n",
              "      <td>389.6438</td>\n",
              "      <td>424.9052</td>\n",
              "      <td>415.7288</td>\n",
              "    </tr>\n",
              "    <tr>\n",
              "      <th>53</th>\n",
              "      <td>386.5606</td>\n",
              "      <td>397.5414</td>\n",
              "      <td>396.6836</td>\n",
              "    </tr>\n",
              "    <tr>\n",
              "      <th>64</th>\n",
              "      <td>417.2434</td>\n",
              "      <td>427.2733</td>\n",
              "      <td>424.5905</td>\n",
              "    </tr>\n",
              "    <tr>\n",
              "      <th>67</th>\n",
              "      <td>417.9919</td>\n",
              "      <td>436.5721</td>\n",
              "      <td>435.3630</td>\n",
              "    </tr>\n",
              "  </tbody>\n",
              "</table>\n",
              "</div>"
            ],
            "text/plain": [
              "        Math   Reading   Science\n",
              "2   409.0333  425.3031  432.2262\n",
              "7   377.0695  407.3486  400.6821\n",
              "10  422.6714  458.5709  446.9561\n",
              "12  389.6438  424.9052  415.7288\n",
              "53  386.5606  397.5414  396.6836\n",
              "64  417.2434  427.2733  424.5905\n",
              "67  417.9919  436.5721  435.3630"
            ]
          },
          "execution_count": 105,
          "metadata": {},
          "output_type": "execute_result"
        }
      ],
      "source": [
        "dfOC3columns = dfSA[[\"Math\", \"Reading\", \"Science\"]]\n",
        "dfOC3columns"
      ]
    },
    {
      "cell_type": "code",
      "execution_count": null,
      "metadata": {
        "id": "Jvpr6vuz3Xtu",
        "outputId": "64e41277-cc99-4691-97d6-7d4e565af6a4"
      },
      "outputs": [
        {
          "data": {
            "text/html": [
              "<div>\n",
              "<style scoped>\n",
              "    .dataframe tbody tr th:only-of-type {\n",
              "        vertical-align: middle;\n",
              "    }\n",
              "\n",
              "    .dataframe tbody tr th {\n",
              "        vertical-align: top;\n",
              "    }\n",
              "\n",
              "    .dataframe thead th {\n",
              "        text-align: right;\n",
              "    }\n",
              "</style>\n",
              "<table border=\"1\" class=\"dataframe\">\n",
              "  <thead>\n",
              "    <tr style=\"text-align: right;\">\n",
              "      <th></th>\n",
              "      <th>internet_users_per_100</th>\n",
              "    </tr>\n",
              "  </thead>\n",
              "  <tbody>\n",
              "    <tr>\n",
              "      <th>3</th>\n",
              "      <td>84.560519</td>\n",
              "    </tr>\n",
              "    <tr>\n",
              "      <th>52</th>\n",
              "      <td>88.222889</td>\n",
              "    </tr>\n",
              "  </tbody>\n",
              "</table>\n",
              "</div>"
            ],
            "text/plain": [
              "    internet_users_per_100\n",
              "3                84.560519\n",
              "52               88.222889"
            ]
          },
          "execution_count": 106,
          "metadata": {},
          "output_type": "execute_result"
        }
      ],
      "source": [
        "dfOCinternet = dfOC[[\"internet_users_per_100\"]]\n",
        "dfOCinternet"
      ]
    },
    {
      "cell_type": "code",
      "execution_count": null,
      "metadata": {
        "id": "ZROxauad3Xtv",
        "outputId": "d5963b00-4e89-45ff-cce9-c924e0553228"
      },
      "outputs": [
        {
          "data": {
            "image/png": "[encoded data removed]",
            "text/plain": [
              "<Figure size 1440x288 with 2 Axes>"
            ]
          },
          "metadata": {
            "needs_background": "light"
          },
          "output_type": "display_data"
        }
      ],
      "source": [
        "fig, axes = plt.subplots(1,2, figsize=(20,4))\n",
        "\n",
        "sns.boxplot(data=dfOCinternet, orient='h', ax=axes[0], color=\"skyblue\").set(title='Internet Users in OC')\n",
        "sns.boxplot(data=dfOC3columns, orient='h', ax=axes[1], color=\"skyblue\").set(title='PISA Math, Reading & Science Scores in OC')\n",
        "\n",
        "axes[0].set(xlabel='internet users per 100 in OC')\n",
        "axes[1].set(xlabel='Math, Reading & Science Scores in OC');\n",
        "\n",
        "# the plot is more readable now!"
      ]
    },
    {
      "cell_type": "code",
      "execution_count": null,
      "metadata": {
        "id": "KqFS5IHB3Xtw",
        "outputId": "4d1c41c3-0317-43fd-b54f-f51f89285397"
      },
      "outputs": [
        {
          "data": {
            "image/png": "[encoded data removed]",
            "text/plain": [
              "<Figure size 720x720 with 4 Axes>"
            ]
          },
          "metadata": {
            "needs_background": "light"
          },
          "output_type": "display_data"
        }
      ],
      "source": [
        "fig, axs = plt.subplots(2, 2, figsize=(10, 10))\n",
        "\n",
        "sns.histplot(data=dfOC, x=\"internet_users_per_100\", kde=True, color=\"skyblue\", ax=axs[0, 0])\n",
        "sns.histplot(data=dfOC, x=\"Math\", kde=True, color=\"olive\", ax=axs[0, 1])\n",
        "sns.histplot(data=dfOC, x=\"Reading\", kde=True, color=\"gold\", ax=axs[1, 0])\n",
        "sns.histplot(data=dfOC, x=\"Science\", kde=True, color=\"teal\", ax=axs[1, 1]);"
      ]
    },
    {
      "cell_type": "markdown",
      "metadata": {
        "id": "3pFGJ8pR3Xtw"
      },
      "source": [
        "## Analysis for AF"
      ]
    },
    {
      "cell_type": "code",
      "execution_count": null,
      "metadata": {
        "id": "j4-qTK5J3Xtx",
        "outputId": "453a8c17-66d0-492b-be32-5a0f530970d1"
      },
      "outputs": [
        {
          "data": {
            "text/html": [
              "<div>\n",
              "<style scoped>\n",
              "    .dataframe tbody tr th:only-of-type {\n",
              "        vertical-align: middle;\n",
              "    }\n",
              "\n",
              "    .dataframe tbody tr th {\n",
              "        vertical-align: top;\n",
              "    }\n",
              "\n",
              "    .dataframe thead th {\n",
              "        text-align: right;\n",
              "    }\n",
              "</style>\n",
              "<table border=\"1\" class=\"dataframe\">\n",
              "  <thead>\n",
              "    <tr style=\"text-align: right;\">\n",
              "      <th></th>\n",
              "      <th>Country Code</th>\n",
              "      <th>Continent_Code</th>\n",
              "      <th>internet_users_per_100</th>\n",
              "      <th>Math</th>\n",
              "      <th>Reading</th>\n",
              "      <th>Science</th>\n",
              "    </tr>\n",
              "  </thead>\n",
              "  <tbody>\n",
              "    <tr>\n",
              "      <th>19</th>\n",
              "      <td>DZA</td>\n",
              "      <td>AF</td>\n",
              "      <td>38.200000</td>\n",
              "      <td>359.6062</td>\n",
              "      <td>349.8593</td>\n",
              "      <td>375.7451</td>\n",
              "    </tr>\n",
              "    <tr>\n",
              "      <th>65</th>\n",
              "      <td>TUN</td>\n",
              "      <td>AF</td>\n",
              "      <td>48.519836</td>\n",
              "      <td>366.8180</td>\n",
              "      <td>361.0555</td>\n",
              "      <td>386.4034</td>\n",
              "    </tr>\n",
              "  </tbody>\n",
              "</table>\n",
              "</div>"
            ],
            "text/plain": [
              "   Country Code Continent_Code  internet_users_per_100      Math   Reading  \\\n",
              "19          DZA             AF               38.200000  359.6062  349.8593   \n",
              "65          TUN             AF               48.519836  366.8180  361.0555   \n",
              "\n",
              "     Science  \n",
              "19  375.7451  \n",
              "65  386.4034  "
            ]
          },
          "execution_count": 110,
          "metadata": {},
          "output_type": "execute_result"
        }
      ],
      "source": [
        "dfAF = dfpisa[dfpisa[\"Continent_Code\"]==\"AF\"]\n",
        "dfAF"
      ]
    },
    {
      "cell_type": "code",
      "execution_count": null,
      "metadata": {
        "id": "_ziky2sx3Xtx",
        "outputId": "5574c71a-bdee-4d5a-cfa7-7e92312b2a69"
      },
      "outputs": [
        {
          "data": {
            "text/html": [
              "<div>\n",
              "<style scoped>\n",
              "    .dataframe tbody tr th:only-of-type {\n",
              "        vertical-align: middle;\n",
              "    }\n",
              "\n",
              "    .dataframe tbody tr th {\n",
              "        vertical-align: top;\n",
              "    }\n",
              "\n",
              "    .dataframe thead th {\n",
              "        text-align: right;\n",
              "    }\n",
              "</style>\n",
              "<table border=\"1\" class=\"dataframe\">\n",
              "  <thead>\n",
              "    <tr style=\"text-align: right;\">\n",
              "      <th></th>\n",
              "      <th>internet_users_per_100</th>\n",
              "      <th>Math</th>\n",
              "      <th>Reading</th>\n",
              "      <th>Science</th>\n",
              "    </tr>\n",
              "  </thead>\n",
              "  <tbody>\n",
              "    <tr>\n",
              "      <th>count</th>\n",
              "      <td>2.000000</td>\n",
              "      <td>2.000000</td>\n",
              "      <td>2.000000</td>\n",
              "      <td>2.000000</td>\n",
              "    </tr>\n",
              "    <tr>\n",
              "      <th>mean</th>\n",
              "      <td>43.359918</td>\n",
              "      <td>363.212100</td>\n",
              "      <td>355.457400</td>\n",
              "      <td>381.074250</td>\n",
              "    </tr>\n",
              "    <tr>\n",
              "      <th>std</th>\n",
              "      <td>7.297226</td>\n",
              "      <td>5.099513</td>\n",
              "      <td>7.916909</td>\n",
              "      <td>7.536556</td>\n",
              "    </tr>\n",
              "    <tr>\n",
              "      <th>min</th>\n",
              "      <td>38.200000</td>\n",
              "      <td>359.606200</td>\n",
              "      <td>349.859300</td>\n",
              "      <td>375.745100</td>\n",
              "    </tr>\n",
              "    <tr>\n",
              "      <th>25%</th>\n",
              "      <td>40.779959</td>\n",
              "      <td>361.409150</td>\n",
              "      <td>352.658350</td>\n",
              "      <td>378.409675</td>\n",
              "    </tr>\n",
              "    <tr>\n",
              "      <th>50%</th>\n",
              "      <td>43.359918</td>\n",
              "      <td>363.212100</td>\n",
              "      <td>355.457400</td>\n",
              "      <td>381.074250</td>\n",
              "    </tr>\n",
              "    <tr>\n",
              "      <th>75%</th>\n",
              "      <td>45.939877</td>\n",
              "      <td>365.015050</td>\n",
              "      <td>358.256450</td>\n",
              "      <td>383.738825</td>\n",
              "    </tr>\n",
              "    <tr>\n",
              "      <th>max</th>\n",
              "      <td>48.519836</td>\n",
              "      <td>366.818000</td>\n",
              "      <td>361.055500</td>\n",
              "      <td>386.403400</td>\n",
              "    </tr>\n",
              "  </tbody>\n",
              "</table>\n",
              "</div>"
            ],
            "text/plain": [
              "       internet_users_per_100        Math     Reading     Science\n",
              "count                2.000000    2.000000    2.000000    2.000000\n",
              "mean                43.359918  363.212100  355.457400  381.074250\n",
              "std                  7.297226    5.099513    7.916909    7.536556\n",
              "min                 38.200000  359.606200  349.859300  375.745100\n",
              "25%                 40.779959  361.409150  352.658350  378.409675\n",
              "50%                 43.359918  363.212100  355.457400  381.074250\n",
              "75%                 45.939877  365.015050  358.256450  383.738825\n",
              "max                 48.519836  366.818000  361.055500  386.403400"
            ]
          },
          "execution_count": 111,
          "metadata": {},
          "output_type": "execute_result"
        }
      ],
      "source": [
        "dfAF.describe()"
      ]
    },
    {
      "cell_type": "code",
      "execution_count": null,
      "metadata": {
        "id": "2xY0ozl73Xty",
        "outputId": "552d2129-9d0a-4846-8b6a-14375c6e5554"
      },
      "outputs": [
        {
          "data": {
            "text/plain": [
              "(2, 6)"
            ]
          },
          "execution_count": 112,
          "metadata": {},
          "output_type": "execute_result"
        }
      ],
      "source": [
        "dfAF.shape"
      ]
    },
    {
      "cell_type": "code",
      "execution_count": null,
      "metadata": {
        "id": "l3StrGKj3Xtz",
        "outputId": "99fba3db-0f48-4dde-b6a0-cea308dac9ec"
      },
      "outputs": [
        {
          "data": {
            "text/plain": [
              "internet_users_per_100    53.249507\n",
              "Math                      26.005030\n",
              "Reading                   62.677447\n",
              "Science                   56.799679\n",
              "dtype: float64"
            ]
          },
          "execution_count": 113,
          "metadata": {},
          "output_type": "execute_result"
        }
      ],
      "source": [
        "dfAF.var()"
      ]
    },
    {
      "cell_type": "code",
      "execution_count": null,
      "metadata": {
        "id": "Z0ydbX1N3Xt0",
        "outputId": "ad710722-3693-4feb-ac0c-f716948d9099"
      },
      "outputs": [
        {
          "data": {
            "image/png": "[encoded data removed]",
            "text/plain": [
              "<Figure size 720x432 with 1 Axes>"
            ]
          },
          "metadata": {
            "needs_background": "light"
          },
          "output_type": "display_data"
        }
      ],
      "source": [
        "dfAF.boxplot(figsize=(10, 6));"
      ]
    },
    {
      "cell_type": "code",
      "execution_count": null,
      "metadata": {
        "id": "0GRNVH_73Xt1",
        "outputId": "97ea629c-45a6-4651-9086-f4b486dcc4db"
      },
      "outputs": [
        {
          "data": {
            "text/html": [
              "<div>\n",
              "<style scoped>\n",
              "    .dataframe tbody tr th:only-of-type {\n",
              "        vertical-align: middle;\n",
              "    }\n",
              "\n",
              "    .dataframe tbody tr th {\n",
              "        vertical-align: top;\n",
              "    }\n",
              "\n",
              "    .dataframe thead th {\n",
              "        text-align: right;\n",
              "    }\n",
              "</style>\n",
              "<table border=\"1\" class=\"dataframe\">\n",
              "  <thead>\n",
              "    <tr style=\"text-align: right;\">\n",
              "      <th></th>\n",
              "      <th>Math</th>\n",
              "      <th>Reading</th>\n",
              "      <th>Science</th>\n",
              "    </tr>\n",
              "  </thead>\n",
              "  <tbody>\n",
              "    <tr>\n",
              "      <th>19</th>\n",
              "      <td>359.6062</td>\n",
              "      <td>349.8593</td>\n",
              "      <td>375.7451</td>\n",
              "    </tr>\n",
              "    <tr>\n",
              "      <th>65</th>\n",
              "      <td>366.8180</td>\n",
              "      <td>361.0555</td>\n",
              "      <td>386.4034</td>\n",
              "    </tr>\n",
              "  </tbody>\n",
              "</table>\n",
              "</div>"
            ],
            "text/plain": [
              "        Math   Reading   Science\n",
              "19  359.6062  349.8593  375.7451\n",
              "65  366.8180  361.0555  386.4034"
            ]
          },
          "execution_count": 115,
          "metadata": {},
          "output_type": "execute_result"
        }
      ],
      "source": [
        "dfAF3columns = dfAF[[\"Math\", \"Reading\", \"Science\"]]\n",
        "dfAF3columns"
      ]
    },
    {
      "cell_type": "code",
      "execution_count": null,
      "metadata": {
        "id": "OWJjKVAR3Xt2",
        "outputId": "2629f8bd-73ef-4b76-9d46-aa3273b86279"
      },
      "outputs": [
        {
          "data": {
            "text/html": [
              "<div>\n",
              "<style scoped>\n",
              "    .dataframe tbody tr th:only-of-type {\n",
              "        vertical-align: middle;\n",
              "    }\n",
              "\n",
              "    .dataframe tbody tr th {\n",
              "        vertical-align: top;\n",
              "    }\n",
              "\n",
              "    .dataframe thead th {\n",
              "        text-align: right;\n",
              "    }\n",
              "</style>\n",
              "<table border=\"1\" class=\"dataframe\">\n",
              "  <thead>\n",
              "    <tr style=\"text-align: right;\">\n",
              "      <th></th>\n",
              "      <th>internet_users_per_100</th>\n",
              "    </tr>\n",
              "  </thead>\n",
              "  <tbody>\n",
              "    <tr>\n",
              "      <th>19</th>\n",
              "      <td>38.200000</td>\n",
              "    </tr>\n",
              "    <tr>\n",
              "      <th>65</th>\n",
              "      <td>48.519836</td>\n",
              "    </tr>\n",
              "  </tbody>\n",
              "</table>\n",
              "</div>"
            ],
            "text/plain": [
              "    internet_users_per_100\n",
              "19               38.200000\n",
              "65               48.519836"
            ]
          },
          "execution_count": 116,
          "metadata": {},
          "output_type": "execute_result"
        }
      ],
      "source": [
        "dfAFinternet = dfAF[[\"internet_users_per_100\"]]\n",
        "dfAFinternet"
      ]
    },
    {
      "cell_type": "code",
      "execution_count": null,
      "metadata": {
        "id": "zw9nmR_T3Xt2",
        "outputId": "8431fa1f-4770-479f-941e-5817edc3076d"
      },
      "outputs": [
        {
          "data": {
            "image/png": "[encoded data removed]",
            "text/plain": [
              "<Figure size 1440x288 with 2 Axes>"
            ]
          },
          "metadata": {
            "needs_background": "light"
          },
          "output_type": "display_data"
        }
      ],
      "source": [
        "fig, axes = plt.subplots(1,2, figsize=(20,4))\n",
        "\n",
        "sns.boxplot(data=dfAFinternet, orient='h', ax=axes[0], color=\"skyblue\").set(title='Internet Users in AF')\n",
        "sns.boxplot(data=dfAF3columns, orient='h', ax=axes[1], color=\"skyblue\").set(title='PISA Math, Reading & Science Scores in AF')\n",
        "\n",
        "axes[0].set(xlabel='internet users per 100 in AF')\n",
        "axes[1].set(xlabel='Math, Reading & Science Scores in AF');"
      ]
    },
    {
      "cell_type": "code",
      "execution_count": null,
      "metadata": {
        "id": "y0Nyh2LP3Xt4",
        "outputId": "2e445ea3-123f-457a-94e1-0403f909412f"
      },
      "outputs": [
        {
          "data": {
            "image/png": "[encoded data removed]",
            "text/plain": [
              "<Figure size 720x720 with 4 Axes>"
            ]
          },
          "metadata": {
            "needs_background": "light"
          },
          "output_type": "display_data"
        }
      ],
      "source": [
        "fig, axs = plt.subplots(2, 2, figsize=(10, 10))\n",
        "\n",
        "sns.histplot(data=dfAF, x=\"internet_users_per_100\", kde=True, color=\"skyblue\", ax=axs[0, 0])\n",
        "sns.histplot(data=dfAF, x=\"Math\", kde=True, color=\"olive\", ax=axs[0, 1])\n",
        "sns.histplot(data=dfAF, x=\"Reading\", kde=True, color=\"gold\", ax=axs[1, 0])\n",
        "sns.histplot(data=dfAF, x=\"Science\", kde=True, color=\"teal\", ax=axs[1, 1]);"
      ]
    },
    {
      "cell_type": "code",
      "execution_count": null,
      "metadata": {
        "id": "sClbmZHo3Xt5",
        "outputId": "78fcdeb2-9f49-475f-843e-4d4840bb0211"
      },
      "outputs": [
        {
          "data": {
            "image/png": "[encoded data removed]",
            "text/plain": [
              "<Figure size 807.125x720 with 14 Axes>"
            ]
          },
          "metadata": {
            "needs_background": "light"
          },
          "output_type": "display_data"
        }
      ],
      "source": [
        "sns.pairplot(dfpisa, hue = 'Continent_Code', corner = True);"
      ]
    },
    {
      "cell_type": "markdown",
      "metadata": {
        "id": "JwrSEDSQ3Xt5"
      },
      "source": [
        "**SOLUTION: (ii)**\n",
        "\n",
        "**(ii) Determine whether there is any difference (on the average) for the math scores among European (EU) and Asian (AS) countries (assume normality and equal variances). Draw side-by-side box plots.**"
      ]
    },
    {
      "cell_type": "raw",
      "metadata": {
        "id": "QXjBCi3C3Xt6"
      },
      "source": [
        "We will compare two Continents Math scores and check if these are values within commonly accepted CONFIDENCE INTERVAL (0.95).(if it is less or more then our chosen significance levels α/2 placed at two side of the mean. \n",
        "\n",
        "it means H0: μA = μB\n",
        "\n",
        "Therefore we will use a TWO-TAILED distribution having  -α/2 / +α/2 interval.\n",
        "\n",
        "I don't know the sigma value of the population, so I'll execute a \"T-TEST\".\n",
        "\n",
        "Therefore we have two samples we will use \"TWO SAMPLE T-TEST\".\n",
        "\n",
        "AND since;\n",
        "\n",
        "There is no natural pairing between subjects in the two groups.\n",
        "H0:  The population means of two groups are not significantly different. (H0: μA = μB)\n",
        "Sample Size:  Arbitrary for both groups;\n",
        "\n",
        "we will use \"independent Two-sample t-test\" "
      ]
    },
    {
      "cell_type": "code",
      "execution_count": null,
      "metadata": {
        "id": "4PBlmXE13Xt8"
      },
      "outputs": [],
      "source": [
        "The null hypothesis that the population means of the two groups are not significantly different (H0: μA = μB)\n",
        "\n",
        "The alternative hypothesis is (H0: μA ≠ μB)"
      ]
    },
    {
      "cell_type": "code",
      "execution_count": null,
      "metadata": {
        "id": "M1J_Wa4E3Xt9",
        "outputId": "534ba23b-1aed-47c6-d16d-677d1e1110a4"
      },
      "outputs": [
        {
          "data": {
            "text/plain": [
              "(0.870055317967983, 0.38826888111307345)"
            ]
          },
          "execution_count": 124,
          "metadata": {},
          "output_type": "execute_result"
        }
      ],
      "source": [
        "# With using nan_policy='omit'. \n",
        "# In this study we will use this t value found by nan_policy='omit'.\n",
        "\n",
        "statistic, pvalue = stats.ttest_ind(dfEU.Math, dfAS.Math, nan_policy='omit')  # independet T test\n",
        "\n",
        "statistic, pvalue"
      ]
    },
    {
      "cell_type": "code",
      "execution_count": null,
      "metadata": {
        "id": "MbIaDVyO3Xt-",
        "outputId": "c5572db8-6c6b-4fe4-d764-19cc6b05e9c1"
      },
      "outputs": [
        {
          "data": {
            "text/plain": [
              "(0.870055317967983, 0.38826888111307345)"
            ]
          },
          "execution_count": 126,
          "metadata": {},
          "output_type": "execute_result"
        }
      ],
      "source": [
        "#EU = dfpisa[dfpisa['Continent_Code']=='EU'].Math\n",
        "#AS = dfpisa[dfpisa['Continent_Code']=='AS'].Math\n",
        "#Mathstatistic, Mathpvalue = stats.ttest_ind(EU, AS, nan_policy='omit')   # independent T test\n",
        "\n",
        "#Mathstatistic, Mathpvalue \n",
        "\n",
        "## CHECK: statistic=0.870055317967983, pvalue=0.38826888111307345\n"
      ]
    },
    {
      "cell_type": "markdown",
      "metadata": {
        "id": "FNRJFO0Z3Xt_"
      },
      "source": [
        "Our test statistic is **0.870055317967983** and the corresponding two-sided p-value is **0.38826888111307345**."
      ]
    },
    {
      "cell_type": "markdown",
      "metadata": {
        "id": "C0wk_Gjp3XuA"
      },
      "source": [
        "\n",
        "Standart normal tablodan, %0.05 anlamlılık düzeyindeki iki uçlu kritik değer, t-değeri karşılaştırması için kritik değerimiz olan ta/2 = 0.05/2 = 0.025 = 1.965'tir.\n",
        "\n",
        "Hesaplanan p-değeri (0,3882688111307345) kritik alfa değerinden (α/2 = 0,025) küçükse, boş hipotezi reddederiz (ve ortalamaların önemli ölçüde farklı olduğu sonucuna varırız) VEYA tam tersi.\n",
        "\n",
        "(Hesaplanan p-değerimiz kritik alfa değerinden küçük OLMADIĞINDAN, sonuçFail to Reject)"
      ]
    },
    {
      "cell_type": "code",
      "execution_count": null,
      "metadata": {
        "id": "q3jXmH8M3XuB",
        "outputId": "3de404a2-30e1-4e5a-cc99-437da606bc68"
      },
      "outputs": [
        {
          "name": "stdout",
          "output_type": "stream",
          "text": [
            "Fail to reject\n"
          ]
        }
      ],
      "source": [
        "critical_pvalue = 0.025\n",
        "\n",
        "if Mathpvalue < critical_pvalue:\n",
        "    print(\"Reject the Null\")\n",
        "else:\n",
        "    print(\"Fail to reject\")"
      ]
    },
    {
      "cell_type": "markdown",
      "metadata": {
        "id": "tYD-8E4b3XuD"
      },
      "source": [
        "**FAIL TO REJECT**"
      ]
    },
    {
      "cell_type": "code",
      "execution_count": null,
      "metadata": {
        "id": "uKCrJQrj3XuD",
        "outputId": "c883fcb7-34d2-42f6-df32-7d22dc0420b0"
      },
      "outputs": [
        {
          "data": {
            "text/plain": [
              "count     37.000000\n",
              "mean     477.981449\n",
              "std       35.150403\n",
              "min      371.311400\n",
              "25%      464.040100\n",
              "50%      489.728700\n",
              "75%      503.722000\n",
              "max      521.250600\n",
              "Name: Math, dtype: float64"
            ]
          },
          "execution_count": 128,
          "metadata": {},
          "output_type": "execute_result"
        }
      ],
      "source": [
        "dfEU.Math.describe()"
      ]
    },
    {
      "cell_type": "code",
      "execution_count": null,
      "metadata": {
        "id": "--42w9LS3XuE",
        "outputId": "eec0fc7e-deb9-4470-81a0-f106a4431f15"
      },
      "outputs": [
        {
          "data": {
            "text/plain": [
              "count     17.000000\n",
              "mean     466.216647\n",
              "std       64.356490\n",
              "min      380.259000\n",
              "25%      403.833200\n",
              "50%      459.816000\n",
              "75%      531.296100\n",
              "max      564.189700\n",
              "Name: Math, dtype: float64"
            ]
          },
          "execution_count": 129,
          "metadata": {},
          "output_type": "execute_result"
        }
      ],
      "source": [
        "dfAS.Math.describe()"
      ]
    },
    {
      "cell_type": "code",
      "execution_count": null,
      "metadata": {
        "id": "inGtNLGD3XuF",
        "outputId": "cab16ee6-7150-45db-b01c-b781d43b437c"
      },
      "outputs": [
        {
          "data": {
            "text/plain": [
              "11.764801589825197"
            ]
          },
          "execution_count": 130,
          "metadata": {},
          "output_type": "execute_result"
        }
      ],
      "source": [
        "mathmeandiff = (dfEU.Math.mean()) - (dfAS.Math.mean())\n",
        "\n",
        "mathmeandiff"
      ]
    },
    {
      "cell_type": "markdown",
      "metadata": {
        "id": "sR6856m_3XuG"
      },
      "source": [
        "**DECISION AND CONCLUSIONS**\n",
        "\n",
        "Hesaplanan p değeri 0.38826888111307345, sol ve sağ kuyruk α/2 = 0.025 olarak seçtiğimiz (kritik) anlamlılık düzeyinden daha büyük olduğundan, boş hipotezi reddetmede başarısız olabiliriz ve Matematik puanlarının AB ve AS birbirinden önemli ölçüde farklıdır.\n",
        "Based on the results, we can state the following:\n",
        "\n",
        "AB ve AS'deki ortalama Matematik puanlarında önemli bir fark YOKTUR\n",
        "(t70 = 0.870055317967983, p < .05)\n",
        "\n",
        "Ortalama olarak, 11.764801589825083 ile AB'deki Math puanları AS'dekilerden biraz daha yüksektir; ancak aralarında istatistiksel olarak fark YOKTUR."
      ]
    },
    {
      "cell_type": "code",
      "execution_count": null,
      "metadata": {
        "id": "IKjBZnGd3XuH",
        "outputId": "2bb693a9-b4c1-4e10-de93-472737ece844"
      },
      "outputs": [
        {
          "data": {
            "image/png": "[encoded data removed]",
            "text/plain": [
              "<Figure size 864x216 with 2 Axes>"
            ]
          },
          "metadata": {
            "needs_background": "light"
          },
          "output_type": "display_data"
        }
      ],
      "source": [
        "fig, axes = plt.subplots(1,2, figsize=(12,3))\n",
        "\n",
        "sns.boxplot(dfEU['Math'], ax=axes[0]).set(title='PISA Math Scores in EU')\n",
        "sns.boxplot(dfAS['Math'], ax=axes[1]).set(title='PISA Math Scores in AS')\n",
        "\n",
        "axes[0].set(xlabel='Math Scores in EU')\n",
        "axes[1].set(xlabel='Math Scores in AS');"
      ]
    },
    {
      "cell_type": "code",
      "execution_count": null,
      "metadata": {
        "id": "jkpUG5dw3XuH",
        "outputId": "f65b6f57-a8a2-4574-9486-476c39ed2dc5"
      },
      "outputs": [
        {
          "data": {
            "image/png": "[encoded data removed]",
            "text/plain": [
              "<Figure size 432x432 with 1 Axes>"
            ]
          },
          "metadata": {
            "needs_background": "light"
          },
          "output_type": "display_data"
        }
      ],
      "source": [
        "plt.figure(figsize=(6,6))\n",
        "plt.boxplot([dfEU['Math'],dfAS['Math']], showmeans=True, widths = 0.4)\n",
        "\n",
        "plt.title('PISA Scores by Math')\n",
        "plt.ylabel('Math Scores')\n",
        "plt.xticks([1, 2], ['Europe', 'Asia'])\n",
        "y_ticks = np.arange(300, 600, 20)\n",
        "plt.yticks(y_ticks);\n",
        "\n",
        "# we see that the distribution of Europe is left skewed and the distribution of Asia is right skewed# we see that the distribution of Europe is right skewed and the distribution of Asia is left skewed"
      ]
    },
    {
      "cell_type": "markdown",
      "metadata": {
        "id": "FdkK0OGS3XuI"
      },
      "source": [
        "**EXERCISE 4.The sample dataset has placement test scores (out of 100 points) for four subject areas: English, Reading, Math, and Writing. Students in the sample completed all 4 placement tests when they enrolled in the university. Suppose we are particularly interested in the English and Math sections, and want to determine whether students tended to score higher on their English or Math test, on average. We could use a paired t test to test if there was a significant difference in the average of the two tests.**\n",
        "Örnek veri kümesi, dört konu alanı için (100 puan üzerinden) yerleştirme testi puanlarına sahiptir: İngilizce, Okuma, Matematik ve Yazma. Örneklemdeki öğrenciler, üniversiteye kayıt olduklarında 4 yerleştirme sınavının hepsini tamamlamıştır. Özellikle İngilizce ve Matematik bölümleriyle ilgilendiğimizi ve öğrencilerin İngilizce veya Matematik sınavlarında ortalama olarak daha yüksek puan alıp almadıklarını belirlemek istediğimizi varsayalım. İki testin ortalamasında anlamlı bir fark olup olmadığını test etmek için eşleştirilmiş bir t testi kullanabiliriz.\n",
        "\n",
        "**CHECK: statistic=36.312568981719856, pvalue=3.0710987192210606e-128**"
      ]
    },
    {
      "cell_type": "markdown",
      "metadata": {
        "id": "ZFolQVmh3XuJ"
      },
      "source": [
        "**PAIRED SAMPLE T-TEST ASSUMPTIONS**\n",
        "\n",
        "Eşleştirilmiş örneklem t testi sonuçlarının güvenilir olması için aşağıdaki varsayımların karşılanması gerekir::\n",
        "\n",
        "Bağımlı değişken (DV), bir aralık veya oran ölçeğinde ölçülen sürekli olmalıdır\n",
        "Gözlemler bağımsızdır\n",
        "\n",
        "The DV should be approximately normally distributed\n",
        "\n",
        "Eşleştirilmiş örnek t testi bu ihlale karşı sağlamdır. Normallik ihlali varsa, büyük bir ihlal olmadığı sürece test sonuçları geçerli kabul edilebilir.\n",
        "\n",
        "DV, önemli aykırı değerler içermemelidir\n",
        "Bu varsayımlardan herhangi biri ihlal edilirse, farklı bir test kullanılmalıdır. Eşleştirilmiş örnek t-testine bir alternatif, Wilcoxon işaretli sıra Testidir."
      ]
    },
    {
      "cell_type": "raw",
      "metadata": {
        "id": "ejPgpwpS3XuK"
      },
      "source": [
        "We will use paired two sample t-test because there is one sample tested two different survey and want to know if the mean changed between the first and second survey.\n",
        "\n",
        "(Ho : μdiff = 0)\n",
        "\n",
        "The alternative hypothesis is: (H1 : μdiff != 0)"
      ]
    },
    {
      "cell_type": "code",
      "execution_count": null,
      "metadata": {
        "id": "QVBlahNL3XuL"
      },
      "outputs": [],
      "source": [
        "# Placement Test Scores\n",
        "\n",
        "dfscores = pd.read_csv(\"students_2014.csv\", sep = \",\", na_values = \".\", index_col = 0)"
      ]
    },
    {
      "cell_type": "code",
      "execution_count": null,
      "metadata": {
        "id": "pu1Sa7E03XuL",
        "outputId": "4683b28e-15d6-447e-8e0c-ded234f21c5e"
      },
      "outputs": [
        {
          "data": {
            "text/html": [
              "<div>\n",
              "<style scoped>\n",
              "    .dataframe tbody tr th:only-of-type {\n",
              "        vertical-align: middle;\n",
              "    }\n",
              "\n",
              "    .dataframe tbody tr th {\n",
              "        vertical-align: top;\n",
              "    }\n",
              "\n",
              "    .dataframe thead th {\n",
              "        text-align: right;\n",
              "    }\n",
              "</style>\n",
              "<table border=\"1\" class=\"dataframe\">\n",
              "  <thead>\n",
              "    <tr style=\"text-align: right;\">\n",
              "      <th></th>\n",
              "      <th>bday</th>\n",
              "      <th>enrolldate</th>\n",
              "      <th>expgradate</th>\n",
              "      <th>Rank</th>\n",
              "      <th>Major</th>\n",
              "      <th>Gender</th>\n",
              "      <th>Athlete</th>\n",
              "      <th>Height</th>\n",
              "      <th>Weight</th>\n",
              "      <th>Smoking</th>\n",
              "      <th>...</th>\n",
              "      <th>English</th>\n",
              "      <th>Reading</th>\n",
              "      <th>Math</th>\n",
              "      <th>Writing</th>\n",
              "      <th>State</th>\n",
              "      <th>LiveOnCampus</th>\n",
              "      <th>HowCommute</th>\n",
              "      <th>CommuteTime</th>\n",
              "      <th>SleepTime</th>\n",
              "      <th>StudyTime</th>\n",
              "    </tr>\n",
              "    <tr>\n",
              "      <th>ids</th>\n",
              "      <th></th>\n",
              "      <th></th>\n",
              "      <th></th>\n",
              "      <th></th>\n",
              "      <th></th>\n",
              "      <th></th>\n",
              "      <th></th>\n",
              "      <th></th>\n",
              "      <th></th>\n",
              "      <th></th>\n",
              "      <th></th>\n",
              "      <th></th>\n",
              "      <th></th>\n",
              "      <th></th>\n",
              "      <th></th>\n",
              "      <th></th>\n",
              "      <th></th>\n",
              "      <th></th>\n",
              "      <th></th>\n",
              "      <th></th>\n",
              "      <th></th>\n",
              "    </tr>\n",
              "  </thead>\n",
              "  <tbody>\n",
              "    <tr>\n",
              "      <th>41870</th>\n",
              "      <td>4/11/1994</td>\n",
              "      <td>5-Aug-2013</td>\n",
              "      <td>13-May-2019</td>\n",
              "      <td>2.0</td>\n",
              "      <td>I am currently exploring options</td>\n",
              "      <td>1.0</td>\n",
              "      <td>0</td>\n",
              "      <td>55.00</td>\n",
              "      <td>101.71</td>\n",
              "      <td>0.0</td>\n",
              "      <td>...</td>\n",
              "      <td>86.23</td>\n",
              "      <td>89.19</td>\n",
              "      <td>61.20</td>\n",
              "      <td>88.91</td>\n",
              "      <td>Out of state</td>\n",
              "      <td>NaN</td>\n",
              "      <td>3.0</td>\n",
              "      <td>24.0</td>\n",
              "      <td>9.0</td>\n",
              "      <td>3.0</td>\n",
              "    </tr>\n",
              "    <tr>\n",
              "      <th>37333</th>\n",
              "      <td>6/7/1993</td>\n",
              "      <td>6-Aug-2012</td>\n",
              "      <td>14-May-2018</td>\n",
              "      <td>3.0</td>\n",
              "      <td>political science</td>\n",
              "      <td>1.0</td>\n",
              "      <td>0</td>\n",
              "      <td>64.65</td>\n",
              "      <td>150.23</td>\n",
              "      <td>0.0</td>\n",
              "      <td>...</td>\n",
              "      <td>89.12</td>\n",
              "      <td>NaN</td>\n",
              "      <td>69.90</td>\n",
              "      <td>86.33</td>\n",
              "      <td>In state</td>\n",
              "      <td>0.0</td>\n",
              "      <td>3.0</td>\n",
              "      <td>30.0</td>\n",
              "      <td>4.0</td>\n",
              "      <td>15.0</td>\n",
              "    </tr>\n",
              "    <tr>\n",
              "      <th>20903</th>\n",
              "      <td>12/25/1993</td>\n",
              "      <td>5-Aug-2013</td>\n",
              "      <td>13-May-2019</td>\n",
              "      <td>2.0</td>\n",
              "      <td>NaN</td>\n",
              "      <td>0.0</td>\n",
              "      <td>1</td>\n",
              "      <td>65.99</td>\n",
              "      <td>141.53</td>\n",
              "      <td>0.0</td>\n",
              "      <td>...</td>\n",
              "      <td>89.95</td>\n",
              "      <td>83.61</td>\n",
              "      <td>61.04</td>\n",
              "      <td>78.86</td>\n",
              "      <td>In state</td>\n",
              "      <td>0.0</td>\n",
              "      <td>3.0</td>\n",
              "      <td>23.0</td>\n",
              "      <td>NaN</td>\n",
              "      <td>4.0</td>\n",
              "    </tr>\n",
              "    <tr>\n",
              "      <th>38365</th>\n",
              "      <td>5/27/1994</td>\n",
              "      <td>4-Aug-2014</td>\n",
              "      <td>11-May-2020</td>\n",
              "      <td>1.0</td>\n",
              "      <td>philosophy</td>\n",
              "      <td>0.0</td>\n",
              "      <td>1</td>\n",
              "      <td>66.41</td>\n",
              "      <td>175.20</td>\n",
              "      <td>0.0</td>\n",
              "      <td>...</td>\n",
              "      <td>77.09</td>\n",
              "      <td>79.08</td>\n",
              "      <td>60.93</td>\n",
              "      <td>76.27</td>\n",
              "      <td>Out of state</td>\n",
              "      <td>1.0</td>\n",
              "      <td>NaN</td>\n",
              "      <td>NaN</td>\n",
              "      <td>10.0</td>\n",
              "      <td>5.0</td>\n",
              "    </tr>\n",
              "    <tr>\n",
              "      <th>40390</th>\n",
              "      <td>4/30/1994</td>\n",
              "      <td>NaN</td>\n",
              "      <td>NaN</td>\n",
              "      <td>NaN</td>\n",
              "      <td>Africana studies</td>\n",
              "      <td>1.0</td>\n",
              "      <td>1</td>\n",
              "      <td>68.84</td>\n",
              "      <td>154.70</td>\n",
              "      <td>0.0</td>\n",
              "      <td>...</td>\n",
              "      <td>75.65</td>\n",
              "      <td>76.54</td>\n",
              "      <td>51.14</td>\n",
              "      <td>75.94</td>\n",
              "      <td>In state</td>\n",
              "      <td>0.0</td>\n",
              "      <td>3.0</td>\n",
              "      <td>26.0</td>\n",
              "      <td>NaN</td>\n",
              "      <td>3.0</td>\n",
              "    </tr>\n",
              "    <tr>\n",
              "      <th>32304</th>\n",
              "      <td>8/7/1994</td>\n",
              "      <td>4-Aug-2014</td>\n",
              "      <td>11-May-2020</td>\n",
              "      <td>1.0</td>\n",
              "      <td>Aerospace engineering</td>\n",
              "      <td>1.0</td>\n",
              "      <td>1</td>\n",
              "      <td>67.24</td>\n",
              "      <td>157.19</td>\n",
              "      <td>0.0</td>\n",
              "      <td>...</td>\n",
              "      <td>82.77</td>\n",
              "      <td>73.27</td>\n",
              "      <td>55.81</td>\n",
              "      <td>79.15</td>\n",
              "      <td>In state</td>\n",
              "      <td>1.0</td>\n",
              "      <td>NaN</td>\n",
              "      <td>NaN</td>\n",
              "      <td>NaN</td>\n",
              "      <td>2.0</td>\n",
              "    </tr>\n",
              "    <tr>\n",
              "      <th>28328</th>\n",
              "      <td>9/26/1989</td>\n",
              "      <td>1-Aug-2011</td>\n",
              "      <td>08-May-2017</td>\n",
              "      <td>4.0</td>\n",
              "      <td>Elementary ed</td>\n",
              "      <td>0.0</td>\n",
              "      <td>0</td>\n",
              "      <td>63.07</td>\n",
              "      <td>191.58</td>\n",
              "      <td>0.0</td>\n",
              "      <td>...</td>\n",
              "      <td>NaN</td>\n",
              "      <td>89.00</td>\n",
              "      <td>72.63</td>\n",
              "      <td>77.47</td>\n",
              "      <td>In state</td>\n",
              "      <td>0.0</td>\n",
              "      <td>3.0</td>\n",
              "      <td>15.0</td>\n",
              "      <td>2.0</td>\n",
              "      <td>3.0</td>\n",
              "    </tr>\n",
              "    <tr>\n",
              "      <th>43692</th>\n",
              "      <td>3/22/1991</td>\n",
              "      <td>4-Aug-2014</td>\n",
              "      <td>11-May-2020</td>\n",
              "      <td>1.0</td>\n",
              "      <td>biometrics</td>\n",
              "      <td>1.0</td>\n",
              "      <td>0</td>\n",
              "      <td>57.82</td>\n",
              "      <td>170.81</td>\n",
              "      <td>0.0</td>\n",
              "      <td>...</td>\n",
              "      <td>85.53</td>\n",
              "      <td>89.67</td>\n",
              "      <td>78.05</td>\n",
              "      <td>NaN</td>\n",
              "      <td>In state</td>\n",
              "      <td>1.0</td>\n",
              "      <td>NaN</td>\n",
              "      <td>NaN</td>\n",
              "      <td>8.0</td>\n",
              "      <td>7.0</td>\n",
              "    </tr>\n",
              "    <tr>\n",
              "      <th>23340</th>\n",
              "      <td>11/26/1989</td>\n",
              "      <td>1-Aug-2011</td>\n",
              "      <td>08-May-2017</td>\n",
              "      <td>4.0</td>\n",
              "      <td>AstronomyÂ</td>\n",
              "      <td>1.0</td>\n",
              "      <td>1</td>\n",
              "      <td>64.46</td>\n",
              "      <td>134.77</td>\n",
              "      <td>0.0</td>\n",
              "      <td>...</td>\n",
              "      <td>75.05</td>\n",
              "      <td>88.79</td>\n",
              "      <td>85.69</td>\n",
              "      <td>83.22</td>\n",
              "      <td>NaN</td>\n",
              "      <td>0.0</td>\n",
              "      <td>3.0</td>\n",
              "      <td>19.0</td>\n",
              "      <td>4.0</td>\n",
              "      <td>8.0</td>\n",
              "    </tr>\n",
              "    <tr>\n",
              "      <th>43610</th>\n",
              "      <td>3/23/1994</td>\n",
              "      <td>4-Aug-2014</td>\n",
              "      <td>11-May-2020</td>\n",
              "      <td>1.0</td>\n",
              "      <td>Studio art</td>\n",
              "      <td>1.0</td>\n",
              "      <td>0</td>\n",
              "      <td>69.70</td>\n",
              "      <td>216.06</td>\n",
              "      <td>1.0</td>\n",
              "      <td>...</td>\n",
              "      <td>79.61</td>\n",
              "      <td>78.38</td>\n",
              "      <td>45.79</td>\n",
              "      <td>77.91</td>\n",
              "      <td>In state</td>\n",
              "      <td>1.0</td>\n",
              "      <td>NaN</td>\n",
              "      <td>NaN</td>\n",
              "      <td>3.0</td>\n",
              "      <td>6.0</td>\n",
              "    </tr>\n",
              "  </tbody>\n",
              "</table>\n",
              "<p>10 rows × 22 columns</p>\n",
              "</div>"
            ],
            "text/plain": [
              "             bday  enrolldate   expgradate  Rank  \\\n",
              "ids                                                \n",
              "41870   4/11/1994  5-Aug-2013  13-May-2019   2.0   \n",
              "37333    6/7/1993  6-Aug-2012  14-May-2018   3.0   \n",
              "20903  12/25/1993  5-Aug-2013  13-May-2019   2.0   \n",
              "38365   5/27/1994  4-Aug-2014  11-May-2020   1.0   \n",
              "40390   4/30/1994         NaN          NaN   NaN   \n",
              "32304    8/7/1994  4-Aug-2014  11-May-2020   1.0   \n",
              "28328   9/26/1989  1-Aug-2011  08-May-2017   4.0   \n",
              "43692   3/22/1991  4-Aug-2014  11-May-2020   1.0   \n",
              "23340  11/26/1989  1-Aug-2011  08-May-2017   4.0   \n",
              "43610   3/23/1994  4-Aug-2014  11-May-2020   1.0   \n",
              "\n",
              "                                  Major  Gender  Athlete  Height  Weight  \\\n",
              "ids                                                                        \n",
              "41870  I am currently exploring options     1.0        0   55.00  101.71   \n",
              "37333                 political science     1.0        0   64.65  150.23   \n",
              "20903                               NaN     0.0        1   65.99  141.53   \n",
              "38365                        philosophy     0.0        1   66.41  175.20   \n",
              "40390                  Africana studies     1.0        1   68.84  154.70   \n",
              "32304             Aerospace engineering     1.0        1   67.24  157.19   \n",
              "28328                     Elementary ed     0.0        0   63.07  191.58   \n",
              "43692                        biometrics     1.0        0   57.82  170.81   \n",
              "23340                       AstronomyÂ      1.0        1   64.46  134.77   \n",
              "43610                        Studio art     1.0        0   69.70  216.06   \n",
              "\n",
              "       Smoking  ...  English Reading   Math  Writing         State  \\\n",
              "ids             ...                                                  \n",
              "41870      0.0  ...    86.23   89.19  61.20    88.91  Out of state   \n",
              "37333      0.0  ...    89.12     NaN  69.90    86.33      In state   \n",
              "20903      0.0  ...    89.95   83.61  61.04    78.86      In state   \n",
              "38365      0.0  ...    77.09   79.08  60.93    76.27  Out of state   \n",
              "40390      0.0  ...    75.65   76.54  51.14    75.94      In state   \n",
              "32304      0.0  ...    82.77   73.27  55.81    79.15      In state   \n",
              "28328      0.0  ...      NaN   89.00  72.63    77.47      In state   \n",
              "43692      0.0  ...    85.53   89.67  78.05      NaN      In state   \n",
              "23340      0.0  ...    75.05   88.79  85.69    83.22           NaN   \n",
              "43610      1.0  ...    79.61   78.38  45.79    77.91      In state   \n",
              "\n",
              "       LiveOnCampus HowCommute  CommuteTime  SleepTime  StudyTime  \n",
              "ids                                                                \n",
              "41870           NaN        3.0         24.0        9.0        3.0  \n",
              "37333           0.0        3.0         30.0        4.0       15.0  \n",
              "20903           0.0        3.0         23.0        NaN        4.0  \n",
              "38365           1.0        NaN          NaN       10.0        5.0  \n",
              "40390           0.0        3.0         26.0        NaN        3.0  \n",
              "32304           1.0        NaN          NaN        NaN        2.0  \n",
              "28328           0.0        3.0         15.0        2.0        3.0  \n",
              "43692           1.0        NaN          NaN        8.0        7.0  \n",
              "23340           0.0        3.0         19.0        4.0        8.0  \n",
              "43610           1.0        NaN          NaN        3.0        6.0  \n",
              "\n",
              "[10 rows x 22 columns]"
            ]
          },
          "execution_count": 141,
          "metadata": {},
          "output_type": "execute_result"
        }
      ],
      "source": [
        "dfscores.sample(10)"
      ]
    },
    {
      "cell_type": "code",
      "execution_count": null,
      "metadata": {
        "id": "LmnAFfVg3XuZ",
        "outputId": "c28ef2e2-48b2-4e30-8a77-b240ae917ee8"
      },
      "outputs": [
        {
          "data": {
            "text/plain": [
              "(435, 22)"
            ]
          },
          "execution_count": 142,
          "metadata": {},
          "output_type": "execute_result"
        }
      ],
      "source": [
        "dfscores.shape"
      ]
    },
    {
      "cell_type": "code",
      "execution_count": null,
      "metadata": {
        "id": "dyKasfsc3Xua",
        "outputId": "0508c25b-ffac-4d76-8eff-82f2a466101e"
      },
      "outputs": [
        {
          "data": {
            "text/plain": [
              "English  Math \n",
              "False    False    398\n",
              "True     False     24\n",
              "False    True      11\n",
              "True     True       2\n",
              "dtype: int64"
            ]
          },
          "execution_count": 143,
          "metadata": {},
          "output_type": "execute_result"
        }
      ],
      "source": [
        "dfscores[[\"English\", \"Math\"]].isnull().value_counts()\n",
        "\n",
        "# English has 24+2 = 26 Null values and Math has 11+2 =13 Null values"
      ]
    },
    {
      "cell_type": "code",
      "execution_count": null,
      "metadata": {
        "id": "QsRo3kQo3Xub"
      },
      "outputs": [],
      "source": [
        "# Drop NaN data \n",
        "\n",
        "dfscoresdrop = dfscores[[\"English\", \"Math\"]].dropna()  # Note that NaN values are dropped in both columns "
      ]
    },
    {
      "cell_type": "code",
      "execution_count": null,
      "metadata": {
        "id": "yGOT-C2z3Xuc",
        "outputId": "f02d32d4-5584-4c85-a5f0-3733662843c8"
      },
      "outputs": [
        {
          "data": {
            "text/plain": [
              "English  Math \n",
              "False    False    398\n",
              "dtype: int64"
            ]
          },
          "execution_count": 146,
          "metadata": {},
          "output_type": "execute_result"
        }
      ],
      "source": [
        "dfscoresdrop.isnull().value_counts()"
      ]
    },
    {
      "cell_type": "code",
      "execution_count": null,
      "metadata": {
        "id": "vwJvqD1Q3Xuc",
        "outputId": "86b1a477-81e8-4902-ac77-442101abc959"
      },
      "outputs": [
        {
          "data": {
            "text/html": [
              "<div>\n",
              "<style scoped>\n",
              "    .dataframe tbody tr th:only-of-type {\n",
              "        vertical-align: middle;\n",
              "    }\n",
              "\n",
              "    .dataframe tbody tr th {\n",
              "        vertical-align: top;\n",
              "    }\n",
              "\n",
              "    .dataframe thead th {\n",
              "        text-align: right;\n",
              "    }\n",
              "</style>\n",
              "<table border=\"1\" class=\"dataframe\">\n",
              "  <thead>\n",
              "    <tr style=\"text-align: right;\">\n",
              "      <th></th>\n",
              "      <th>English</th>\n",
              "      <th>Math</th>\n",
              "    </tr>\n",
              "    <tr>\n",
              "      <th>ids</th>\n",
              "      <th></th>\n",
              "      <th></th>\n",
              "    </tr>\n",
              "  </thead>\n",
              "  <tbody>\n",
              "    <tr>\n",
              "      <th>43783</th>\n",
              "      <td>88.24</td>\n",
              "      <td>60.02</td>\n",
              "    </tr>\n",
              "    <tr>\n",
              "      <th>20278</th>\n",
              "      <td>89.45</td>\n",
              "      <td>70.19</td>\n",
              "    </tr>\n",
              "    <tr>\n",
              "      <th>20389</th>\n",
              "      <td>96.73</td>\n",
              "      <td>71.20</td>\n",
              "    </tr>\n",
              "    <tr>\n",
              "      <th>22820</th>\n",
              "      <td>74.06</td>\n",
              "      <td>55.89</td>\n",
              "    </tr>\n",
              "    <tr>\n",
              "      <th>24559</th>\n",
              "      <td>82.61</td>\n",
              "      <td>65.52</td>\n",
              "    </tr>\n",
              "    <tr>\n",
              "      <th>...</th>\n",
              "      <td>...</td>\n",
              "      <td>...</td>\n",
              "    </tr>\n",
              "    <tr>\n",
              "      <th>34021</th>\n",
              "      <td>87.72</td>\n",
              "      <td>65.31</td>\n",
              "    </tr>\n",
              "    <tr>\n",
              "      <th>40697</th>\n",
              "      <td>91.01</td>\n",
              "      <td>70.25</td>\n",
              "    </tr>\n",
              "    <tr>\n",
              "      <th>34272</th>\n",
              "      <td>81.05</td>\n",
              "      <td>58.16</td>\n",
              "    </tr>\n",
              "    <tr>\n",
              "      <th>33628</th>\n",
              "      <td>75.59</td>\n",
              "      <td>66.84</td>\n",
              "    </tr>\n",
              "    <tr>\n",
              "      <th>39298</th>\n",
              "      <td>75.65</td>\n",
              "      <td>60.24</td>\n",
              "    </tr>\n",
              "  </tbody>\n",
              "</table>\n",
              "<p>435 rows × 2 columns</p>\n",
              "</div>"
            ],
            "text/plain": [
              "       English   Math\n",
              "ids                  \n",
              "43783    88.24  60.02\n",
              "20278    89.45  70.19\n",
              "20389    96.73  71.20\n",
              "22820    74.06  55.89\n",
              "24559    82.61  65.52\n",
              "...        ...    ...\n",
              "34021    87.72  65.31\n",
              "40697    91.01  70.25\n",
              "34272    81.05  58.16\n",
              "33628    75.59  66.84\n",
              "39298    75.65  60.24\n",
              "\n",
              "[435 rows x 2 columns]"
            ]
          },
          "execution_count": 147,
          "metadata": {},
          "output_type": "execute_result"
        }
      ],
      "source": [
        "# With Nan values \"dfscores\" dataset has 435 rows.\n",
        "\n",
        "dfscores[[\"English\", \"Math\"]]"
      ]
    },
    {
      "cell_type": "code",
      "execution_count": null,
      "metadata": {
        "id": "5ZGUAZ2h3Xud",
        "outputId": "d66381cc-a70c-4faa-dc6e-d29e90a49db7"
      },
      "outputs": [
        {
          "data": {
            "text/html": [
              "<div>\n",
              "<style scoped>\n",
              "    .dataframe tbody tr th:only-of-type {\n",
              "        vertical-align: middle;\n",
              "    }\n",
              "\n",
              "    .dataframe tbody tr th {\n",
              "        vertical-align: top;\n",
              "    }\n",
              "\n",
              "    .dataframe thead th {\n",
              "        text-align: right;\n",
              "    }\n",
              "</style>\n",
              "<table border=\"1\" class=\"dataframe\">\n",
              "  <thead>\n",
              "    <tr style=\"text-align: right;\">\n",
              "      <th></th>\n",
              "      <th>English</th>\n",
              "      <th>Math</th>\n",
              "    </tr>\n",
              "    <tr>\n",
              "      <th>ids</th>\n",
              "      <th></th>\n",
              "      <th></th>\n",
              "    </tr>\n",
              "  </thead>\n",
              "  <tbody>\n",
              "    <tr>\n",
              "      <th>43783</th>\n",
              "      <td>88.24</td>\n",
              "      <td>60.02</td>\n",
              "    </tr>\n",
              "    <tr>\n",
              "      <th>20278</th>\n",
              "      <td>89.45</td>\n",
              "      <td>70.19</td>\n",
              "    </tr>\n",
              "    <tr>\n",
              "      <th>20389</th>\n",
              "      <td>96.73</td>\n",
              "      <td>71.20</td>\n",
              "    </tr>\n",
              "    <tr>\n",
              "      <th>22820</th>\n",
              "      <td>74.06</td>\n",
              "      <td>55.89</td>\n",
              "    </tr>\n",
              "    <tr>\n",
              "      <th>24559</th>\n",
              "      <td>82.61</td>\n",
              "      <td>65.52</td>\n",
              "    </tr>\n",
              "    <tr>\n",
              "      <th>...</th>\n",
              "      <td>...</td>\n",
              "      <td>...</td>\n",
              "    </tr>\n",
              "    <tr>\n",
              "      <th>34021</th>\n",
              "      <td>87.72</td>\n",
              "      <td>65.31</td>\n",
              "    </tr>\n",
              "    <tr>\n",
              "      <th>40697</th>\n",
              "      <td>91.01</td>\n",
              "      <td>70.25</td>\n",
              "    </tr>\n",
              "    <tr>\n",
              "      <th>34272</th>\n",
              "      <td>81.05</td>\n",
              "      <td>58.16</td>\n",
              "    </tr>\n",
              "    <tr>\n",
              "      <th>33628</th>\n",
              "      <td>75.59</td>\n",
              "      <td>66.84</td>\n",
              "    </tr>\n",
              "    <tr>\n",
              "      <th>39298</th>\n",
              "      <td>75.65</td>\n",
              "      <td>60.24</td>\n",
              "    </tr>\n",
              "  </tbody>\n",
              "</table>\n",
              "<p>398 rows × 2 columns</p>\n",
              "</div>"
            ],
            "text/plain": [
              "       English   Math\n",
              "ids                  \n",
              "43783    88.24  60.02\n",
              "20278    89.45  70.19\n",
              "20389    96.73  71.20\n",
              "22820    74.06  55.89\n",
              "24559    82.61  65.52\n",
              "...        ...    ...\n",
              "34021    87.72  65.31\n",
              "40697    91.01  70.25\n",
              "34272    81.05  58.16\n",
              "33628    75.59  66.84\n",
              "39298    75.65  60.24\n",
              "\n",
              "[398 rows x 2 columns]"
            ]
          },
          "execution_count": 148,
          "metadata": {},
          "output_type": "execute_result"
        }
      ],
      "source": [
        "# Without Nan values \"dfscores\" dataset has 398 rows.\n",
        "\n",
        "dfscoresdrop"
      ]
    },
    {
      "cell_type": "markdown",
      "metadata": {
        "id": "KygebhdG3Xue"
      },
      "source": [
        "Örnek veri setinde her öğrencinin yanıtları bir satıra kaydedilir. İngilizce ve Matematik puanları İngilizce ve Matematik değişkenlerinde temsil edilir. Bu format, eşleştirilmiş numuneler t-testi için zaten uygundur, dolayısıyla daha fazla yeniden yapılandırmaya gerek yoktur."
      ]
    },
    {
      "cell_type": "code",
      "execution_count": null,
      "metadata": {
        "id": "-I7txLlm3Xuf",
        "outputId": "177e5461-62d0-4814-c53b-bc3e89412d44"
      },
      "outputs": [
        {
          "data": {
            "text/html": [
              "<div>\n",
              "<style scoped>\n",
              "    .dataframe tbody tr th:only-of-type {\n",
              "        vertical-align: middle;\n",
              "    }\n",
              "\n",
              "    .dataframe tbody tr th {\n",
              "        vertical-align: top;\n",
              "    }\n",
              "\n",
              "    .dataframe thead th {\n",
              "        text-align: right;\n",
              "    }\n",
              "</style>\n",
              "<table border=\"1\" class=\"dataframe\">\n",
              "  <thead>\n",
              "    <tr style=\"text-align: right;\">\n",
              "      <th></th>\n",
              "      <th>English</th>\n",
              "      <th>Math</th>\n",
              "    </tr>\n",
              "  </thead>\n",
              "  <tbody>\n",
              "    <tr>\n",
              "      <th>count</th>\n",
              "      <td>409.000000</td>\n",
              "      <td>422.000000</td>\n",
              "    </tr>\n",
              "    <tr>\n",
              "      <th>mean</th>\n",
              "      <td>82.787555</td>\n",
              "      <td>65.468009</td>\n",
              "    </tr>\n",
              "    <tr>\n",
              "      <th>std</th>\n",
              "      <td>6.839803</td>\n",
              "      <td>8.375930</td>\n",
              "    </tr>\n",
              "    <tr>\n",
              "      <th>min</th>\n",
              "      <td>59.830000</td>\n",
              "      <td>35.320000</td>\n",
              "    </tr>\n",
              "    <tr>\n",
              "      <th>25%</th>\n",
              "      <td>78.330000</td>\n",
              "      <td>60.202500</td>\n",
              "    </tr>\n",
              "    <tr>\n",
              "      <th>50%</th>\n",
              "      <td>83.150000</td>\n",
              "      <td>65.445000</td>\n",
              "    </tr>\n",
              "    <tr>\n",
              "      <th>75%</th>\n",
              "      <td>87.170000</td>\n",
              "      <td>70.567500</td>\n",
              "    </tr>\n",
              "    <tr>\n",
              "      <th>max</th>\n",
              "      <td>101.950000</td>\n",
              "      <td>93.780000</td>\n",
              "    </tr>\n",
              "  </tbody>\n",
              "</table>\n",
              "</div>"
            ],
            "text/plain": [
              "          English        Math\n",
              "count  409.000000  422.000000\n",
              "mean    82.787555   65.468009\n",
              "std      6.839803    8.375930\n",
              "min     59.830000   35.320000\n",
              "25%     78.330000   60.202500\n",
              "50%     83.150000   65.445000\n",
              "75%     87.170000   70.567500\n",
              "max    101.950000   93.780000"
            ]
          },
          "execution_count": 149,
          "metadata": {},
          "output_type": "execute_result"
        }
      ],
      "source": [
        "dfscores[[\"English\", \"Math\"]].describe()"
      ]
    },
    {
      "cell_type": "code",
      "execution_count": null,
      "metadata": {
        "id": "pY-6OvdG3Xug",
        "outputId": "eef8f5e4-a886-4aea-fd16-c34cdab5ef77"
      },
      "outputs": [
        {
          "data": {
            "text/plain": [
              "6.839803158182041"
            ]
          },
          "execution_count": 150,
          "metadata": {},
          "output_type": "execute_result"
        }
      ],
      "source": [
        "dfscores['English'].std()"
      ]
    },
    {
      "cell_type": "code",
      "execution_count": null,
      "metadata": {
        "id": "vJ0FzmP23Xui",
        "outputId": "c845888b-fd9a-4d5d-96a5-3ecbbcefc0ac"
      },
      "outputs": [
        {
          "data": {
            "text/plain": [
              "46.78290724267702"
            ]
          },
          "execution_count": 151,
          "metadata": {},
          "output_type": "execute_result"
        }
      ],
      "source": [
        "dfscores['English'].var()"
      ]
    },
    {
      "cell_type": "code",
      "execution_count": null,
      "metadata": {
        "id": "7pU6aexq3Xuj",
        "outputId": "43e8d6e7-19ad-48bb-d91c-644592e3d0dd"
      },
      "outputs": [
        {
          "data": {
            "text/plain": [
              "8.375929562049427"
            ]
          },
          "execution_count": 152,
          "metadata": {},
          "output_type": "execute_result"
        }
      ],
      "source": [
        "dfscores['Math'].std()"
      ]
    },
    {
      "cell_type": "code",
      "execution_count": null,
      "metadata": {
        "id": "mk6Eih6o3Xuj",
        "outputId": "f1701f15-c3d2-4532-b2c8-13d2d91506a1"
      },
      "outputs": [
        {
          "data": {
            "text/plain": [
              "70.1561960284135"
            ]
          },
          "execution_count": 153,
          "metadata": {},
          "output_type": "execute_result"
        }
      ],
      "source": [
        "dfscores['Math'].var()"
      ]
    },
    {
      "cell_type": "code",
      "execution_count": null,
      "metadata": {
        "id": "cZL3lWrb3Xuk",
        "outputId": "c4ae7a7a-6a29-4d87-85cb-eb1175144ae5"
      },
      "outputs": [
        {
          "data": {
            "text/plain": [
              "82.78755501222494"
            ]
          },
          "execution_count": 154,
          "metadata": {},
          "output_type": "execute_result"
        }
      ],
      "source": [
        "Englishmean =dfscores['English'].mean()\n",
        "Englishmean"
      ]
    },
    {
      "cell_type": "code",
      "execution_count": null,
      "metadata": {
        "id": "MmcgLyQY3Xum",
        "outputId": "42cde8a2-548d-4524-aec0-0d8d7e70f4cf"
      },
      "outputs": [
        {
          "data": {
            "text/plain": [
              "65.46800947867298"
            ]
          },
          "execution_count": 155,
          "metadata": {},
          "output_type": "execute_result"
        }
      ],
      "source": [
        "Mathmean = dfscores['Math'].mean()\n",
        "Mathmean"
      ]
    },
    {
      "cell_type": "code",
      "execution_count": null,
      "metadata": {
        "id": "LzMB9rKN3Xum",
        "outputId": "f123a588-8210-4473-d728-d80a0d8e506a"
      },
      "outputs": [
        {
          "data": {
            "text/plain": [
              "17.31954553355196"
            ]
          },
          "execution_count": 156,
          "metadata": {},
          "output_type": "execute_result"
        }
      ],
      "source": [
        "Xmeandiff = Englishmean - Mathmean\n",
        "Xmeandiff"
      ]
    },
    {
      "cell_type": "markdown",
      "metadata": {
        "id": "FmcZc8333Xum"
      },
      "source": [
        "The hypotheses for this example can be expressed as:\n",
        "\n",
        "**H0:** µEnglish - µMath = 0 (\"the difference between the average English and Math scores is equal to 0\")\n",
        "\n",
        "**H1:** µEnglish - µMath ≠ 0 (\"the difference between the average English and Math scores is not 0\")\n",
        "\n",
        "Hipotez testlerimizi gerçekleştirmeden önce bir anlamlılık düzeyine (α ile gösterilir) karar vermeliyiz. Anlamlılık düzeyi, bir test sonucunun anlamlı olup olmadığına karar vermek için kullanacağımız eşik değeridir. Bu örnek için α = 0,05 veya %5 kullanalım."
      ]
    },
    {
      "cell_type": "code",
      "execution_count": null,
      "metadata": {
        "id": "uI-rCvhJ3Xuo",
        "outputId": "2a211f36-f295-47ea-b4cf-169f7e716324"
      },
      "outputs": [
        {
          "data": {
            "text/plain": [
              "Ttest_indResult(statistic=10.787205641803522, pvalue=1.1746036768217507e-18)"
            ]
          },
          "execution_count": 157,
          "metadata": {},
          "output_type": "execute_result"
        }
      ],
      "source": [
        "#With using dropna()\n",
        "\n",
        "stats.ttest_ind(dfscores.dropna()[\"English\"], dfscores.dropna()[\"Math\"])"
      ]
    },
    {
      "cell_type": "code",
      "execution_count": null,
      "metadata": {
        "id": "foajMIt53Xuo",
        "outputId": "920bb1f1-11a6-424b-d770-331a8fbbecaa"
      },
      "outputs": [
        {
          "data": {
            "text/plain": [
              "Ttest_relResult(statistic=36.31256898171986, pvalue=3.071098719220689e-128)"
            ]
          },
          "execution_count": 158,
          "metadata": {},
          "output_type": "execute_result"
        }
      ],
      "source": [
        "# With using nan_policy='omit'. In this study we will use this t value found by nan_policy='omit'.\n",
        "\n",
        "paired = stats.ttest_rel(dfscores[\"English\"], dfscores[\"Math\"], nan_policy='omit')\n",
        "paired"
      ]
    },
    {
      "cell_type": "markdown",
      "metadata": {
        "id": "xWhUmhNn3Xup"
      },
      "source": [
        "**CHECK: statistic=36.312568981719856, pvalue=3.0710987192210606e-128**"
      ]
    },
    {
      "cell_type": "code",
      "execution_count": null,
      "metadata": {
        "id": "eUiC5f-S3Xur",
        "outputId": "4e622a86-3008-4313-ef34-20215062bbe7"
      },
      "outputs": [
        {
          "data": {
            "text/plain": [
              "36.31256898171986"
            ]
          },
          "execution_count": 160,
          "metadata": {},
          "output_type": "execute_result"
        }
      ],
      "source": [
        "tscores = paired.statistic\n",
        "tscores"
      ]
    },
    {
      "cell_type": "code",
      "execution_count": null,
      "metadata": {
        "id": "oDTrjK023Xur",
        "outputId": "f880837f-7c4d-46c5-aedc-cf8cc2d74e55"
      },
      "outputs": [
        {
          "data": {
            "text/plain": [
              "3.071098719220689e-128"
            ]
          },
          "execution_count": 161,
          "metadata": {},
          "output_type": "execute_result"
        }
      ],
      "source": [
        "pvaluescores = paired.pvalue\n",
        "pvaluescores"
      ]
    },
    {
      "cell_type": "markdown",
      "metadata": {
        "id": "gwlbYt_i3Xus"
      },
      "source": [
        "Test istatistiğimiz 36.31256898171986 ve karşılık gelen iki taraflı p değeri 3.071098719220689e-128'dir.*."
      ]
    },
    {
      "cell_type": "markdown",
      "metadata": {
        "id": "LWb7NkqA3Xut"
      },
      "source": [
        "Standart normal tablodan, %0.05 önem düzeyindeki iki uçlu kritik değer, t-değeri karşılaştırması için kritik değerimiz olan Zα/2 = 0.05/2 = 0.025 = 1.965'tir."
      ]
    },
    {
      "cell_type": "markdown",
      "metadata": {
        "id": "oXMLIwv73Xuu"
      },
      "source": [
        "Hesaplanan p değeri (3.071098719220689e-128) kritik alfa değerinden (α/2 = 0.025) küçükse, boş hipotezi reddederiz (ve ortalamaların önemli ölçüde farklı olduğu sonucuna varırız)."
      ]
    },
    {
      "cell_type": "code",
      "execution_count": null,
      "metadata": {
        "id": "ChmVIx4e3Xuu",
        "outputId": "eb4589ce-f71d-4807-8a5c-ddd5f6ccf21c"
      },
      "outputs": [
        {
          "name": "stdout",
          "output_type": "stream",
          "text": [
            "Reject the Null\n"
          ]
        }
      ],
      "source": [
        "# compare using p-value \n",
        "\n",
        "critical_pvalue = 0.025\n",
        "\n",
        "if pvaluescores < critical_pvalue:\n",
        "    print(\"Reject the Null\")\n",
        "else:\n",
        "    print(\"Fail to reject\")"
      ]
    },
    {
      "cell_type": "code",
      "execution_count": null,
      "metadata": {
        "id": "-LjH4A853Xuv",
        "outputId": "03a4fbb0-8caf-4dc3-c272-33efd44828fd"
      },
      "outputs": [
        {
          "name": "stdout",
          "output_type": "stream",
          "text": [
            "Reject the Null\n"
          ]
        }
      ],
      "source": [
        "# compare using t-score\n",
        "\n",
        "critical_tscore = 1.965\n",
        "\n",
        "if tscores > critical_tscore:\n",
        "    print(\"Reject the Null\")\n",
        "else:\n",
        "    print(\"Fail to reject\")"
      ]
    },
    {
      "cell_type": "markdown",
      "metadata": {
        "id": "dJOHJYs93Xux"
      },
      "source": [
        "**DECISION AND CONCLUSIONS** \n",
        "\n",
        "p 3.071098719220689e-128, sol ve sağ kuyruk α/2 = 0.025 olarak seçtiğimiz anlamlılık düzeyinden daha az olduğundan, boş hipotezi reddedebilir ve İngilizce ve Matematik puanlarının birbirinden önemli ölçüde farklı olduğu sonucuna varmak için istatistiksel olarak yeterli kanıta sahip olabiliriz. .\n",
        "Based on the results, we can state the following:\n",
        "\n",
        "Ortalama İngilizce ve Matematik puanlarında önemli bir fark vardı(t435 = 36.31256898171986, p < 0.05).\n",
        "\n",
        "Ortalama olarak, öğrenciler İngilizce testinde Matematik testinden 17.31954553355196 puan daha yüksek puan aldı."
      ]
    },
    {
      "cell_type": "code",
      "execution_count": null,
      "metadata": {
        "id": "vV4Y4pEs3Xux",
        "outputId": "ca30170f-eb2e-49cd-d920-d789bc63b5bf"
      },
      "outputs": [
        {
          "data": {
            "image/png": "[encoded data removed]",
            "text/plain": [
              "<Figure size 576x576 with 1 Axes>"
            ]
          },
          "metadata": {
            "needs_background": "light"
          },
          "output_type": "display_data"
        }
      ],
      "source": [
        "dfeng_math[['English', 'Math']].plot(kind='box', figsize=(8,8));"
      ]
    },
    {
      "cell_type": "code",
      "execution_count": null,
      "metadata": {
        "id": "dH97WnS13Xuy",
        "outputId": "2c71b385-2269-4e82-a91d-ee3fba5299f3"
      },
      "outputs": [
        {
          "data": {
            "image/png": "[encoded data removed]",
            "text/plain": [
              "<Figure size 720x576 with 2 Axes>"
            ]
          },
          "metadata": {
            "needs_background": "light"
          },
          "output_type": "display_data"
        }
      ],
      "source": [
        "#plt.figure(figsize=(7,5))\n",
        "fig, axs = plt.subplots(ncols=2, figsize=(10,8))\n",
        "sns.violinplot(y=dfeng_math['English'], data=dfeng_math, ax=axs[0])\n",
        "sns.violinplot(y=dfeng_math['Math'], data=dfeng_math, ax=axs[1]);"
      ]
    },
    {
      "cell_type": "code",
      "execution_count": null,
      "metadata": {
        "id": "VphEU0-C3Xuz",
        "outputId": "40b00746-3e30-4b0a-f7a6-1dc61178446a"
      },
      "outputs": [
        {
          "data": {
            "image/png": "[encoded data removed]",
            "text/plain": [
              "<Figure size 576x576 with 1 Axes>"
            ]
          },
          "metadata": {
            "needs_background": "light"
          },
          "output_type": "display_data"
        }
      ],
      "source": [
        "fig, axs = plt.subplots(figsize=(8,8))\n",
        "df = pd.DataFrame(data=dfeng_math, columns=[\"English\", \"Math\"])\n",
        "sns.boxplot(x=\"variable\", y=\"value\", data=pd.melt(df))\n",
        "\n",
        "plt.show()"
      ]
    },
    {
      "cell_type": "code",
      "execution_count": null,
      "metadata": {
        "id": "BAvR9by63Xu0",
        "outputId": "6a1cb993-b310-48c2-9621-a9a14f734883"
      },
      "outputs": [
        {
          "data": {
            "image/png": "[encoded data removed]",
            "text/plain": [
              "<Figure size 576x576 with 1 Axes>"
            ]
          },
          "metadata": {
            "needs_background": "light"
          },
          "output_type": "display_data"
        }
      ],
      "source": [
        "fig, axs = plt.subplots(figsize=(8,8))\n",
        "df = pd.DataFrame(data=dfeng_math, columns=[\"English\", \"Math\"])\n",
        "sns.violinplot(x=\"variable\", y=\"value\", data=pd.melt(df))\n",
        "plt.show()"
      ]
    },
    {
      "cell_type": "code",
      "execution_count": null,
      "metadata": {
        "id": "ZqC5WKMt3Xu1"
      },
      "outputs": [],
      "source": [
        ""
      ]
    }
  ],
  "metadata": {
    "colab": {
      "collapsed_sections": [],
      "name": "assigment5_explanation_of_class.ipynb",
      "provenance": [],
      "include_colab_link": true
    },
    "kernelspec": {
      "display_name": "Python 3 (ipykernel)",
      "language": "python",
      "name": "python3"
    },
    "language_info": {
      "codemirror_mode": {
        "name": "ipython",
        "version": 3
      },
      "file_extension": ".py",
      "mimetype": "text/x-python",
      "name": "python",
      "nbconvert_exporter": "python",
      "pygments_lexer": "ipython3",
      "version": "3.9.7"
    }
  },
  "nbformat": 4,
  "nbformat_minor": 0
}