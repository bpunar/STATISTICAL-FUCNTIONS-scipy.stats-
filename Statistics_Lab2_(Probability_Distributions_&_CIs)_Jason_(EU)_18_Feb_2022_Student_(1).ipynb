{
  "cells": [
    {
      "cell_type": "markdown",
      "metadata": {
        "id": "view-in-github",
        "colab_type": "text"
      },
      "source": [
        "<a href=\"https://colab.research.google.com/github/bpunar/STATISTICAL-FUCNTIONS-scipy.stats-/blob/main/Statistics_Lab2_(Probability_Distributions_%26_CIs)_Jason_(EU)_18_Feb_2022_Student_(1).ipynb\" target=\"_parent\"><img src=\"https://colab.research.google.com/assets/colab-badge.svg\" alt=\"Open In Colab\"/></a>"
      ]
    },
    {
      "cell_type": "code",
      "execution_count": 1,
      "metadata": {
        "id": "FYd6yifhIiNK"
      },
      "outputs": [],
      "source": [
        "import numpy as np\n",
        "import pandas as pd\n",
        "from scipy import stats\n",
        "import seaborn as sns\n",
        "import matplotlib.pyplot as plt"
      ]
    },
    {
      "cell_type": "markdown",
      "metadata": {
        "id": "f4OS1TQ5IiNS"
      },
      "source": [
        "## Binomial Distribution\n",
        "*Source: Wackerly, D., Mendenhall, W., & Scheaffer, R. L. (2014). Mathematical statistics with applications. Cengage Learning.*"
      ]
    },
    {
      "cell_type": "markdown",
      "metadata": {
        "id": "ber9WWF5IiNW"
      },
      "source": [
        "**Exercise 3.40**\n",
        "\n",
        "The probability that a patient recovers from a stomach disease is 0.8. \n",
        "\n",
        "Suppose 20 people are known to have contracted this disease. \n",
        "\n",
        "What is the probability that"
      ]
    },
    {
      "cell_type": "markdown",
      "metadata": {
        "id": "nwHlsOdSIiNZ"
      },
      "source": [
        "a. exactly 14 recover?"
      ]
    },
    {
      "cell_type": "markdown",
      "metadata": {
        "id": "vtp2gghmIiNa"
      },
      "source": [
        "this is P(X=14)"
      ]
    },
    {
      "cell_type": "code",
      "execution_count": 2,
      "metadata": {
        "id": "BYtGIKZCIiNb"
      },
      "outputs": [],
      "source": [
        "n = 20  #the number of trials\n",
        "p = 0.8 #the probability of success\n",
        "x = 14  #r.v."
      ]
    },
    {
      "cell_type": "code",
      "execution_count": 3,
      "metadata": {
        "colab": {
          "base_uri": "https://localhost:8080/"
        },
        "id": "JRQ1rlPeIiNc",
        "outputId": "4a789714-8399-4428-9c81-9fdcb0e7ae1c"
      },
      "outputs": [
        {
          "output_type": "execute_result",
          "data": {
            "text/plain": [
              "0.10909970097304983"
            ]
          },
          "metadata": {},
          "execution_count": 3
        }
      ],
      "source": [
        "stats.binom.pmf(k=14, n=20, p=0.8)"
      ]
    },
    {
      "cell_type": "code",
      "execution_count": 4,
      "metadata": {
        "colab": {
          "base_uri": "https://localhost:8080/"
        },
        "id": "VUrhyfFBIiNe",
        "outputId": "9aa3a42b-ea80-4c47-e5b4-3b7d35374f34"
      },
      "outputs": [
        {
          "output_type": "execute_result",
          "data": {
            "text/plain": [
              "0.10909970097304983"
            ]
          },
          "metadata": {},
          "execution_count": 4
        }
      ],
      "source": [
        "stats.binom.pmf(x, n, p)"
      ]
    },
    {
      "cell_type": "code",
      "execution_count": 5,
      "metadata": {
        "colab": {
          "base_uri": "https://localhost:8080/"
        },
        "id": "lBL9vRQcIiNf",
        "outputId": "9b61d7f0-d8a8-4503-9b2e-0b38b234aeaa"
      },
      "outputs": [
        {
          "output_type": "execute_result",
          "data": {
            "text/plain": [
              "16.0"
            ]
          },
          "metadata": {},
          "execution_count": 5
        }
      ],
      "source": [
        "stats.binom.mean(n, p)"
      ]
    },
    {
      "cell_type": "markdown",
      "metadata": {
        "id": "yssR_AaOIiNh"
      },
      "source": [
        "b. at least 10 recover?"
      ]
    },
    {
      "cell_type": "markdown",
      "metadata": {
        "id": "0IuMsC9eIiNi"
      },
      "source": [
        "this is P(X≥10)=P(10)+P(11)+P(12)+...+P(20)"
      ]
    },
    {
      "cell_type": "code",
      "execution_count": 6,
      "metadata": {
        "id": "40IlwyMGIiNj"
      },
      "outputs": [],
      "source": [
        "x = 9"
      ]
    },
    {
      "cell_type": "code",
      "execution_count": 7,
      "metadata": {
        "colab": {
          "base_uri": "https://localhost:8080/"
        },
        "id": "AbGTpfvhIiNj",
        "outputId": "84491491-ac97-443d-a094-7c1ee1e53103"
      },
      "outputs": [
        {
          "output_type": "execute_result",
          "data": {
            "text/plain": [
              "0.9994365863023398"
            ]
          },
          "metadata": {},
          "execution_count": 7
        }
      ],
      "source": [
        "1 - stats.binom.cdf(x, n, p)"
      ]
    },
    {
      "cell_type": "code",
      "execution_count": 8,
      "metadata": {
        "colab": {
          "base_uri": "https://localhost:8080/"
        },
        "id": "mlw3a4MJIiNk",
        "outputId": "e0a501bc-6504-4485-f61d-b3b4567f319d"
      },
      "outputs": [
        {
          "output_type": "execute_result",
          "data": {
            "text/plain": [
              "0.9994365863023398"
            ]
          },
          "metadata": {},
          "execution_count": 8
        }
      ],
      "source": [
        "1 - stats.binom.cdf(9, 20, 0.8)"
      ]
    },
    {
      "cell_type": "markdown",
      "metadata": {
        "id": "b_0aWe--IiNl"
      },
      "source": [
        "c. at least 14 but not more than 18 recover?"
      ]
    },
    {
      "cell_type": "markdown",
      "metadata": {
        "id": "sdSBMinEIiNm"
      },
      "source": [
        "this is P(14≤X≤18)=P(14)+P(15)+P(16)+P(17)+P(18)"
      ]
    },
    {
      "cell_type": "code",
      "execution_count": 9,
      "metadata": {
        "id": "ySamsAkmIiNn"
      },
      "outputs": [],
      "source": [
        "x1 = 14\n",
        "x2 = 18"
      ]
    },
    {
      "cell_type": "code",
      "execution_count": 10,
      "metadata": {
        "colab": {
          "base_uri": "https://localhost:8080/"
        },
        "id": "EDtZxr24IiNo",
        "outputId": "67061705-ba3c-4fd6-9c35-c07b19db8206"
      },
      "outputs": [
        {
          "output_type": "execute_result",
          "data": {
            "text/plain": [
              "0.844132196156189"
            ]
          },
          "metadata": {},
          "execution_count": 10
        }
      ],
      "source": [
        "stats.binom.cdf(x2, n, p) - stats.binom.cdf(x1-1, n, p)"
      ]
    },
    {
      "cell_type": "code",
      "execution_count": 11,
      "metadata": {
        "colab": {
          "base_uri": "https://localhost:8080/"
        },
        "id": "etvEZjeyIiNo",
        "outputId": "cf42237b-9c00-42c7-97f0-9ef20e82660d"
      },
      "outputs": [
        {
          "output_type": "execute_result",
          "data": {
            "text/plain": [
              "0.8441321961561871"
            ]
          },
          "metadata": {},
          "execution_count": 11
        }
      ],
      "source": [
        "stats.binom.pmf(k=14, n=20, p=0.8) + stats.binom.pmf(k=15, n=20, p=0.8) + stats.binom.pmf(k=16, n=20, p=0.8) + stats.binom.pmf(k=17, n=20, p=0.8) +stats.binom.pmf(k=18, n=20, p=0.8)"
      ]
    },
    {
      "cell_type": "markdown",
      "metadata": {
        "id": "-749jkdrIiNp"
      },
      "source": [
        "d. at most 16 recover?"
      ]
    },
    {
      "cell_type": "markdown",
      "metadata": {
        "id": "vmDJoz9sIiNq"
      },
      "source": [
        "this is P(X≤16)=1−P(X>16)=P(17)+P(18)+P(19)+P(20)"
      ]
    },
    {
      "cell_type": "code",
      "execution_count": 12,
      "metadata": {
        "id": "dG1jaHKhIiNq"
      },
      "outputs": [],
      "source": [
        "x = 16"
      ]
    },
    {
      "cell_type": "code",
      "execution_count": 13,
      "metadata": {
        "colab": {
          "base_uri": "https://localhost:8080/"
        },
        "id": "i93lK-E5IiNr",
        "outputId": "98a4cd83-d31b-46a7-9785-b228789e871b"
      },
      "outputs": [
        {
          "output_type": "execute_result",
          "data": {
            "text/plain": [
              "0.5885511380434305"
            ]
          },
          "metadata": {},
          "execution_count": 13
        }
      ],
      "source": [
        "stats.binom.cdf(x, n, p)"
      ]
    },
    {
      "cell_type": "code",
      "execution_count": 14,
      "metadata": {
        "colab": {
          "base_uri": "https://localhost:8080/"
        },
        "id": "tbE-C7HcIiNr",
        "outputId": "269de439-e16c-4635-b7ad-0033f318b1e0"
      },
      "outputs": [
        {
          "output_type": "execute_result",
          "data": {
            "text/plain": [
              "0.5885511380434316"
            ]
          },
          "metadata": {},
          "execution_count": 14
        }
      ],
      "source": [
        "1 - (stats.binom.pmf(17, 20, 0.8) + stats.binom.pmf(18, 20, 0.8) + stats.binom.pmf(19, 20, 0.8) + stats.binom.pmf(20, 20, 0.8))"
      ]
    },
    {
      "cell_type": "markdown",
      "metadata": {
        "id": "Q3c5iwxMIiNs"
      },
      "source": [
        "e. Construct discrete probability distribution table and draw a graph"
      ]
    },
    {
      "cell_type": "code",
      "execution_count": 15,
      "metadata": {
        "colab": {
          "base_uri": "https://localhost:8080/"
        },
        "id": "AYHQ3YhSIiNt",
        "outputId": "49d64f44-f9d8-4da5-9d1b-060084eff734"
      },
      "outputs": [
        {
          "output_type": "stream",
          "name": "stdout",
          "text": [
            "0\t1.048576000000001e-14\n",
            "1\t8.388607999999975e-13\n",
            "2\t3.187671040000001e-11\n",
            "3\t7.650410495999974e-10\n",
            "4\t1.3005697843199945e-08\n",
            "5\t1.6647293239295892e-07\n",
            "6\t1.664729323929588e-06\n",
            "7\t1.3317834591436803e-05\n",
            "8\t8.656592484433902e-05\n",
            "9\t0.000461684932503141\n",
            "10\t0.002031413703013826\n",
            "11\t0.007386958920050259\n",
            "12\t0.022160876760150803\n",
            "13\t0.0545498504865252\n",
            "14\t0.10909970097304983\n",
            "15\t0.17455952155687976\n",
            "16\t0.21819940194610007\n",
            "17\t0.2053641430080944\n",
            "18\t0.13690942867206304\n",
            "19\t0.05764607523034236\n",
            "20\t0.011529215046068481\n"
          ]
        }
      ],
      "source": [
        "dist = []\n",
        "\n",
        "for i in range(n+1):\n",
        "    dist.append(stats.binom.pmf(i,n,p))\n",
        "    print(str(i) + \"\\t\" + str(stats.binom.pmf(i,n,p)))"
      ]
    },
    {
      "cell_type": "code",
      "execution_count": null,
      "metadata": {
        "id": "j9R1yKxSIiNt",
        "outputId": "06797a35-918c-4532-d719-c757fd7990ea"
      },
      "outputs": [
        {
          "data": {
            "image/png": "[encoded data removed]",
            "text/plain": [
              "<Figure size 432x288 with 1 Axes>"
            ]
          },
          "metadata": {
            "needs_background": "light"
          },
          "output_type": "display_data"
        }
      ],
      "source": [
        "%matplotlib inline\n",
        "plt.bar(list(range(n+1)), dist)\n",
        "plt.show;"
      ]
    },
    {
      "cell_type": "code",
      "execution_count": 16,
      "metadata": {
        "colab": {
          "base_uri": "https://localhost:8080/"
        },
        "id": "blu6W7PsIiNu",
        "outputId": "7a0e0aef-6ffb-482c-c8ae-b5c29c0c6084"
      },
      "outputs": [
        {
          "output_type": "execute_result",
          "data": {
            "text/plain": [
              "[0, 1, 2, 3, 4, 5, 6, 7, 8, 9, 10, 11, 12, 13, 14, 15, 16, 17, 18, 19, 20]"
            ]
          },
          "metadata": {},
          "execution_count": 16
        }
      ],
      "source": [
        "list(range(n+1))"
      ]
    },
    {
      "cell_type": "markdown",
      "metadata": {
        "id": "XZYtM7ZXIiNu"
      },
      "source": [
        "## Poisson Distribution\n",
        "*Source: Wackerly, D., Mendenhall, W., & Scheaffer, R. L. (2014). Mathematical statistics with applications. Cengage Learning.*"
      ]
    },
    {
      "cell_type": "markdown",
      "metadata": {
        "id": "XoJFor61IiNv"
      },
      "source": [
        "Suppose that a random system of police patrol is devised so that a patrol officer may visit a given beat location Y = 0, 1, 2, 3, . . . times per half-hour period, with each location being visited an average of once per time period. \n",
        "\n",
        "Assume that Y possesses, approximately, a Poisson probability distribution. \n",
        "\n",
        "Calculate the probability that the patrol officer will miss a given location during a half-hour period. \n",
        "\n",
        "What is the probability that it will be visited once? \n",
        "\n",
        "Twice? \n",
        "\n",
        "At least once?"
      ]
    },
    {
      "cell_type": "code",
      "execution_count": 17,
      "metadata": {
        "id": "3LF_lFJIIiNv"
      },
      "outputs": [],
      "source": [
        "#For this example the time period is a half-hour, and the mean number of visits per half-hour interval is λ = 1. Then\n",
        "\n",
        "mu = 1"
      ]
    },
    {
      "cell_type": "markdown",
      "metadata": {
        "id": "yG7RgL1WIiNw"
      },
      "source": [
        "P(Y = 0) = ?"
      ]
    },
    {
      "cell_type": "code",
      "execution_count": 18,
      "metadata": {
        "colab": {
          "base_uri": "https://localhost:8080/"
        },
        "id": "aiIjg2kyIiNw",
        "outputId": "b55b6c0e-93ca-45a0-96e0-7f5dcfd38110"
      },
      "outputs": [
        {
          "output_type": "execute_result",
          "data": {
            "text/plain": [
              "0.36787944117144233"
            ]
          },
          "metadata": {},
          "execution_count": 18
        }
      ],
      "source": [
        "stats.poisson.pmf(k=0, mu=1)"
      ]
    },
    {
      "cell_type": "markdown",
      "metadata": {
        "id": "F7YpU1YyIiNx"
      },
      "source": [
        "P(Y = 1) = ?"
      ]
    },
    {
      "cell_type": "code",
      "execution_count": 19,
      "metadata": {
        "colab": {
          "base_uri": "https://localhost:8080/"
        },
        "id": "IKUKG8VoIiNx",
        "outputId": "e4b783db-26c1-4a63-be18-205445211316"
      },
      "outputs": [
        {
          "output_type": "execute_result",
          "data": {
            "text/plain": [
              "0.36787944117144233"
            ]
          },
          "metadata": {},
          "execution_count": 19
        }
      ],
      "source": [
        "stats.poisson.pmf(k=1, mu=1)"
      ]
    },
    {
      "cell_type": "markdown",
      "metadata": {
        "id": "3biDen5zIiNx"
      },
      "source": [
        "P(Y = 2) = ?"
      ]
    },
    {
      "cell_type": "code",
      "execution_count": 20,
      "metadata": {
        "colab": {
          "base_uri": "https://localhost:8080/"
        },
        "id": "PfXLlnbWIiNy",
        "outputId": "e2f67883-3de4-4946-8147-92b700ed7fdc"
      },
      "outputs": [
        {
          "output_type": "execute_result",
          "data": {
            "text/plain": [
              "0.18393972058572114"
            ]
          },
          "metadata": {},
          "execution_count": 20
        }
      ],
      "source": [
        "stats.poisson.pmf(k=2, mu=1)"
      ]
    },
    {
      "cell_type": "markdown",
      "metadata": {
        "id": "C_wXkpErIiNy"
      },
      "source": [
        "P(Y ≥ 1) = ?"
      ]
    },
    {
      "cell_type": "code",
      "execution_count": 21,
      "metadata": {
        "colab": {
          "base_uri": "https://localhost:8080/"
        },
        "id": "jtT-DofgIiNz",
        "outputId": "6c909a57-7a35-4a65-fd9a-33fd0292748a"
      },
      "outputs": [
        {
          "output_type": "execute_result",
          "data": {
            "text/plain": [
              "0.6321205588285577"
            ]
          },
          "metadata": {},
          "execution_count": 21
        }
      ],
      "source": [
        "1 - stats.poisson.pmf(0, 1)"
      ]
    },
    {
      "cell_type": "code",
      "execution_count": 22,
      "metadata": {
        "colab": {
          "base_uri": "https://localhost:8080/"
        },
        "id": "MBssRX4XIiNz",
        "outputId": "4922fbfc-d986-4e41-aed1-b8e79b4acd54"
      },
      "outputs": [
        {
          "output_type": "execute_result",
          "data": {
            "text/plain": [
              "0.6321205588285576"
            ]
          },
          "metadata": {},
          "execution_count": 22
        }
      ],
      "source": [
        "1 - stats.poisson.cdf(0, 1)"
      ]
    },
    {
      "cell_type": "markdown",
      "metadata": {
        "id": "Ny3RCmWxIiN0"
      },
      "source": [
        "P(Y ≥ 3) = ?"
      ]
    },
    {
      "cell_type": "code",
      "execution_count": 23,
      "metadata": {
        "colab": {
          "base_uri": "https://localhost:8080/"
        },
        "id": "Udv0ypSZIiN0",
        "outputId": "ed317e48-9c63-4551-819b-829ad5e6b342"
      },
      "outputs": [
        {
          "output_type": "execute_result",
          "data": {
            "text/plain": [
              "0.08030139707139416"
            ]
          },
          "metadata": {},
          "execution_count": 23
        }
      ],
      "source": [
        "1 - stats.poisson.cdf(2, 1)"
      ]
    },
    {
      "cell_type": "markdown",
      "metadata": {
        "id": "b4Tm1CxAIiN0"
      },
      "source": [
        "## Normal Distribution\n",
        "*Source: Wackerly, D., Mendenhall, W., & Scheaffer, R. L. (2014). Mathematical statistics with applications. Cengage Learning.*"
      ]
    },
    {
      "cell_type": "markdown",
      "metadata": {
        "id": "MTdfgO5tIiN1"
      },
      "source": [
        "**Exercise 4.74**\n",
        "\n",
        "Scores on an examination are assumed to be normally distributed with mean 78 and variance 36."
      ]
    },
    {
      "cell_type": "markdown",
      "metadata": {
        "id": "Z3z8I8-pIiN1"
      },
      "source": [
        "a. What is the probability that a person taking the examination scores higher than 72?"
      ]
    },
    {
      "cell_type": "markdown",
      "metadata": {
        "id": "6HpYCft6IiN2"
      },
      "source": [
        "this is P(X>72)"
      ]
    },
    {
      "cell_type": "code",
      "execution_count": 24,
      "metadata": {
        "id": "RL7B4ysEIiN2"
      },
      "outputs": [],
      "source": [
        "mu = 78\n",
        "sigma = np.sqrt(36)\n",
        "x = 72"
      ]
    },
    {
      "cell_type": "code",
      "execution_count": 25,
      "metadata": {
        "colab": {
          "base_uri": "https://localhost:8080/"
        },
        "id": "WLxHAMgsIiN3",
        "outputId": "3cb5ae8a-6465-46a6-8acc-3ab47e5150c9"
      },
      "outputs": [
        {
          "output_type": "execute_result",
          "data": {
            "text/plain": [
              "0.8413447460685429"
            ]
          },
          "metadata": {},
          "execution_count": 25
        }
      ],
      "source": [
        "1 - stats.norm.cdf(x, loc=mu, scale=sigma)"
      ]
    },
    {
      "cell_type": "markdown",
      "metadata": {
        "id": "wjTP0NlzIiN3"
      },
      "source": [
        "b. Suppose that students scoring in the top 10% of this distribution are to receive an A grade.\n",
        "What is the minimum score a student must achieve to earn an A grade?"
      ]
    },
    {
      "cell_type": "code",
      "execution_count": 26,
      "metadata": {
        "id": "YDd8ZYevIiN4"
      },
      "outputs": [],
      "source": [
        "q = 1 - 0.1  #90%"
      ]
    },
    {
      "cell_type": "code",
      "execution_count": 27,
      "metadata": {
        "colab": {
          "base_uri": "https://localhost:8080/"
        },
        "id": "LYfmwyyoIiN4",
        "outputId": "d24065b7-1ffb-4926-8ec9-ded2387e9f39"
      },
      "outputs": [
        {
          "output_type": "execute_result",
          "data": {
            "text/plain": [
              "1.2815515655446004"
            ]
          },
          "metadata": {},
          "execution_count": 27
        }
      ],
      "source": [
        "stats.norm.ppf(q)  #corresponding z-score"
      ]
    },
    {
      "cell_type": "code",
      "execution_count": 28,
      "metadata": {
        "colab": {
          "base_uri": "https://localhost:8080/"
        },
        "id": "ODZy9fIuIiN4",
        "outputId": "84df5e97-83f0-4475-f2a3-7ed48ad0f107"
      },
      "outputs": [
        {
          "output_type": "execute_result",
          "data": {
            "text/plain": [
              "85.6893093932676"
            ]
          },
          "metadata": {},
          "execution_count": 28
        }
      ],
      "source": [
        "#stats.norm.ppf(q, mu, sigma)\n",
        "stats.norm.ppf(q, loc=78, scale=6)"
      ]
    },
    {
      "cell_type": "markdown",
      "metadata": {
        "id": "_bJqmgH3IiN5"
      },
      "source": [
        "c. What must be the cutoff point for passing the examination if the examiner wants only the\n",
        "top 28.1% of all scores to be passing?"
      ]
    },
    {
      "cell_type": "code",
      "execution_count": 29,
      "metadata": {
        "id": "_H6QsuXcIiN5"
      },
      "outputs": [],
      "source": [
        "q = 1 - 0.281"
      ]
    },
    {
      "cell_type": "code",
      "execution_count": 30,
      "metadata": {
        "colab": {
          "base_uri": "https://localhost:8080/"
        },
        "id": "VUwxUfZaIiN5",
        "outputId": "9a934175-7804-4d64-fee1-2da308e78845"
      },
      "outputs": [
        {
          "output_type": "execute_result",
          "data": {
            "text/plain": [
              "81.47924035456623"
            ]
          },
          "metadata": {},
          "execution_count": 30
        }
      ],
      "source": [
        "stats.norm.ppf(q, mu, sigma)"
      ]
    },
    {
      "cell_type": "markdown",
      "metadata": {
        "id": "YfEc1OnRIiN6"
      },
      "source": [
        "d. Approximately what proportion of students have scores 5 or more points above the score\n",
        "that cuts off the lowest 25%?"
      ]
    },
    {
      "cell_type": "code",
      "execution_count": null,
      "metadata": {
        "id": "Icer1MHMIiN6"
      },
      "outputs": [],
      "source": [
        "q1 =  #HOMEWORK\n",
        "x1 = "
      ]
    },
    {
      "cell_type": "code",
      "execution_count": null,
      "metadata": {
        "id": "VjayWXg8IiN7"
      },
      "outputs": [],
      "source": [
        "#0.43689605516226615"
      ]
    },
    {
      "cell_type": "markdown",
      "metadata": {
        "id": "K5nx8IagIiN7"
      },
      "source": [
        "*OPTIONAL*\n",
        "\n",
        "f. If it is known that a student’s score exceeds 72, what is the probability that his or her score\n",
        "exceeds 84? "
      ]
    },
    {
      "cell_type": "code",
      "execution_count": null,
      "metadata": {
        "id": "tJGvSuwqIiN7"
      },
      "outputs": [],
      "source": [
        ""
      ]
    },
    {
      "cell_type": "markdown",
      "metadata": {
        "id": "ssoeTT-kIiN8"
      },
      "source": [
        "## t Distribution\n",
        "*Lane, D. (2006). Online statistics education: a multimedia course of study (http://onlinestatbook.com/). Rice University.*"
      ]
    },
    {
      "cell_type": "markdown",
      "metadata": {
        "id": "6iaYDmOiIiN8"
      },
      "source": [
        "For a t distribution with 15 degrees of freedom, 90% of the distribution is within how many standard deviations of the mean?"
      ]
    },
    {
      "cell_type": "code",
      "execution_count": 31,
      "metadata": {
        "id": "mrDJxSQUIiN8"
      },
      "outputs": [],
      "source": [
        "dof = 15\n",
        "q = 0.05"
      ]
    },
    {
      "cell_type": "code",
      "execution_count": 32,
      "metadata": {
        "colab": {
          "base_uri": "https://localhost:8080/"
        },
        "id": "dmlN15yAIiN9",
        "outputId": "da86ef4c-3c21-40a5-ed0f-4952df6887f3"
      },
      "outputs": [
        {
          "output_type": "execute_result",
          "data": {
            "text/plain": [
              "-1.7530503556925552"
            ]
          },
          "metadata": {},
          "execution_count": 32
        }
      ],
      "source": [
        "stats.t.ppf(q, dof)"
      ]
    },
    {
      "cell_type": "markdown",
      "metadata": {
        "id": "lG55brSsIiN9"
      },
      "source": [
        "## Confidence Intervals Using the Normal Distribution"
      ]
    },
    {
      "cell_type": "markdown",
      "metadata": {
        "id": "M9VfMZOeIiN-"
      },
      "source": [
        "If we’re working with larger samples (n≥30), we can assume that the sampling distribution of the sample mean is normally distributed (thanks to the Central Limit Theorem) and can instead use the norm.interval() function from the scipy.stats library."
      ]
    },
    {
      "cell_type": "code",
      "execution_count": null,
      "metadata": {
        "id": "viw4_cczIiN-"
      },
      "outputs": [],
      "source": [
        "sns.get_dataset_names()"
      ]
    },
    {
      "cell_type": "markdown",
      "metadata": {
        "id": "yA_ME92iIiN-"
      },
      "source": [
        "1. Load \"tips\" dataset from Seaborn library"
      ]
    },
    {
      "cell_type": "code",
      "execution_count": null,
      "metadata": {
        "id": "c7bWsDecIiN_"
      },
      "outputs": [],
      "source": [
        ""
      ]
    },
    {
      "cell_type": "markdown",
      "metadata": {
        "id": "4E2_KAphIiN_"
      },
      "source": [
        "2. Draw a set of vertical bar plots (based on \"total_bill\") grouped by \"day\" variable:"
      ]
    },
    {
      "cell_type": "code",
      "execution_count": null,
      "metadata": {
        "id": "dBIH7QzgIiN_"
      },
      "outputs": [],
      "source": [
        ""
      ]
    },
    {
      "cell_type": "markdown",
      "metadata": {
        "id": "DFlcerEfIiOA"
      },
      "source": [
        "3. Subset a dataframe just including Sunday tips"
      ]
    },
    {
      "cell_type": "code",
      "execution_count": null,
      "metadata": {
        "id": "PeyIrnSYIiOA"
      },
      "outputs": [],
      "source": [
        ""
      ]
    },
    {
      "cell_type": "markdown",
      "metadata": {
        "id": "xexZAiWwIiOA"
      },
      "source": [
        "4. Calculate mean and std"
      ]
    },
    {
      "cell_type": "code",
      "execution_count": null,
      "metadata": {
        "id": "IWkDHTD_IiOB"
      },
      "outputs": [],
      "source": [
        ""
      ]
    },
    {
      "cell_type": "code",
      "execution_count": null,
      "metadata": {
        "id": "5fA0LcuoIiOB"
      },
      "outputs": [],
      "source": [
        ""
      ]
    },
    {
      "cell_type": "markdown",
      "metadata": {
        "id": "weCROyomIiOB"
      },
      "source": [
        "5. Calculate standart error of the mean"
      ]
    },
    {
      "cell_type": "code",
      "execution_count": null,
      "metadata": {
        "id": "JRJZpyHYIiOB"
      },
      "outputs": [],
      "source": [
        ""
      ]
    },
    {
      "cell_type": "code",
      "execution_count": null,
      "metadata": {
        "id": "C02n6FQMIiOC"
      },
      "outputs": [],
      "source": [
        ""
      ]
    },
    {
      "cell_type": "markdown",
      "metadata": {
        "id": "XKwfXAxtIiOC"
      },
      "source": [
        "6. Calculate the margin of error (95%)"
      ]
    },
    {
      "cell_type": "code",
      "execution_count": null,
      "metadata": {
        "id": "Vjc_j4AnIiOC"
      },
      "outputs": [],
      "source": [
        ""
      ]
    },
    {
      "cell_type": "markdown",
      "metadata": {
        "id": "4LG3U8GHIiOC"
      },
      "source": [
        "7. Calculate the upper confidence limit"
      ]
    },
    {
      "cell_type": "code",
      "execution_count": null,
      "metadata": {
        "id": "AR-AGn_5IiOD"
      },
      "outputs": [],
      "source": [
        ""
      ]
    },
    {
      "cell_type": "markdown",
      "metadata": {
        "id": "DXoO6OLVIiOD"
      },
      "source": [
        "8. Calculate the lower confidence limit"
      ]
    },
    {
      "cell_type": "code",
      "execution_count": null,
      "metadata": {
        "id": "PUeXZEyVIiOD"
      },
      "outputs": [],
      "source": [
        ""
      ]
    },
    {
      "cell_type": "markdown",
      "metadata": {
        "id": "H9lqmcsUIiOE"
      },
      "source": [
        "9. Calculate 95% Confidence Interval around the mean by using scipy.stats"
      ]
    },
    {
      "cell_type": "code",
      "execution_count": null,
      "metadata": {
        "id": "LG7Ncp_uIiOE"
      },
      "outputs": [],
      "source": [
        ""
      ]
    },
    {
      "cell_type": "markdown",
      "metadata": {
        "id": "gQTpJB0hIiOE"
      },
      "source": [
        "### Exercise 8.7 (Large Samples)\n",
        "*Source: Wackerly, D., Mendenhall, W., & Scheaffer, R. L. (2014). Mathematical statistics with applications. Cengage Learning.*"
      ]
    },
    {
      "cell_type": "markdown",
      "metadata": {
        "id": "KdVryAn6IiOF"
      },
      "source": [
        "- The shopping times of n = 64 randomly selected customers at a local supermarket were recorded. \n",
        "\n",
        "- The average and variance of the 64 shopping times were 33 $minutes$ and 256 $minutes^2$, respectively. \n",
        "\n",
        "- Estimate μ, the true average shopping time per customer, with a confidence coefficient of 1 − α = .90."
      ]
    },
    {
      "cell_type": "markdown",
      "metadata": {
        "id": "kPDsOB10IiOG"
      },
      "source": [
        "![image.png](attachment:image.png)"
      ]
    },
    {
      "cell_type": "code",
      "execution_count": null,
      "metadata": {
        "id": "w8HkI5cKIiOI"
      },
      "outputs": [],
      "source": [
        "n = \n",
        "xbar = \n",
        "var = \n",
        "ci = \n",
        "s = \n",
        "\n",
        "sem = "
      ]
    },
    {
      "cell_type": "code",
      "execution_count": null,
      "metadata": {
        "id": "qT7tGv72IiOJ"
      },
      "outputs": [],
      "source": [
        "stats.norm."
      ]
    },
    {
      "cell_type": "code",
      "execution_count": null,
      "metadata": {
        "id": "86rkxzs9IiOJ"
      },
      "outputs": [],
      "source": [
        ""
      ]
    },
    {
      "cell_type": "markdown",
      "metadata": {
        "id": "solK5Mx0IiOK"
      },
      "source": [
        "### Exercise 8.11 (Small Samples)\n",
        "*Source: Wackerly, D., Mendenhall, W., & Scheaffer, R. L. (2014). Mathematical statistics with applications. Cengage Learning.*"
      ]
    },
    {
      "cell_type": "markdown",
      "metadata": {
        "id": "5IosRIn1IiOL"
      },
      "source": [
        "A manufacturer of gunpowder has developed a new powder, which was tested in eight shells. The resulting muzzle velocities, in feet per second, were as follows:\n",
        "\n",
        "3005 2925 2935 2965\n",
        "\n",
        "2995 3005 2937 2905\n",
        "\n",
        "Find a 95% confidence interval for the true average velocity μ for shells of this type. Assume that muzzle velocities are approximately normally distributed."
      ]
    },
    {
      "cell_type": "markdown",
      "metadata": {
        "id": "Y2HmNXYFIiOL"
      },
      "source": [
        "![image.png](attachment:image.png)"
      ]
    },
    {
      "cell_type": "code",
      "execution_count": null,
      "metadata": {
        "id": "e9v8JZoZIiOM"
      },
      "outputs": [],
      "source": [
        "x = [3005, 2925, 2935, 2965, 2995, 3005, 2937, 2905]"
      ]
    },
    {
      "cell_type": "code",
      "execution_count": null,
      "metadata": {
        "id": "udsLsu6JIiOM"
      },
      "outputs": [],
      "source": [
        "# Sample size\n",
        "n = \n",
        "\n",
        "# Sample mean\n",
        "xbar = \n",
        "\n",
        "# Sample standard deviation\n",
        "s = \n",
        "\n",
        "# Confidence level\n",
        "cl = "
      ]
    },
    {
      "cell_type": "code",
      "execution_count": null,
      "metadata": {
        "id": "ECYYaWWWIiOM"
      },
      "outputs": [],
      "source": [
        "stats.t."
      ]
    },
    {
      "cell_type": "code",
      "execution_count": null,
      "metadata": {
        "id": "2pjCJ12AIiON"
      },
      "outputs": [],
      "source": [
        ""
      ]
    },
    {
      "cell_type": "code",
      "execution_count": null,
      "metadata": {
        "id": "QN3yxE2XIiON"
      },
      "outputs": [],
      "source": [
        ""
      ]
    }
  ],
  "metadata": {
    "kernelspec": {
      "display_name": "Python 3",
      "language": "python",
      "name": "python3"
    },
    "language_info": {
      "codemirror_mode": {
        "name": "ipython",
        "version": 3
      },
      "file_extension": ".py",
      "mimetype": "text/x-python",
      "name": "python",
      "nbconvert_exporter": "python",
      "pygments_lexer": "ipython3",
      "version": "3.7.11"
    },
    "colab": {
      "name": "Statistics_Lab2_(Probability Distributions & CIs)_Jason_(EU)_18_Feb_2022-Student (1).ipynb",
      "provenance": [],
      "include_colab_link": true
    }
  },
  "nbformat": 4,
  "nbformat_minor": 0
}